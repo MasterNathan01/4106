{
  "nbformat": 4,
  "nbformat_minor": 0,
  "metadata": {
    "colab": {
      "provenance": [],
      "gpuType": "L4",
      "machine_shape": "hm",
      "authorship_tag": "ABX9TyMhOlW0w8UZiJDpzJYR0kmX",
      "include_colab_link": true
    },
    "kernelspec": {
      "name": "python3",
      "display_name": "Python 3"
    },
    "language_info": {
      "name": "python"
    },
    "accelerator": "GPU"
  },
  "cells": [
    {
      "cell_type": "markdown",
      "metadata": {
        "id": "view-in-github",
        "colab_type": "text"
      },
      "source": [
        "<a href=\"https://colab.research.google.com/github/MasterNathan01/4106/blob/main/WatersNathan_801283595_HW2.ipynb\" target=\"_parent\"><img src=\"https://colab.research.google.com/assets/colab-badge.svg\" alt=\"Open In Colab\"/></a>"
      ]
    },
    {
      "cell_type": "code",
      "execution_count": 1,
      "metadata": {
        "colab": {
          "base_uri": "https://localhost:8080/",
          "height": 1000
        },
        "id": "eykvxBv8viO9",
        "outputId": "a668e50a-897d-4e5b-de2e-baf7a8087792"
      },
      "outputs": [
        {
          "output_type": "stream",
          "name": "stdout",
          "text": [
            "Downloading https://www.cs.toronto.edu/~kriz/cifar-10-python.tar.gz to ./data/cifar-10-python.tar.gz\n"
          ]
        },
        {
          "output_type": "stream",
          "name": "stderr",
          "text": [
            "100%|██████████| 170M/170M [00:13<00:00, 12.6MB/s]\n"
          ]
        },
        {
          "output_type": "stream",
          "name": "stdout",
          "text": [
            "Extracting ./data/cifar-10-python.tar.gz to ./data\n",
            "Files already downloaded and verified\n",
            "Training with Dropout:\n"
          ]
        },
        {
          "output_type": "stream",
          "name": "stderr",
          "text": []
        },
        {
          "output_type": "stream",
          "name": "stdout",
          "text": [
            "Epoch 01 | Train Loss: 2.1624 | Val Loss: 1.8497 | Val Acc: 31.24%\n"
          ]
        },
        {
          "output_type": "stream",
          "name": "stderr",
          "text": []
        },
        {
          "output_type": "stream",
          "name": "stdout",
          "text": [
            "Epoch 02 | Train Loss: 1.7608 | Val Loss: 1.5411 | Val Acc: 42.34%\n"
          ]
        },
        {
          "output_type": "stream",
          "name": "stderr",
          "text": []
        },
        {
          "output_type": "stream",
          "name": "stdout",
          "text": [
            "Epoch 03 | Train Loss: 1.5353 | Val Loss: 1.4845 | Val Acc: 46.76%\n"
          ]
        },
        {
          "output_type": "stream",
          "name": "stderr",
          "text": []
        },
        {
          "output_type": "stream",
          "name": "stdout",
          "text": [
            "Epoch 04 | Train Loss: 1.3536 | Val Loss: 1.2951 | Val Acc: 52.54%\n"
          ]
        },
        {
          "output_type": "stream",
          "name": "stderr",
          "text": []
        },
        {
          "output_type": "stream",
          "name": "stdout",
          "text": [
            "Epoch 05 | Train Loss: 1.1877 | Val Loss: 1.1168 | Val Acc: 59.27%\n"
          ]
        },
        {
          "output_type": "stream",
          "name": "stderr",
          "text": []
        },
        {
          "output_type": "stream",
          "name": "stdout",
          "text": [
            "Epoch 06 | Train Loss: 1.0544 | Val Loss: 0.9263 | Val Acc: 67.03%\n"
          ]
        },
        {
          "output_type": "stream",
          "name": "stderr",
          "text": []
        },
        {
          "output_type": "stream",
          "name": "stdout",
          "text": [
            "Epoch 07 | Train Loss: 0.9547 | Val Loss: 0.8848 | Val Acc: 68.99%\n"
          ]
        },
        {
          "output_type": "stream",
          "name": "stderr",
          "text": []
        },
        {
          "output_type": "stream",
          "name": "stdout",
          "text": [
            "Epoch 08 | Train Loss: 0.8715 | Val Loss: 0.8239 | Val Acc: 70.83%\n"
          ]
        },
        {
          "output_type": "stream",
          "name": "stderr",
          "text": []
        },
        {
          "output_type": "stream",
          "name": "stdout",
          "text": [
            "Epoch 09 | Train Loss: 0.8046 | Val Loss: 0.7484 | Val Acc: 73.85%\n"
          ]
        },
        {
          "output_type": "stream",
          "name": "stderr",
          "text": []
        },
        {
          "output_type": "stream",
          "name": "stdout",
          "text": [
            "Epoch 10 | Train Loss: 0.7486 | Val Loss: 0.6791 | Val Acc: 76.03%\n"
          ]
        },
        {
          "output_type": "stream",
          "name": "stderr",
          "text": []
        },
        {
          "output_type": "stream",
          "name": "stdout",
          "text": [
            "Epoch 11 | Train Loss: 0.6913 | Val Loss: 0.7059 | Val Acc: 75.48%\n"
          ]
        },
        {
          "output_type": "stream",
          "name": "stderr",
          "text": []
        },
        {
          "output_type": "stream",
          "name": "stdout",
          "text": [
            "Epoch 12 | Train Loss: 0.6520 | Val Loss: 0.6179 | Val Acc: 78.60%\n"
          ]
        },
        {
          "output_type": "stream",
          "name": "stderr",
          "text": []
        },
        {
          "output_type": "stream",
          "name": "stdout",
          "text": [
            "Epoch 13 | Train Loss: 0.6133 | Val Loss: 0.6045 | Val Acc: 78.83%\n"
          ]
        },
        {
          "output_type": "stream",
          "name": "stderr",
          "text": []
        },
        {
          "output_type": "stream",
          "name": "stdout",
          "text": [
            "Epoch 14 | Train Loss: 0.5785 | Val Loss: 0.5872 | Val Acc: 80.33%\n"
          ]
        },
        {
          "output_type": "stream",
          "name": "stderr",
          "text": []
        },
        {
          "output_type": "stream",
          "name": "stdout",
          "text": [
            "Epoch 15 | Train Loss: 0.5444 | Val Loss: 0.5642 | Val Acc: 80.81%\n"
          ]
        },
        {
          "output_type": "stream",
          "name": "stderr",
          "text": []
        },
        {
          "output_type": "stream",
          "name": "stdout",
          "text": [
            "Epoch 16 | Train Loss: 0.5141 | Val Loss: 0.5295 | Val Acc: 81.92%\n"
          ]
        },
        {
          "output_type": "stream",
          "name": "stderr",
          "text": []
        },
        {
          "output_type": "stream",
          "name": "stdout",
          "text": [
            "Epoch 17 | Train Loss: 0.4911 | Val Loss: 0.5668 | Val Acc: 80.90%\n"
          ]
        },
        {
          "output_type": "stream",
          "name": "stderr",
          "text": []
        },
        {
          "output_type": "stream",
          "name": "stdout",
          "text": [
            "Epoch 18 | Train Loss: 0.4643 | Val Loss: 0.5296 | Val Acc: 82.32%\n"
          ]
        },
        {
          "output_type": "stream",
          "name": "stderr",
          "text": []
        },
        {
          "output_type": "stream",
          "name": "stdout",
          "text": [
            "Epoch 19 | Train Loss: 0.4507 | Val Loss: 0.4836 | Val Acc: 83.63%\n"
          ]
        },
        {
          "output_type": "stream",
          "name": "stderr",
          "text": []
        },
        {
          "output_type": "stream",
          "name": "stdout",
          "text": [
            "Epoch 20 | Train Loss: 0.4217 | Val Loss: 0.5052 | Val Acc: 83.14%\n"
          ]
        },
        {
          "output_type": "stream",
          "name": "stderr",
          "text": []
        },
        {
          "output_type": "stream",
          "name": "stdout",
          "text": [
            "Epoch 21 | Train Loss: 0.4001 | Val Loss: 0.5047 | Val Acc: 83.11%\n"
          ]
        },
        {
          "output_type": "stream",
          "name": "stderr",
          "text": []
        },
        {
          "output_type": "stream",
          "name": "stdout",
          "text": [
            "Epoch 22 | Train Loss: 0.3839 | Val Loss: 0.4675 | Val Acc: 84.10%\n"
          ]
        },
        {
          "output_type": "stream",
          "name": "stderr",
          "text": []
        },
        {
          "output_type": "stream",
          "name": "stdout",
          "text": [
            "Epoch 23 | Train Loss: 0.3744 | Val Loss: 0.4239 | Val Acc: 85.46%\n"
          ]
        },
        {
          "output_type": "stream",
          "name": "stderr",
          "text": []
        },
        {
          "output_type": "stream",
          "name": "stdout",
          "text": [
            "Epoch 24 | Train Loss: 0.3560 | Val Loss: 0.4370 | Val Acc: 85.52%\n"
          ]
        },
        {
          "output_type": "stream",
          "name": "stderr",
          "text": []
        },
        {
          "output_type": "stream",
          "name": "stdout",
          "text": [
            "Epoch 25 | Train Loss: 0.3375 | Val Loss: 0.4764 | Val Acc: 84.09%\n"
          ]
        },
        {
          "output_type": "stream",
          "name": "stderr",
          "text": []
        },
        {
          "output_type": "stream",
          "name": "stdout",
          "text": [
            "Epoch 26 | Train Loss: 0.3302 | Val Loss: 0.4623 | Val Acc: 85.12%\n"
          ]
        },
        {
          "output_type": "stream",
          "name": "stderr",
          "text": []
        },
        {
          "output_type": "stream",
          "name": "stdout",
          "text": [
            "Epoch 27 | Train Loss: 0.3131 | Val Loss: 0.4497 | Val Acc: 85.65%\n"
          ]
        },
        {
          "output_type": "stream",
          "name": "stderr",
          "text": []
        },
        {
          "output_type": "stream",
          "name": "stdout",
          "text": [
            "Epoch 28 | Train Loss: 0.3019 | Val Loss: 0.4426 | Val Acc: 86.08%\n"
          ]
        },
        {
          "output_type": "stream",
          "name": "stderr",
          "text": []
        },
        {
          "output_type": "stream",
          "name": "stdout",
          "text": [
            "Epoch 29 | Train Loss: 0.2924 | Val Loss: 0.4646 | Val Acc: 85.17%\n"
          ]
        },
        {
          "output_type": "stream",
          "name": "stderr",
          "text": []
        },
        {
          "output_type": "stream",
          "name": "stdout",
          "text": [
            "Epoch 30 | Train Loss: 0.2831 | Val Loss: 0.4269 | Val Acc: 86.66%\n"
          ]
        },
        {
          "output_type": "stream",
          "name": "stderr",
          "text": []
        },
        {
          "output_type": "stream",
          "name": "stdout",
          "text": [
            "Epoch 31 | Train Loss: 0.1896 | Val Loss: 0.3602 | Val Acc: 88.75%\n"
          ]
        },
        {
          "output_type": "stream",
          "name": "stderr",
          "text": []
        },
        {
          "output_type": "stream",
          "name": "stdout",
          "text": [
            "Epoch 32 | Train Loss: 0.1660 | Val Loss: 0.3621 | Val Acc: 88.73%\n"
          ]
        },
        {
          "output_type": "stream",
          "name": "stderr",
          "text": []
        },
        {
          "output_type": "stream",
          "name": "stdout",
          "text": [
            "Epoch 33 | Train Loss: 0.1578 | Val Loss: 0.3668 | Val Acc: 88.73%\n"
          ]
        },
        {
          "output_type": "stream",
          "name": "stderr",
          "text": []
        },
        {
          "output_type": "stream",
          "name": "stdout",
          "text": [
            "Epoch 34 | Train Loss: 0.1490 | Val Loss: 0.3631 | Val Acc: 88.84%\n"
          ]
        },
        {
          "output_type": "stream",
          "name": "stderr",
          "text": []
        },
        {
          "output_type": "stream",
          "name": "stdout",
          "text": [
            "Epoch 35 | Train Loss: 0.1442 | Val Loss: 0.3709 | Val Acc: 88.72%\n"
          ]
        },
        {
          "output_type": "stream",
          "name": "stderr",
          "text": []
        },
        {
          "output_type": "stream",
          "name": "stdout",
          "text": [
            "Epoch 36 | Train Loss: 0.1396 | Val Loss: 0.3751 | Val Acc: 88.59%\n"
          ]
        },
        {
          "output_type": "stream",
          "name": "stderr",
          "text": []
        },
        {
          "output_type": "stream",
          "name": "stdout",
          "text": [
            "Epoch 37 | Train Loss: 0.1349 | Val Loss: 0.3811 | Val Acc: 88.70%\n"
          ]
        },
        {
          "output_type": "stream",
          "name": "stderr",
          "text": []
        },
        {
          "output_type": "stream",
          "name": "stdout",
          "text": [
            "Epoch 38 | Train Loss: 0.1319 | Val Loss: 0.3770 | Val Acc: 88.61%\n"
          ]
        },
        {
          "output_type": "stream",
          "name": "stderr",
          "text": []
        },
        {
          "output_type": "stream",
          "name": "stdout",
          "text": [
            "Epoch 39 | Train Loss: 0.1279 | Val Loss: 0.3722 | Val Acc: 88.90%\n"
          ]
        },
        {
          "output_type": "stream",
          "name": "stderr",
          "text": []
        },
        {
          "output_type": "stream",
          "name": "stdout",
          "text": [
            "Epoch 40 | Train Loss: 0.1233 | Val Loss: 0.3814 | Val Acc: 88.67%\n"
          ]
        },
        {
          "output_type": "stream",
          "name": "stderr",
          "text": []
        },
        {
          "output_type": "stream",
          "name": "stdout",
          "text": [
            "Epoch 41 | Train Loss: 0.1214 | Val Loss: 0.3855 | Val Acc: 88.77%\n"
          ]
        },
        {
          "output_type": "stream",
          "name": "stderr",
          "text": []
        },
        {
          "output_type": "stream",
          "name": "stdout",
          "text": [
            "Epoch 42 | Train Loss: 0.1191 | Val Loss: 0.3873 | Val Acc: 88.60%\n"
          ]
        },
        {
          "output_type": "stream",
          "name": "stderr",
          "text": []
        },
        {
          "output_type": "stream",
          "name": "stdout",
          "text": [
            "Epoch 43 | Train Loss: 0.1150 | Val Loss: 0.3847 | Val Acc: 88.70%\n"
          ]
        },
        {
          "output_type": "stream",
          "name": "stderr",
          "text": []
        },
        {
          "output_type": "stream",
          "name": "stdout",
          "text": [
            "Epoch 44 | Train Loss: 0.1116 | Val Loss: 0.3852 | Val Acc: 88.66%\n"
          ]
        },
        {
          "output_type": "stream",
          "name": "stderr",
          "text": []
        },
        {
          "output_type": "stream",
          "name": "stdout",
          "text": [
            "Epoch 45 | Train Loss: 0.1123 | Val Loss: 0.3902 | Val Acc: 88.72%\n"
          ]
        },
        {
          "output_type": "stream",
          "name": "stderr",
          "text": []
        },
        {
          "output_type": "stream",
          "name": "stdout",
          "text": [
            "Epoch 46 | Train Loss: 0.1093 | Val Loss: 0.3906 | Val Acc: 88.64%\n"
          ]
        },
        {
          "output_type": "stream",
          "name": "stderr",
          "text": []
        },
        {
          "output_type": "stream",
          "name": "stdout",
          "text": [
            "Epoch 47 | Train Loss: 0.1034 | Val Loss: 0.3931 | Val Acc: 88.74%\n"
          ]
        },
        {
          "output_type": "stream",
          "name": "stderr",
          "text": []
        },
        {
          "output_type": "stream",
          "name": "stdout",
          "text": [
            "Epoch 48 | Train Loss: 0.1020 | Val Loss: 0.3974 | Val Acc: 88.75%\n"
          ]
        },
        {
          "output_type": "stream",
          "name": "stderr",
          "text": []
        },
        {
          "output_type": "stream",
          "name": "stdout",
          "text": [
            "Epoch 49 | Train Loss: 0.1007 | Val Loss: 0.4044 | Val Acc: 88.64%\n"
          ]
        },
        {
          "output_type": "stream",
          "name": "stderr",
          "text": []
        },
        {
          "output_type": "stream",
          "name": "stdout",
          "text": [
            "Epoch 50 | Train Loss: 0.0981 | Val Loss: 0.4020 | Val Acc: 88.70%\n",
            "\n",
            "Training without Dropout:\n"
          ]
        },
        {
          "output_type": "stream",
          "name": "stderr",
          "text": []
        },
        {
          "output_type": "stream",
          "name": "stdout",
          "text": [
            "Epoch 01 | Train Loss: 2.1086 | Val Loss: 1.7453 | Val Acc: 34.50%\n"
          ]
        },
        {
          "output_type": "stream",
          "name": "stderr",
          "text": []
        },
        {
          "output_type": "stream",
          "name": "stdout",
          "text": [
            "Epoch 02 | Train Loss: 1.6707 | Val Loss: 1.5144 | Val Acc: 42.57%\n"
          ]
        },
        {
          "output_type": "stream",
          "name": "stderr",
          "text": []
        },
        {
          "output_type": "stream",
          "name": "stdout",
          "text": [
            "Epoch 03 | Train Loss: 1.4459 | Val Loss: 1.2795 | Val Acc: 53.25%\n"
          ]
        },
        {
          "output_type": "stream",
          "name": "stderr",
          "text": []
        },
        {
          "output_type": "stream",
          "name": "stdout",
          "text": [
            "Epoch 04 | Train Loss: 1.2651 | Val Loss: 1.1218 | Val Acc: 59.95%\n"
          ]
        },
        {
          "output_type": "stream",
          "name": "stderr",
          "text": []
        },
        {
          "output_type": "stream",
          "name": "stdout",
          "text": [
            "Epoch 05 | Train Loss: 1.1181 | Val Loss: 0.9653 | Val Acc: 65.95%\n"
          ]
        },
        {
          "output_type": "stream",
          "name": "stderr",
          "text": []
        },
        {
          "output_type": "stream",
          "name": "stdout",
          "text": [
            "Epoch 06 | Train Loss: 0.9686 | Val Loss: 0.9609 | Val Acc: 65.86%\n"
          ]
        },
        {
          "output_type": "stream",
          "name": "stderr",
          "text": []
        },
        {
          "output_type": "stream",
          "name": "stdout",
          "text": [
            "Epoch 07 | Train Loss: 0.8670 | Val Loss: 0.7727 | Val Acc: 72.85%\n"
          ]
        },
        {
          "output_type": "stream",
          "name": "stderr",
          "text": []
        },
        {
          "output_type": "stream",
          "name": "stdout",
          "text": [
            "Epoch 08 | Train Loss: 0.7910 | Val Loss: 0.7368 | Val Acc: 74.05%\n"
          ]
        },
        {
          "output_type": "stream",
          "name": "stderr",
          "text": []
        },
        {
          "output_type": "stream",
          "name": "stdout",
          "text": [
            "Epoch 09 | Train Loss: 0.7306 | Val Loss: 0.6870 | Val Acc: 76.44%\n"
          ]
        },
        {
          "output_type": "stream",
          "name": "stderr",
          "text": []
        },
        {
          "output_type": "stream",
          "name": "stdout",
          "text": [
            "Epoch 10 | Train Loss: 0.6891 | Val Loss: 0.7571 | Val Acc: 74.64%\n"
          ]
        },
        {
          "output_type": "stream",
          "name": "stderr",
          "text": []
        },
        {
          "output_type": "stream",
          "name": "stdout",
          "text": [
            "Epoch 11 | Train Loss: 0.6382 | Val Loss: 0.6395 | Val Acc: 78.34%\n"
          ]
        },
        {
          "output_type": "stream",
          "name": "stderr",
          "text": []
        },
        {
          "output_type": "stream",
          "name": "stdout",
          "text": [
            "Epoch 12 | Train Loss: 0.5968 | Val Loss: 0.5887 | Val Acc: 79.75%\n"
          ]
        },
        {
          "output_type": "stream",
          "name": "stderr",
          "text": []
        },
        {
          "output_type": "stream",
          "name": "stdout",
          "text": [
            "Epoch 13 | Train Loss: 0.5628 | Val Loss: 0.5652 | Val Acc: 80.47%\n"
          ]
        },
        {
          "output_type": "stream",
          "name": "stderr",
          "text": []
        },
        {
          "output_type": "stream",
          "name": "stdout",
          "text": [
            "Epoch 14 | Train Loss: 0.5313 | Val Loss: 0.5574 | Val Acc: 80.89%\n"
          ]
        },
        {
          "output_type": "stream",
          "name": "stderr",
          "text": []
        },
        {
          "output_type": "stream",
          "name": "stdout",
          "text": [
            "Epoch 15 | Train Loss: 0.5054 | Val Loss: 0.5381 | Val Acc: 81.81%\n"
          ]
        },
        {
          "output_type": "stream",
          "name": "stderr",
          "text": []
        },
        {
          "output_type": "stream",
          "name": "stdout",
          "text": [
            "Epoch 16 | Train Loss: 0.4786 | Val Loss: 0.5018 | Val Acc: 82.99%\n"
          ]
        },
        {
          "output_type": "stream",
          "name": "stderr",
          "text": []
        },
        {
          "output_type": "stream",
          "name": "stdout",
          "text": [
            "Epoch 17 | Train Loss: 0.4503 | Val Loss: 0.4995 | Val Acc: 83.11%\n"
          ]
        },
        {
          "output_type": "stream",
          "name": "stderr",
          "text": []
        },
        {
          "output_type": "stream",
          "name": "stdout",
          "text": [
            "Epoch 18 | Train Loss: 0.4242 | Val Loss: 0.5035 | Val Acc: 82.87%\n"
          ]
        },
        {
          "output_type": "stream",
          "name": "stderr",
          "text": []
        },
        {
          "output_type": "stream",
          "name": "stdout",
          "text": [
            "Epoch 19 | Train Loss: 0.4097 | Val Loss: 0.5111 | Val Acc: 83.00%\n"
          ]
        },
        {
          "output_type": "stream",
          "name": "stderr",
          "text": []
        },
        {
          "output_type": "stream",
          "name": "stdout",
          "text": [
            "Epoch 20 | Train Loss: 0.3869 | Val Loss: 0.4559 | Val Acc: 84.80%\n"
          ]
        },
        {
          "output_type": "stream",
          "name": "stderr",
          "text": []
        },
        {
          "output_type": "stream",
          "name": "stdout",
          "text": [
            "Epoch 21 | Train Loss: 0.3753 | Val Loss: 0.4799 | Val Acc: 83.73%\n"
          ]
        },
        {
          "output_type": "stream",
          "name": "stderr",
          "text": []
        },
        {
          "output_type": "stream",
          "name": "stdout",
          "text": [
            "Epoch 22 | Train Loss: 0.3565 | Val Loss: 0.4377 | Val Acc: 85.39%\n"
          ]
        },
        {
          "output_type": "stream",
          "name": "stderr",
          "text": []
        },
        {
          "output_type": "stream",
          "name": "stdout",
          "text": [
            "Epoch 23 | Train Loss: 0.3424 | Val Loss: 0.4480 | Val Acc: 85.23%\n"
          ]
        },
        {
          "output_type": "stream",
          "name": "stderr",
          "text": []
        },
        {
          "output_type": "stream",
          "name": "stdout",
          "text": [
            "Epoch 24 | Train Loss: 0.3217 | Val Loss: 0.4916 | Val Acc: 83.92%\n"
          ]
        },
        {
          "output_type": "stream",
          "name": "stderr",
          "text": []
        },
        {
          "output_type": "stream",
          "name": "stdout",
          "text": [
            "Epoch 25 | Train Loss: 0.3160 | Val Loss: 0.4202 | Val Acc: 86.28%\n"
          ]
        },
        {
          "output_type": "stream",
          "name": "stderr",
          "text": []
        },
        {
          "output_type": "stream",
          "name": "stdout",
          "text": [
            "Epoch 26 | Train Loss: 0.2961 | Val Loss: 0.4604 | Val Acc: 84.75%\n"
          ]
        },
        {
          "output_type": "stream",
          "name": "stderr",
          "text": []
        },
        {
          "output_type": "stream",
          "name": "stdout",
          "text": [
            "Epoch 27 | Train Loss: 0.2917 | Val Loss: 0.4579 | Val Acc: 85.15%\n"
          ]
        },
        {
          "output_type": "stream",
          "name": "stderr",
          "text": []
        },
        {
          "output_type": "stream",
          "name": "stdout",
          "text": [
            "Epoch 28 | Train Loss: 0.2796 | Val Loss: 0.4461 | Val Acc: 86.33%\n"
          ]
        },
        {
          "output_type": "stream",
          "name": "stderr",
          "text": []
        },
        {
          "output_type": "stream",
          "name": "stdout",
          "text": [
            "Epoch 29 | Train Loss: 0.2659 | Val Loss: 0.4208 | Val Acc: 86.13%\n"
          ]
        },
        {
          "output_type": "stream",
          "name": "stderr",
          "text": []
        },
        {
          "output_type": "stream",
          "name": "stdout",
          "text": [
            "Epoch 30 | Train Loss: 0.2547 | Val Loss: 0.4078 | Val Acc: 86.76%\n"
          ]
        },
        {
          "output_type": "stream",
          "name": "stderr",
          "text": []
        },
        {
          "output_type": "stream",
          "name": "stdout",
          "text": [
            "Epoch 31 | Train Loss: 0.1637 | Val Loss: 0.3610 | Val Acc: 88.69%\n"
          ]
        },
        {
          "output_type": "stream",
          "name": "stderr",
          "text": []
        },
        {
          "output_type": "stream",
          "name": "stdout",
          "text": [
            "Epoch 32 | Train Loss: 0.1420 | Val Loss: 0.3623 | Val Acc: 89.00%\n"
          ]
        },
        {
          "output_type": "stream",
          "name": "stderr",
          "text": []
        },
        {
          "output_type": "stream",
          "name": "stdout",
          "text": [
            "Epoch 33 | Train Loss: 0.1342 | Val Loss: 0.3651 | Val Acc: 88.96%\n"
          ]
        },
        {
          "output_type": "stream",
          "name": "stderr",
          "text": []
        },
        {
          "output_type": "stream",
          "name": "stdout",
          "text": [
            "Epoch 34 | Train Loss: 0.1278 | Val Loss: 0.3678 | Val Acc: 88.73%\n"
          ]
        },
        {
          "output_type": "stream",
          "name": "stderr",
          "text": []
        },
        {
          "output_type": "stream",
          "name": "stdout",
          "text": [
            "Epoch 35 | Train Loss: 0.1282 | Val Loss: 0.3649 | Val Acc: 88.78%\n"
          ]
        },
        {
          "output_type": "stream",
          "name": "stderr",
          "text": []
        },
        {
          "output_type": "stream",
          "name": "stdout",
          "text": [
            "Epoch 36 | Train Loss: 0.1204 | Val Loss: 0.3700 | Val Acc: 89.03%\n"
          ]
        },
        {
          "output_type": "stream",
          "name": "stderr",
          "text": []
        },
        {
          "output_type": "stream",
          "name": "stdout",
          "text": [
            "Epoch 37 | Train Loss: 0.1155 | Val Loss: 0.3757 | Val Acc: 88.83%\n"
          ]
        },
        {
          "output_type": "stream",
          "name": "stderr",
          "text": []
        },
        {
          "output_type": "stream",
          "name": "stdout",
          "text": [
            "Epoch 38 | Train Loss: 0.1140 | Val Loss: 0.3755 | Val Acc: 89.02%\n"
          ]
        },
        {
          "output_type": "stream",
          "name": "stderr",
          "text": []
        },
        {
          "output_type": "stream",
          "name": "stdout",
          "text": [
            "Epoch 39 | Train Loss: 0.1077 | Val Loss: 0.3823 | Val Acc: 88.92%\n"
          ]
        },
        {
          "output_type": "stream",
          "name": "stderr",
          "text": []
        },
        {
          "output_type": "stream",
          "name": "stdout",
          "text": [
            "Epoch 40 | Train Loss: 0.1075 | Val Loss: 0.3723 | Val Acc: 88.88%\n"
          ]
        },
        {
          "output_type": "stream",
          "name": "stderr",
          "text": []
        },
        {
          "output_type": "stream",
          "name": "stdout",
          "text": [
            "Epoch 41 | Train Loss: 0.1035 | Val Loss: 0.3833 | Val Acc: 88.97%\n"
          ]
        },
        {
          "output_type": "stream",
          "name": "stderr",
          "text": []
        },
        {
          "output_type": "stream",
          "name": "stdout",
          "text": [
            "Epoch 42 | Train Loss: 0.1011 | Val Loss: 0.3852 | Val Acc: 88.90%\n"
          ]
        },
        {
          "output_type": "stream",
          "name": "stderr",
          "text": []
        },
        {
          "output_type": "stream",
          "name": "stdout",
          "text": [
            "Epoch 43 | Train Loss: 0.0976 | Val Loss: 0.3805 | Val Acc: 88.99%\n"
          ]
        },
        {
          "output_type": "stream",
          "name": "stderr",
          "text": []
        },
        {
          "output_type": "stream",
          "name": "stdout",
          "text": [
            "Epoch 44 | Train Loss: 0.0964 | Val Loss: 0.3929 | Val Acc: 88.83%\n"
          ]
        },
        {
          "output_type": "stream",
          "name": "stderr",
          "text": []
        },
        {
          "output_type": "stream",
          "name": "stdout",
          "text": [
            "Epoch 45 | Train Loss: 0.0916 | Val Loss: 0.3893 | Val Acc: 88.95%\n"
          ]
        },
        {
          "output_type": "stream",
          "name": "stderr",
          "text": []
        },
        {
          "output_type": "stream",
          "name": "stdout",
          "text": [
            "Epoch 46 | Train Loss: 0.0915 | Val Loss: 0.3879 | Val Acc: 89.24%\n"
          ]
        },
        {
          "output_type": "stream",
          "name": "stderr",
          "text": []
        },
        {
          "output_type": "stream",
          "name": "stdout",
          "text": [
            "Epoch 47 | Train Loss: 0.0907 | Val Loss: 0.3968 | Val Acc: 88.70%\n"
          ]
        },
        {
          "output_type": "stream",
          "name": "stderr",
          "text": []
        },
        {
          "output_type": "stream",
          "name": "stdout",
          "text": [
            "Epoch 48 | Train Loss: 0.0886 | Val Loss: 0.3935 | Val Acc: 88.92%\n"
          ]
        },
        {
          "output_type": "stream",
          "name": "stderr",
          "text": []
        },
        {
          "output_type": "stream",
          "name": "stdout",
          "text": [
            "Epoch 49 | Train Loss: 0.0835 | Val Loss: 0.4009 | Val Acc: 89.03%\n"
          ]
        },
        {
          "output_type": "stream",
          "name": "stderr",
          "text": []
        },
        {
          "output_type": "stream",
          "name": "stdout",
          "text": [
            "Epoch 50 | Train Loss: 0.0815 | Val Loss: 0.4073 | Val Acc: 88.80%\n",
            "\n",
            "Parameter Counts:\n",
            "Modified AlexNet: 6,976,842\n",
            "Original AlexNet: ~61,000,000\n"
          ]
        },
        {
          "output_type": "display_data",
          "data": {
            "text/plain": [
              "<Figure size 1200x500 with 2 Axes>"
            ],
            "image/png": "[encoded data removed]"
          },
          "metadata": {}
        }
      ],
      "source": [
        "#Problem 1 (CIFAR-10)\n",
        "import torch\n",
        "import torch.nn as nn\n",
        "import torch.optim as optim\n",
        "import torchvision\n",
        "import torchvision.transforms as transforms\n",
        "import matplotlib.pyplot as plt\n",
        "import numpy as np\n",
        "from tqdm import tqdm\n",
        "\n",
        "torch.manual_seed(42)\n",
        "device = torch.device(\"cuda\" if torch.cuda.is_available() else \"cpu\")\n",
        "\n",
        "transform_train = transforms.Compose([\n",
        "    transforms.RandomHorizontalFlip(),\n",
        "    transforms.RandomCrop(32, padding=4),\n",
        "    transforms.ToTensor(),\n",
        "    transforms.Normalize((0.4914, 0.4822, 0.4465), (0.2023, 0.1994, 0.2010)),\n",
        "])\n",
        "\n",
        "transform_test = transforms.Compose([\n",
        "    transforms.ToTensor(),\n",
        "    transforms.Normalize((0.4914, 0.4822, 0.4465), (0.2023, 0.1994, 0.2010)),\n",
        "])\n",
        "\n",
        "train_set = torchvision.datasets.CIFAR10(\n",
        "    root='./data', train=True, download=True, transform=transform_train)\n",
        "test_set = torchvision.datasets.CIFAR10(\n",
        "    root='./data', train=False, download=True, transform=transform_test)\n",
        "\n",
        "train_loader = torch.utils.data.DataLoader(\n",
        "    train_set, batch_size=128, shuffle=True, num_workers=2)\n",
        "test_loader = torch.utils.data.DataLoader(\n",
        "    test_set, batch_size=100, shuffle=False, num_workers=2)\n",
        "\n",
        "class CIFAR10_AlexNet(nn.Module):\n",
        "    def __init__(self, dropout=True):\n",
        "        super().__init__()\n",
        "        self.features = nn.Sequential(\n",
        "            nn.Conv2d(3, 64, kernel_size=3, padding=1),  # 32x32\n",
        "            nn.ReLU(inplace=True),\n",
        "            nn.MaxPool2d(kernel_size=2, stride=2),       # 16x16\n",
        "\n",
        "            nn.Conv2d(64, 192, kernel_size=3, padding=1),\n",
        "            nn.ReLU(inplace=True),\n",
        "            nn.MaxPool2d(kernel_size=2, stride=2),       # 8x8\n",
        "\n",
        "            nn.Conv2d(192, 384, kernel_size=3, padding=1),\n",
        "            nn.ReLU(inplace=True),\n",
        "\n",
        "            nn.Conv2d(384, 256, kernel_size=3, padding=1),\n",
        "            nn.ReLU(inplace=True),\n",
        "\n",
        "            nn.Conv2d(256, 256, kernel_size=3, padding=1),\n",
        "            nn.ReLU(inplace=True),\n",
        "            nn.MaxPool2d(kernel_size=2, stride=2),       # 4x4\n",
        "        )\n",
        "\n",
        "        self.classifier = nn.Sequential(\n",
        "            nn.Linear(256 * 4 * 4, 1024),\n",
        "            nn.ReLU(inplace=True),\n",
        "            nn.Dropout(0.5) if dropout else nn.Identity(),\n",
        "\n",
        "            nn.Linear(1024, 512),\n",
        "            nn.ReLU(inplace=True),\n",
        "            nn.Dropout(0.5) if dropout else nn.Identity(),\n",
        "\n",
        "            nn.Linear(512, 10)\n",
        "        )\n",
        "\n",
        "    def forward(self, x):\n",
        "        x = self.features(x)\n",
        "        x = torch.flatten(x, 1)\n",
        "        x = self.classifier(x)\n",
        "        return x\n",
        "\n",
        "def train_alexnet(model, train_loader, test_loader, num_epochs=50):\n",
        "    model = model.to(device)\n",
        "    criterion = nn.CrossEntropyLoss()\n",
        "    optimizer = optim.SGD(model.parameters(), lr=0.01, momentum=0.9, weight_decay=5e-4)\n",
        "    scheduler = optim.lr_scheduler.StepLR(optimizer, step_size=30, gamma=0.1)\n",
        "\n",
        "    history = {\n",
        "        'train_loss': [],\n",
        "        'val_loss': [],\n",
        "        'val_acc': []\n",
        "    }\n",
        "\n",
        "    for epoch in range(num_epochs):\n",
        "        #Training\n",
        "        model.train()\n",
        "        running_loss = 0.0\n",
        "        for inputs, labels in tqdm(train_loader, desc=f'Epoch {epoch+1}/{num_epochs}', leave=False):\n",
        "            inputs, labels = inputs.to(device), labels.to(device)\n",
        "\n",
        "            optimizer.zero_grad()\n",
        "            outputs = model(inputs)\n",
        "            loss = criterion(outputs, labels)\n",
        "            loss.backward()\n",
        "            optimizer.step()\n",
        "\n",
        "            running_loss += loss.item() * inputs.size(0)\n",
        "\n",
        "        train_loss = running_loss / len(train_loader.dataset)\n",
        "        history['train_loss'].append(train_loss)\n",
        "\n",
        "        #Validation phase\n",
        "        model.eval()\n",
        "        val_loss = 0.0\n",
        "        correct = 0\n",
        "        total = 0\n",
        "\n",
        "        with torch.no_grad():\n",
        "            for inputs, labels in test_loader:\n",
        "                inputs, labels = inputs.to(device), labels.to(device)\n",
        "                outputs = model(inputs)\n",
        "                loss = criterion(outputs, labels)\n",
        "\n",
        "                val_loss += loss.item() * inputs.size(0)\n",
        "                _, predicted = torch.max(outputs.data, 1)\n",
        "                total += labels.size(0)\n",
        "                correct += (predicted == labels).sum().item()\n",
        "\n",
        "        val_loss = val_loss / len(test_loader.dataset)\n",
        "        val_acc = 100 * correct / total\n",
        "\n",
        "        history['val_loss'].append(val_loss)\n",
        "        history['val_acc'].append(val_acc)\n",
        "\n",
        "        print(f'Epoch {epoch+1:02d} | '\n",
        "              f'Train Loss: {train_loss:.4f} | '\n",
        "              f'Val Loss: {val_loss:.4f} | '\n",
        "              f'Val Acc: {val_acc:.2f}%')\n",
        "\n",
        "        scheduler.step()\n",
        "\n",
        "    return history\n",
        "\n",
        "\n",
        "print(\"Training with Dropout:\")\n",
        "model_dropout = CIFAR10_AlexNet(dropout=True)\n",
        "history_dropout = train_alexnet(model_dropout, train_loader, test_loader)\n",
        "\n",
        "\n",
        "print(\"\\nTraining without Dropout:\")\n",
        "model_no_dropout = CIFAR10_AlexNet(dropout=False)\n",
        "history_no_dropout = train_alexnet(model_no_dropout, train_loader, test_loader)\n",
        "\n",
        "def count_parameters(model):\n",
        "    return sum(p.numel() for p in model.parameters() if p.requires_grad)\n",
        "\n",
        "print(\"\\nParameter Counts:\")\n",
        "print(f\"Modified AlexNet: {count_parameters(model_dropout):,}\")\n",
        "print(f\"Original AlexNet: ~61,000,000\")\n",
        "\n",
        "\n",
        "plt.figure(figsize=(12, 5))\n",
        "plt.subplot(1, 2, 1)\n",
        "plt.plot(history_dropout['train_loss'], label='Train (Dropout)')\n",
        "plt.plot(history_dropout['val_loss'], label='Val (Dropout)')\n",
        "plt.plot(history_no_dropout['val_loss'], label='Val (No Dropout)')\n",
        "plt.xlabel('Epoch')\n",
        "plt.ylabel('Loss')\n",
        "plt.title('Training & Validation Loss')\n",
        "plt.legend()\n",
        "\n",
        "plt.subplot(1, 2, 2)\n",
        "plt.plot(history_dropout['val_acc'], label='With Dropout')\n",
        "plt.plot(history_no_dropout['val_acc'], label='Without Dropout')\n",
        "plt.xlabel('Epoch')\n",
        "plt.ylabel('Accuracy (%)')\n",
        "plt.title('Validation Accuracy')\n",
        "plt.legend()\n",
        "\n",
        "plt.tight_layout()\n",
        "plt.show()"
      ]
    },
    {
      "cell_type": "code",
      "source": [
        "#Problem 1 (CIFAR-100)\n",
        "transform_train_100 = transforms.Compose([\n",
        "    transforms.RandomHorizontalFlip(),\n",
        "    transforms.RandomCrop(32, padding=4),\n",
        "    transforms.ToTensor(),\n",
        "    transforms.Normalize((0.5071, 0.4867, 0.4408), (0.2675, 0.2565, 0.2761)),\n",
        "])\n",
        "\n",
        "transform_test_100 = transforms.Compose([\n",
        "    transforms.ToTensor(),\n",
        "    transforms.Normalize((0.5071, 0.4867, 0.4408), (0.2675, 0.2565, 0.2761)),\n",
        "])\n",
        "\n",
        "\n",
        "cifar100_train = torchvision.datasets.CIFAR100(\n",
        "    root='./data', train=True, download=True, transform=transform_train_100)\n",
        "cifar100_test = torchvision.datasets.CIFAR100(\n",
        "    root='./data', train=False, download=True, transform=transform_test_100)\n",
        "\n",
        "cifar100_train_loader = torch.utils.data.DataLoader(\n",
        "    cifar100_train, batch_size=128, shuffle=True, num_workers=2)\n",
        "cifar100_test_loader = torch.utils.data.DataLoader(\n",
        "    cifar100_test, batch_size=100, shuffle=False, num_workers=2)\n",
        "\n",
        "class CIFAR100_AlexNet(nn.Module):\n",
        "    def __init__(self, dropout=True):\n",
        "        super().__init__()\n",
        "        self.features = nn.Sequential(\n",
        "            nn.Conv2d(3, 64, 3, padding=1),\n",
        "            nn.ReLU(inplace=True),\n",
        "            nn.MaxPool2d(2, 2),\n",
        "            nn.Conv2d(64, 192, 3, padding=1),\n",
        "            nn.ReLU(inplace=True),\n",
        "            nn.MaxPool2d(2, 2),\n",
        "            nn.Conv2d(192, 384, 3, padding=1),\n",
        "            nn.ReLU(inplace=True),\n",
        "            nn.Conv2d(384, 256, 3, padding=1),\n",
        "            nn.ReLU(inplace=True),\n",
        "            nn.Conv2d(256, 256, 3, padding=1),\n",
        "            nn.ReLU(inplace=True),\n",
        "            nn.MaxPool2d(2, 2),\n",
        "        )\n",
        "        self.classifier = nn.Sequential(\n",
        "            nn.Linear(256 * 4 * 4, 1024),\n",
        "            nn.ReLU(inplace=True),\n",
        "            nn.Dropout(0.5) if dropout else nn.Identity(),\n",
        "            nn.Linear(1024, 512),\n",
        "            nn.ReLU(inplace=True),\n",
        "            nn.Dropout(0.5) if dropout else nn.Identity(),\n",
        "            nn.Linear(512, 100)\n",
        "        )\n",
        "\n",
        "    def forward(self, x):\n",
        "        x = self.features(x)\n",
        "        x = torch.flatten(x, 1)\n",
        "        x = self.classifier(x)\n",
        "        return x\n",
        "\n",
        "print(\"\\n\" + \"=\"*60)\n",
        "print(\"Training CIFAR-100 WITH Dropout:\")\n",
        "model_100_dropout = CIFAR100_AlexNet(dropout=True)\n",
        "history_100_dropout = train_alexnet(model_100_dropout, cifar100_train_loader, cifar100_test_loader)\n",
        "\n",
        "print(\"\\n\" + \"=\"*60)\n",
        "print(\"Training CIFAR-100 WITHOUT Dropout:\")\n",
        "model_100_no_dropout = CIFAR100_AlexNet(dropout=False)\n",
        "history_100_no_dropout = train_alexnet(model_100_no_dropout, cifar100_train_loader, cifar100_test_loader)\n",
        "\n",
        "\n",
        "print(\"\\nPARAMETER COMPARISON:\")\n",
        "print(f\"Modified AlexNet: {count_parameters(model_100_dropout):,}\")\n",
        "print(f\"Original AlexNet: ~61,000,000\")\n",
        "\n",
        "plt.figure(figsize=(12, 5))\n",
        "plt.subplot(1, 2, 1)\n",
        "plt.plot(history_100_dropout['train_loss'], label='Train (Dropout)')\n",
        "plt.plot(history_100_dropout['val_loss'], label='Val (Dropout)')\n",
        "plt.plot(history_100_no_dropout['val_loss'], label='Val (No Dropout)')\n",
        "plt.title('CIFAR-100 Loss Curves')\n",
        "plt.xlabel('Epoch')\n",
        "plt.ylabel('Loss')\n",
        "plt.legend()\n",
        "\n",
        "plt.subplot(1, 2, 2)\n",
        "plt.plot(history_100_dropout['val_acc'], label='With Dropout')\n",
        "plt.plot(history_100_no_dropout['val_acc'], label='Without Dropout')\n",
        "plt.title('CIFAR-100 Validation Accuracy')\n",
        "plt.xlabel('Epoch')\n",
        "plt.ylabel('Accuracy (%)')\n",
        "plt.legend()\n",
        "\n",
        "plt.tight_layout()\n",
        "plt.show()"
      ],
      "metadata": {
        "colab": {
          "base_uri": "https://localhost:8080/",
          "height": 1000
        },
        "id": "NMvl1YSHanRF",
        "outputId": "30fa14af-5fc4-40cb-d086-0fee8846c141"
      },
      "execution_count": 2,
      "outputs": [
        {
          "output_type": "stream",
          "name": "stdout",
          "text": [
            "Downloading https://www.cs.toronto.edu/~kriz/cifar-100-python.tar.gz to ./data/cifar-100-python.tar.gz\n"
          ]
        },
        {
          "output_type": "stream",
          "name": "stderr",
          "text": [
            "100%|██████████| 169M/169M [00:24<00:00, 7.00MB/s]\n"
          ]
        },
        {
          "output_type": "stream",
          "name": "stdout",
          "text": [
            "Extracting ./data/cifar-100-python.tar.gz to ./data\n",
            "Files already downloaded and verified\n",
            "\n",
            "============================================================\n",
            "Training CIFAR-100 WITH Dropout:\n"
          ]
        },
        {
          "output_type": "stream",
          "name": "stderr",
          "text": []
        },
        {
          "output_type": "stream",
          "name": "stdout",
          "text": [
            "Epoch 01 | Train Loss: 4.6052 | Val Loss: 4.6028 | Val Acc: 1.40%\n"
          ]
        },
        {
          "output_type": "stream",
          "name": "stderr",
          "text": []
        },
        {
          "output_type": "stream",
          "name": "stdout",
          "text": [
            "Epoch 02 | Train Loss: 4.5212 | Val Loss: 4.2823 | Val Acc: 3.53%\n"
          ]
        },
        {
          "output_type": "stream",
          "name": "stderr",
          "text": []
        },
        {
          "output_type": "stream",
          "name": "stdout",
          "text": [
            "Epoch 03 | Train Loss: 4.2188 | Val Loss: 4.0605 | Val Acc: 7.61%\n"
          ]
        },
        {
          "output_type": "stream",
          "name": "stderr",
          "text": []
        },
        {
          "output_type": "stream",
          "name": "stdout",
          "text": [
            "Epoch 04 | Train Loss: 4.0331 | Val Loss: 3.8423 | Val Acc: 10.19%\n"
          ]
        },
        {
          "output_type": "stream",
          "name": "stderr",
          "text": []
        },
        {
          "output_type": "stream",
          "name": "stdout",
          "text": [
            "Epoch 05 | Train Loss: 3.8640 | Val Loss: 3.6955 | Val Acc: 12.80%\n"
          ]
        },
        {
          "output_type": "stream",
          "name": "stderr",
          "text": []
        },
        {
          "output_type": "stream",
          "name": "stdout",
          "text": [
            "Epoch 06 | Train Loss: 3.7255 | Val Loss: 3.5448 | Val Acc: 14.80%\n"
          ]
        },
        {
          "output_type": "stream",
          "name": "stderr",
          "text": []
        },
        {
          "output_type": "stream",
          "name": "stdout",
          "text": [
            "Epoch 07 | Train Loss: 3.5777 | Val Loss: 3.3445 | Val Acc: 18.99%\n"
          ]
        },
        {
          "output_type": "stream",
          "name": "stderr",
          "text": []
        },
        {
          "output_type": "stream",
          "name": "stdout",
          "text": [
            "Epoch 08 | Train Loss: 3.4330 | Val Loss: 3.1276 | Val Acc: 22.74%\n"
          ]
        },
        {
          "output_type": "stream",
          "name": "stderr",
          "text": []
        },
        {
          "output_type": "stream",
          "name": "stdout",
          "text": [
            "Epoch 09 | Train Loss: 3.2762 | Val Loss: 2.9424 | Val Acc: 26.13%\n"
          ]
        },
        {
          "output_type": "stream",
          "name": "stderr",
          "text": []
        },
        {
          "output_type": "stream",
          "name": "stdout",
          "text": [
            "Epoch 10 | Train Loss: 3.1349 | Val Loss: 2.8744 | Val Acc: 27.43%\n"
          ]
        },
        {
          "output_type": "stream",
          "name": "stderr",
          "text": []
        },
        {
          "output_type": "stream",
          "name": "stdout",
          "text": [
            "Epoch 11 | Train Loss: 2.9956 | Val Loss: 2.7692 | Val Acc: 29.55%\n"
          ]
        },
        {
          "output_type": "stream",
          "name": "stderr",
          "text": []
        },
        {
          "output_type": "stream",
          "name": "stdout",
          "text": [
            "Epoch 12 | Train Loss: 2.8828 | Val Loss: 2.6104 | Val Acc: 31.72%\n"
          ]
        },
        {
          "output_type": "stream",
          "name": "stderr",
          "text": []
        },
        {
          "output_type": "stream",
          "name": "stdout",
          "text": [
            "Epoch 13 | Train Loss: 2.7654 | Val Loss: 2.5207 | Val Acc: 34.61%\n"
          ]
        },
        {
          "output_type": "stream",
          "name": "stderr",
          "text": []
        },
        {
          "output_type": "stream",
          "name": "stdout",
          "text": [
            "Epoch 14 | Train Loss: 2.6627 | Val Loss: 2.4739 | Val Acc: 35.34%\n"
          ]
        },
        {
          "output_type": "stream",
          "name": "stderr",
          "text": []
        },
        {
          "output_type": "stream",
          "name": "stdout",
          "text": [
            "Epoch 15 | Train Loss: 2.5703 | Val Loss: 2.3601 | Val Acc: 37.74%\n"
          ]
        },
        {
          "output_type": "stream",
          "name": "stderr",
          "text": []
        },
        {
          "output_type": "stream",
          "name": "stdout",
          "text": [
            "Epoch 16 | Train Loss: 2.4778 | Val Loss: 2.2398 | Val Acc: 40.29%\n"
          ]
        },
        {
          "output_type": "stream",
          "name": "stderr",
          "text": []
        },
        {
          "output_type": "stream",
          "name": "stdout",
          "text": [
            "Epoch 17 | Train Loss: 2.3963 | Val Loss: 2.1675 | Val Acc: 42.09%\n"
          ]
        },
        {
          "output_type": "stream",
          "name": "stderr",
          "text": []
        },
        {
          "output_type": "stream",
          "name": "stdout",
          "text": [
            "Epoch 18 | Train Loss: 2.3151 | Val Loss: 2.1712 | Val Acc: 42.15%\n"
          ]
        },
        {
          "output_type": "stream",
          "name": "stderr",
          "text": []
        },
        {
          "output_type": "stream",
          "name": "stdout",
          "text": [
            "Epoch 19 | Train Loss: 2.2470 | Val Loss: 2.1273 | Val Acc: 43.12%\n"
          ]
        },
        {
          "output_type": "stream",
          "name": "stderr",
          "text": []
        },
        {
          "output_type": "stream",
          "name": "stdout",
          "text": [
            "Epoch 20 | Train Loss: 2.1686 | Val Loss: 1.9951 | Val Acc: 45.74%\n"
          ]
        },
        {
          "output_type": "stream",
          "name": "stderr",
          "text": []
        },
        {
          "output_type": "stream",
          "name": "stdout",
          "text": [
            "Epoch 21 | Train Loss: 2.1121 | Val Loss: 1.9579 | Val Acc: 47.01%\n"
          ]
        },
        {
          "output_type": "stream",
          "name": "stderr",
          "text": []
        },
        {
          "output_type": "stream",
          "name": "stdout",
          "text": [
            "Epoch 22 | Train Loss: 2.0447 | Val Loss: 1.8739 | Val Acc: 48.70%\n"
          ]
        },
        {
          "output_type": "stream",
          "name": "stderr",
          "text": []
        },
        {
          "output_type": "stream",
          "name": "stdout",
          "text": [
            "Epoch 23 | Train Loss: 1.9857 | Val Loss: 1.8703 | Val Acc: 49.17%\n"
          ]
        },
        {
          "output_type": "stream",
          "name": "stderr",
          "text": []
        },
        {
          "output_type": "stream",
          "name": "stdout",
          "text": [
            "Epoch 24 | Train Loss: 1.9369 | Val Loss: 1.8546 | Val Acc: 49.23%\n"
          ]
        },
        {
          "output_type": "stream",
          "name": "stderr",
          "text": []
        },
        {
          "output_type": "stream",
          "name": "stdout",
          "text": [
            "Epoch 25 | Train Loss: 1.8890 | Val Loss: 1.7825 | Val Acc: 51.60%\n"
          ]
        },
        {
          "output_type": "stream",
          "name": "stderr",
          "text": []
        },
        {
          "output_type": "stream",
          "name": "stdout",
          "text": [
            "Epoch 26 | Train Loss: 1.8302 | Val Loss: 1.7438 | Val Acc: 52.41%\n"
          ]
        },
        {
          "output_type": "stream",
          "name": "stderr",
          "text": []
        },
        {
          "output_type": "stream",
          "name": "stdout",
          "text": [
            "Epoch 27 | Train Loss: 1.7768 | Val Loss: 1.7674 | Val Acc: 51.82%\n"
          ]
        },
        {
          "output_type": "stream",
          "name": "stderr",
          "text": []
        },
        {
          "output_type": "stream",
          "name": "stdout",
          "text": [
            "Epoch 28 | Train Loss: 1.7395 | Val Loss: 1.7117 | Val Acc: 53.49%\n"
          ]
        },
        {
          "output_type": "stream",
          "name": "stderr",
          "text": []
        },
        {
          "output_type": "stream",
          "name": "stdout",
          "text": [
            "Epoch 29 | Train Loss: 1.7060 | Val Loss: 1.6519 | Val Acc: 54.53%\n"
          ]
        },
        {
          "output_type": "stream",
          "name": "stderr",
          "text": []
        },
        {
          "output_type": "stream",
          "name": "stdout",
          "text": [
            "Epoch 30 | Train Loss: 1.6564 | Val Loss: 1.6559 | Val Acc: 54.34%\n"
          ]
        },
        {
          "output_type": "stream",
          "name": "stderr",
          "text": []
        },
        {
          "output_type": "stream",
          "name": "stdout",
          "text": [
            "Epoch 31 | Train Loss: 1.4297 | Val Loss: 1.4981 | Val Acc: 58.34%\n"
          ]
        },
        {
          "output_type": "stream",
          "name": "stderr",
          "text": []
        },
        {
          "output_type": "stream",
          "name": "stdout",
          "text": [
            "Epoch 32 | Train Loss: 1.3630 | Val Loss: 1.4838 | Val Acc: 58.50%\n"
          ]
        },
        {
          "output_type": "stream",
          "name": "stderr",
          "text": []
        },
        {
          "output_type": "stream",
          "name": "stdout",
          "text": [
            "Epoch 33 | Train Loss: 1.3383 | Val Loss: 1.4813 | Val Acc: 58.57%\n"
          ]
        },
        {
          "output_type": "stream",
          "name": "stderr",
          "text": []
        },
        {
          "output_type": "stream",
          "name": "stdout",
          "text": [
            "Epoch 34 | Train Loss: 1.3174 | Val Loss: 1.4821 | Val Acc: 58.50%\n"
          ]
        },
        {
          "output_type": "stream",
          "name": "stderr",
          "text": []
        },
        {
          "output_type": "stream",
          "name": "stdout",
          "text": [
            "Epoch 35 | Train Loss: 1.3022 | Val Loss: 1.4636 | Val Acc: 58.96%\n"
          ]
        },
        {
          "output_type": "stream",
          "name": "stderr",
          "text": []
        },
        {
          "output_type": "stream",
          "name": "stdout",
          "text": [
            "Epoch 36 | Train Loss: 1.2955 | Val Loss: 1.4573 | Val Acc: 59.36%\n"
          ]
        },
        {
          "output_type": "stream",
          "name": "stderr",
          "text": []
        },
        {
          "output_type": "stream",
          "name": "stdout",
          "text": [
            "Epoch 37 | Train Loss: 1.2838 | Val Loss: 1.4522 | Val Acc: 59.56%\n"
          ]
        },
        {
          "output_type": "stream",
          "name": "stderr",
          "text": []
        },
        {
          "output_type": "stream",
          "name": "stdout",
          "text": [
            "Epoch 38 | Train Loss: 1.2649 | Val Loss: 1.4523 | Val Acc: 59.34%\n"
          ]
        },
        {
          "output_type": "stream",
          "name": "stderr",
          "text": []
        },
        {
          "output_type": "stream",
          "name": "stdout",
          "text": [
            "Epoch 39 | Train Loss: 1.2485 | Val Loss: 1.4452 | Val Acc: 59.44%\n"
          ]
        },
        {
          "output_type": "stream",
          "name": "stderr",
          "text": []
        },
        {
          "output_type": "stream",
          "name": "stdout",
          "text": [
            "Epoch 40 | Train Loss: 1.2346 | Val Loss: 1.4528 | Val Acc: 59.32%\n"
          ]
        },
        {
          "output_type": "stream",
          "name": "stderr",
          "text": []
        },
        {
          "output_type": "stream",
          "name": "stdout",
          "text": [
            "Epoch 41 | Train Loss: 1.2343 | Val Loss: 1.4637 | Val Acc: 59.41%\n"
          ]
        },
        {
          "output_type": "stream",
          "name": "stderr",
          "text": []
        },
        {
          "output_type": "stream",
          "name": "stdout",
          "text": [
            "Epoch 42 | Train Loss: 1.2243 | Val Loss: 1.4327 | Val Acc: 59.82%\n"
          ]
        },
        {
          "output_type": "stream",
          "name": "stderr",
          "text": []
        },
        {
          "output_type": "stream",
          "name": "stdout",
          "text": [
            "Epoch 43 | Train Loss: 1.2080 | Val Loss: 1.4302 | Val Acc: 59.81%\n"
          ]
        },
        {
          "output_type": "stream",
          "name": "stderr",
          "text": []
        },
        {
          "output_type": "stream",
          "name": "stdout",
          "text": [
            "Epoch 44 | Train Loss: 1.2063 | Val Loss: 1.4344 | Val Acc: 59.76%\n"
          ]
        },
        {
          "output_type": "stream",
          "name": "stderr",
          "text": []
        },
        {
          "output_type": "stream",
          "name": "stdout",
          "text": [
            "Epoch 45 | Train Loss: 1.1893 | Val Loss: 1.4326 | Val Acc: 60.11%\n"
          ]
        },
        {
          "output_type": "stream",
          "name": "stderr",
          "text": []
        },
        {
          "output_type": "stream",
          "name": "stdout",
          "text": [
            "Epoch 46 | Train Loss: 1.1788 | Val Loss: 1.4280 | Val Acc: 60.02%\n"
          ]
        },
        {
          "output_type": "stream",
          "name": "stderr",
          "text": []
        },
        {
          "output_type": "stream",
          "name": "stdout",
          "text": [
            "Epoch 47 | Train Loss: 1.1752 | Val Loss: 1.4228 | Val Acc: 60.49%\n"
          ]
        },
        {
          "output_type": "stream",
          "name": "stderr",
          "text": []
        },
        {
          "output_type": "stream",
          "name": "stdout",
          "text": [
            "Epoch 48 | Train Loss: 1.1591 | Val Loss: 1.4170 | Val Acc: 60.34%\n"
          ]
        },
        {
          "output_type": "stream",
          "name": "stderr",
          "text": []
        },
        {
          "output_type": "stream",
          "name": "stdout",
          "text": [
            "Epoch 49 | Train Loss: 1.1599 | Val Loss: 1.4315 | Val Acc: 60.15%\n"
          ]
        },
        {
          "output_type": "stream",
          "name": "stderr",
          "text": []
        },
        {
          "output_type": "stream",
          "name": "stdout",
          "text": [
            "Epoch 50 | Train Loss: 1.1468 | Val Loss: 1.4216 | Val Acc: 60.39%\n",
            "\n",
            "============================================================\n",
            "Training CIFAR-100 WITHOUT Dropout:\n"
          ]
        },
        {
          "output_type": "stream",
          "name": "stderr",
          "text": []
        },
        {
          "output_type": "stream",
          "name": "stdout",
          "text": [
            "Epoch 01 | Train Loss: 4.6053 | Val Loss: 4.6034 | Val Acc: 1.54%\n"
          ]
        },
        {
          "output_type": "stream",
          "name": "stderr",
          "text": []
        },
        {
          "output_type": "stream",
          "name": "stdout",
          "text": [
            "Epoch 02 | Train Loss: 4.4752 | Val Loss: 4.1668 | Val Acc: 5.83%\n"
          ]
        },
        {
          "output_type": "stream",
          "name": "stderr",
          "text": []
        },
        {
          "output_type": "stream",
          "name": "stdout",
          "text": [
            "Epoch 03 | Train Loss: 4.0070 | Val Loss: 3.8075 | Val Acc: 10.47%\n"
          ]
        },
        {
          "output_type": "stream",
          "name": "stderr",
          "text": []
        },
        {
          "output_type": "stream",
          "name": "stdout",
          "text": [
            "Epoch 04 | Train Loss: 3.7511 | Val Loss: 3.5943 | Val Acc: 14.84%\n"
          ]
        },
        {
          "output_type": "stream",
          "name": "stderr",
          "text": []
        },
        {
          "output_type": "stream",
          "name": "stdout",
          "text": [
            "Epoch 05 | Train Loss: 3.5521 | Val Loss: 3.4169 | Val Acc: 17.87%\n"
          ]
        },
        {
          "output_type": "stream",
          "name": "stderr",
          "text": []
        },
        {
          "output_type": "stream",
          "name": "stdout",
          "text": [
            "Epoch 06 | Train Loss: 3.3504 | Val Loss: 3.2619 | Val Acc: 19.89%\n"
          ]
        },
        {
          "output_type": "stream",
          "name": "stderr",
          "text": []
        },
        {
          "output_type": "stream",
          "name": "stdout",
          "text": [
            "Epoch 07 | Train Loss: 3.1515 | Val Loss: 3.0290 | Val Acc: 24.30%\n"
          ]
        },
        {
          "output_type": "stream",
          "name": "stderr",
          "text": []
        },
        {
          "output_type": "stream",
          "name": "stdout",
          "text": [
            "Epoch 08 | Train Loss: 2.9723 | Val Loss: 2.8205 | Val Acc: 28.85%\n"
          ]
        },
        {
          "output_type": "stream",
          "name": "stderr",
          "text": []
        },
        {
          "output_type": "stream",
          "name": "stdout",
          "text": [
            "Epoch 09 | Train Loss: 2.8148 | Val Loss: 2.7173 | Val Acc: 30.95%\n"
          ]
        },
        {
          "output_type": "stream",
          "name": "stderr",
          "text": []
        },
        {
          "output_type": "stream",
          "name": "stdout",
          "text": [
            "Epoch 10 | Train Loss: 2.6618 | Val Loss: 2.5889 | Val Acc: 33.59%\n"
          ]
        },
        {
          "output_type": "stream",
          "name": "stderr",
          "text": []
        },
        {
          "output_type": "stream",
          "name": "stdout",
          "text": [
            "Epoch 11 | Train Loss: 2.5138 | Val Loss: 2.4823 | Val Acc: 36.25%\n"
          ]
        },
        {
          "output_type": "stream",
          "name": "stderr",
          "text": []
        },
        {
          "output_type": "stream",
          "name": "stdout",
          "text": [
            "Epoch 12 | Train Loss: 2.3905 | Val Loss: 2.4237 | Val Acc: 37.51%\n"
          ]
        },
        {
          "output_type": "stream",
          "name": "stderr",
          "text": []
        },
        {
          "output_type": "stream",
          "name": "stdout",
          "text": [
            "Epoch 13 | Train Loss: 2.2544 | Val Loss: 2.3328 | Val Acc: 39.36%\n"
          ]
        },
        {
          "output_type": "stream",
          "name": "stderr",
          "text": []
        },
        {
          "output_type": "stream",
          "name": "stdout",
          "text": [
            "Epoch 14 | Train Loss: 2.1417 | Val Loss: 2.2314 | Val Acc: 41.40%\n"
          ]
        },
        {
          "output_type": "stream",
          "name": "stderr",
          "text": []
        },
        {
          "output_type": "stream",
          "name": "stdout",
          "text": [
            "Epoch 15 | Train Loss: 2.0312 | Val Loss: 2.1848 | Val Acc: 42.84%\n"
          ]
        },
        {
          "output_type": "stream",
          "name": "stderr",
          "text": []
        },
        {
          "output_type": "stream",
          "name": "stdout",
          "text": [
            "Epoch 16 | Train Loss: 1.9285 | Val Loss: 2.0827 | Val Acc: 44.68%\n"
          ]
        },
        {
          "output_type": "stream",
          "name": "stderr",
          "text": []
        },
        {
          "output_type": "stream",
          "name": "stdout",
          "text": [
            "Epoch 17 | Train Loss: 1.8260 | Val Loss: 2.0431 | Val Acc: 46.04%\n"
          ]
        },
        {
          "output_type": "stream",
          "name": "stderr",
          "text": []
        },
        {
          "output_type": "stream",
          "name": "stdout",
          "text": [
            "Epoch 18 | Train Loss: 1.7432 | Val Loss: 2.0041 | Val Acc: 47.35%\n"
          ]
        },
        {
          "output_type": "stream",
          "name": "stderr",
          "text": []
        },
        {
          "output_type": "stream",
          "name": "stdout",
          "text": [
            "Epoch 19 | Train Loss: 1.6611 | Val Loss: 2.0559 | Val Acc: 47.11%\n"
          ]
        },
        {
          "output_type": "stream",
          "name": "stderr",
          "text": []
        },
        {
          "output_type": "stream",
          "name": "stdout",
          "text": [
            "Epoch 20 | Train Loss: 1.5596 | Val Loss: 1.9892 | Val Acc: 48.32%\n"
          ]
        },
        {
          "output_type": "stream",
          "name": "stderr",
          "text": []
        },
        {
          "output_type": "stream",
          "name": "stdout",
          "text": [
            "Epoch 21 | Train Loss: 1.4839 | Val Loss: 1.9331 | Val Acc: 50.56%\n"
          ]
        },
        {
          "output_type": "stream",
          "name": "stderr",
          "text": []
        },
        {
          "output_type": "stream",
          "name": "stdout",
          "text": [
            "Epoch 22 | Train Loss: 1.4103 | Val Loss: 1.9643 | Val Acc: 49.52%\n"
          ]
        },
        {
          "output_type": "stream",
          "name": "stderr",
          "text": []
        },
        {
          "output_type": "stream",
          "name": "stdout",
          "text": [
            "Epoch 23 | Train Loss: 1.3288 | Val Loss: 1.9367 | Val Acc: 50.22%\n"
          ]
        },
        {
          "output_type": "stream",
          "name": "stderr",
          "text": []
        },
        {
          "output_type": "stream",
          "name": "stdout",
          "text": [
            "Epoch 24 | Train Loss: 1.2646 | Val Loss: 1.9489 | Val Acc: 50.79%\n"
          ]
        },
        {
          "output_type": "stream",
          "name": "stderr",
          "text": []
        },
        {
          "output_type": "stream",
          "name": "stdout",
          "text": [
            "Epoch 25 | Train Loss: 1.1908 | Val Loss: 1.9924 | Val Acc: 50.61%\n"
          ]
        },
        {
          "output_type": "stream",
          "name": "stderr",
          "text": []
        },
        {
          "output_type": "stream",
          "name": "stdout",
          "text": [
            "Epoch 26 | Train Loss: 1.1212 | Val Loss: 2.0103 | Val Acc: 51.42%\n"
          ]
        },
        {
          "output_type": "stream",
          "name": "stderr",
          "text": []
        },
        {
          "output_type": "stream",
          "name": "stdout",
          "text": [
            "Epoch 27 | Train Loss: 1.0587 | Val Loss: 1.9770 | Val Acc: 50.85%\n"
          ]
        },
        {
          "output_type": "stream",
          "name": "stderr",
          "text": []
        },
        {
          "output_type": "stream",
          "name": "stdout",
          "text": [
            "Epoch 28 | Train Loss: 0.9748 | Val Loss: 2.0620 | Val Acc: 50.87%\n"
          ]
        },
        {
          "output_type": "stream",
          "name": "stderr",
          "text": []
        },
        {
          "output_type": "stream",
          "name": "stdout",
          "text": [
            "Epoch 29 | Train Loss: 0.9340 | Val Loss: 2.1361 | Val Acc: 51.06%\n"
          ]
        },
        {
          "output_type": "stream",
          "name": "stderr",
          "text": []
        },
        {
          "output_type": "stream",
          "name": "stdout",
          "text": [
            "Epoch 30 | Train Loss: 0.8775 | Val Loss: 2.1477 | Val Acc: 50.82%\n"
          ]
        },
        {
          "output_type": "stream",
          "name": "stderr",
          "text": []
        },
        {
          "output_type": "stream",
          "name": "stdout",
          "text": [
            "Epoch 31 | Train Loss: 0.4978 | Val Loss: 2.1233 | Val Acc: 55.04%\n"
          ]
        },
        {
          "output_type": "stream",
          "name": "stderr",
          "text": []
        },
        {
          "output_type": "stream",
          "name": "stdout",
          "text": [
            "Epoch 32 | Train Loss: 0.3973 | Val Loss: 2.2053 | Val Acc: 54.91%\n"
          ]
        },
        {
          "output_type": "stream",
          "name": "stderr",
          "text": []
        },
        {
          "output_type": "stream",
          "name": "stdout",
          "text": [
            "Epoch 33 | Train Loss: 0.3513 | Val Loss: 2.2675 | Val Acc: 54.85%\n"
          ]
        },
        {
          "output_type": "stream",
          "name": "stderr",
          "text": []
        },
        {
          "output_type": "stream",
          "name": "stdout",
          "text": [
            "Epoch 34 | Train Loss: 0.3187 | Val Loss: 2.3351 | Val Acc: 54.94%\n"
          ]
        },
        {
          "output_type": "stream",
          "name": "stderr",
          "text": []
        },
        {
          "output_type": "stream",
          "name": "stdout",
          "text": [
            "Epoch 35 | Train Loss: 0.2972 | Val Loss: 2.3924 | Val Acc: 55.03%\n"
          ]
        },
        {
          "output_type": "stream",
          "name": "stderr",
          "text": []
        },
        {
          "output_type": "stream",
          "name": "stdout",
          "text": [
            "Epoch 36 | Train Loss: 0.2757 | Val Loss: 2.4219 | Val Acc: 55.21%\n"
          ]
        },
        {
          "output_type": "stream",
          "name": "stderr",
          "text": []
        },
        {
          "output_type": "stream",
          "name": "stdout",
          "text": [
            "Epoch 37 | Train Loss: 0.2522 | Val Loss: 2.4500 | Val Acc: 55.39%\n"
          ]
        },
        {
          "output_type": "stream",
          "name": "stderr",
          "text": []
        },
        {
          "output_type": "stream",
          "name": "stdout",
          "text": [
            "Epoch 38 | Train Loss: 0.2401 | Val Loss: 2.5294 | Val Acc: 54.83%\n"
          ]
        },
        {
          "output_type": "stream",
          "name": "stderr",
          "text": []
        },
        {
          "output_type": "stream",
          "name": "stdout",
          "text": [
            "Epoch 39 | Train Loss: 0.2249 | Val Loss: 2.5307 | Val Acc: 55.03%\n"
          ]
        },
        {
          "output_type": "stream",
          "name": "stderr",
          "text": []
        },
        {
          "output_type": "stream",
          "name": "stdout",
          "text": [
            "Epoch 40 | Train Loss: 0.2061 | Val Loss: 2.5938 | Val Acc: 54.84%\n"
          ]
        },
        {
          "output_type": "stream",
          "name": "stderr",
          "text": []
        },
        {
          "output_type": "stream",
          "name": "stdout",
          "text": [
            "Epoch 41 | Train Loss: 0.1906 | Val Loss: 2.6886 | Val Acc: 54.61%\n"
          ]
        },
        {
          "output_type": "stream",
          "name": "stderr",
          "text": []
        },
        {
          "output_type": "stream",
          "name": "stdout",
          "text": [
            "Epoch 42 | Train Loss: 0.1850 | Val Loss: 2.6882 | Val Acc: 54.52%\n"
          ]
        },
        {
          "output_type": "stream",
          "name": "stderr",
          "text": []
        },
        {
          "output_type": "stream",
          "name": "stdout",
          "text": [
            "Epoch 43 | Train Loss: 0.1745 | Val Loss: 2.7711 | Val Acc: 54.84%\n"
          ]
        },
        {
          "output_type": "stream",
          "name": "stderr",
          "text": []
        },
        {
          "output_type": "stream",
          "name": "stdout",
          "text": [
            "Epoch 44 | Train Loss: 0.1651 | Val Loss: 2.7830 | Val Acc: 54.45%\n"
          ]
        },
        {
          "output_type": "stream",
          "name": "stderr",
          "text": []
        },
        {
          "output_type": "stream",
          "name": "stdout",
          "text": [
            "Epoch 45 | Train Loss: 0.1603 | Val Loss: 2.8046 | Val Acc: 54.76%\n"
          ]
        },
        {
          "output_type": "stream",
          "name": "stderr",
          "text": []
        },
        {
          "output_type": "stream",
          "name": "stdout",
          "text": [
            "Epoch 46 | Train Loss: 0.1524 | Val Loss: 2.8006 | Val Acc: 54.68%\n"
          ]
        },
        {
          "output_type": "stream",
          "name": "stderr",
          "text": []
        },
        {
          "output_type": "stream",
          "name": "stdout",
          "text": [
            "Epoch 47 | Train Loss: 0.1468 | Val Loss: 2.8824 | Val Acc: 54.29%\n"
          ]
        },
        {
          "output_type": "stream",
          "name": "stderr",
          "text": []
        },
        {
          "output_type": "stream",
          "name": "stdout",
          "text": [
            "Epoch 48 | Train Loss: 0.1397 | Val Loss: 2.8864 | Val Acc: 54.86%\n"
          ]
        },
        {
          "output_type": "stream",
          "name": "stderr",
          "text": []
        },
        {
          "output_type": "stream",
          "name": "stdout",
          "text": [
            "Epoch 49 | Train Loss: 0.1362 | Val Loss: 2.8979 | Val Acc: 54.69%\n"
          ]
        },
        {
          "output_type": "stream",
          "name": "stderr",
          "text": []
        },
        {
          "output_type": "stream",
          "name": "stdout",
          "text": [
            "Epoch 50 | Train Loss: 0.1212 | Val Loss: 2.9569 | Val Acc: 54.37%\n",
            "\n",
            "PARAMETER COMPARISON:\n",
            "Modified AlexNet: 7,023,012\n",
            "Original AlexNet: ~61,000,000\n"
          ]
        },
        {
          "output_type": "display_data",
          "data": {
            "text/plain": [
              "<Figure size 1200x500 with 2 Axes>"
            ],
            "image/png": "[encoded data removed]"
          },
          "metadata": {}
        }
      ]
    },
    {
      "cell_type": "code",
      "source": [
        "#Problem 2 (CIFAR-10)(VGG)\n",
        "class SimpleVGG(nn.Module):\n",
        "    def __init__(self, num_classes=10, dropout=True):\n",
        "        super().__init__()\n",
        "        self.features = nn.Sequential(\n",
        "            #Block 1\n",
        "            nn.Conv2d(3, 64, kernel_size=3, padding=1),\n",
        "            nn.ReLU(inplace=True),\n",
        "            nn.Conv2d(64, 64, kernel_size=3, padding=1),\n",
        "            nn.ReLU(inplace=True),\n",
        "            nn.MaxPool2d(kernel_size=2, stride=2),\n",
        "\n",
        "            #Block 2\n",
        "            nn.Conv2d(64, 128, kernel_size=3, padding=1),\n",
        "            nn.ReLU(inplace=True),\n",
        "            nn.Conv2d(128, 128, kernel_size=3, padding=1),\n",
        "            nn.ReLU(inplace=True),\n",
        "            nn.MaxPool2d(kernel_size=2, stride=2),\n",
        "\n",
        "            #Block 3\n",
        "            nn.Conv2d(128, 256, kernel_size=3, padding=1),\n",
        "            nn.ReLU(inplace=True),\n",
        "            nn.Conv2d(256, 256, kernel_size=3, padding=1),\n",
        "            nn.ReLU(inplace=True),\n",
        "            nn.MaxPool2d(kernel_size=2, stride=2),\n",
        "        )\n",
        "\n",
        "        self.classifier = nn.Sequential(\n",
        "            nn.Linear(256 * 4 * 4, 1024),\n",
        "            nn.ReLU(inplace=True),\n",
        "            nn.Dropout(0.5) if dropout else nn.Identity(),\n",
        "            nn.Linear(1024, 512),\n",
        "            nn.ReLU(inplace=True),\n",
        "            nn.Dropout(0.5) if dropout else nn.Identity(),\n",
        "            nn.Linear(512, num_classes)\n",
        "        )\n",
        "\n",
        "    def forward(self, x):\n",
        "        x = self.features(x)\n",
        "        x = torch.flatten(x, 1)\n",
        "        x = self.classifier(x)\n",
        "        return x\n",
        "\n",
        "#Training\n",
        "print(\"\\n\" + \"=\"*60)\n",
        "print(\"Training VGGNet WITH Dropout:\")\n",
        "vgg_model_dropout = SimpleVGG(dropout=True)\n",
        "vgg_history_dropout = train_alexnet(vgg_model_dropout, train_loader, test_loader)\n",
        "\n",
        "print(\"\\n\" + \"=\"*60)\n",
        "print(\"Training VGGNet WITHOUT Dropout:\")\n",
        "vgg_model_no_dropout = SimpleVGG(dropout=False)\n",
        "vgg_history_no_dropout = train_alexnet(vgg_model_no_dropout, train_loader, test_loader)\n",
        "\n",
        "print(\"\\nPARAMETER COMPARISON:\")\n",
        "print(f\"VGGNet: {count_parameters(vgg_model_dropout):,}\")\n",
        "print(f\"Modifed AlexNet: {count_parameters(model_dropout):,}\")\n",
        "print(f\"Original AlexNet: ~61,000,000\")\n",
        "\n",
        "plt.figure(figsize=(15, 5))\n",
        "\n",
        "#Loss\n",
        "plt.subplot(1, 2, 1)\n",
        "plt.plot(vgg_history_dropout['val_loss'], label='VGG (With Dropout)')\n",
        "plt.plot(history_dropout['val_loss'], label='AlexNet (With Dropout)')\n",
        "plt.plot(vgg_history_no_dropout['val_loss'], label='VGG (No Dropout)')\n",
        "plt.plot(history_no_dropout['val_loss'], label='AlexNet (No Dropout)')\n",
        "plt.title('Validation Loss Comparison')\n",
        "plt.xlabel('Epoch')\n",
        "plt.ylabel('Loss')\n",
        "plt.legend()\n",
        "\n",
        "#Accuracy\n",
        "plt.subplot(1, 2, 2)\n",
        "plt.plot(vgg_history_dropout['val_acc'], label='VGG (With Dropout)')\n",
        "plt.plot(history_dropout['val_acc'], label='AlexNet (With Dropout)')\n",
        "plt.plot(vgg_history_no_dropout['val_acc'], label='VGG (No Dropout)')\n",
        "plt.plot(history_no_dropout['val_acc'], label='AlexNet (No Dropout)')\n",
        "plt.title('Validation Accuracy Comparison')\n",
        "plt.xlabel('Epoch')\n",
        "plt.ylabel('Accuracy (%)')\n",
        "plt.legend()\n",
        "\n",
        "plt.tight_layout()\n",
        "plt.show()"
      ],
      "metadata": {
        "colab": {
          "base_uri": "https://localhost:8080/",
          "height": 1000
        },
        "id": "dpdkofYyjDlR",
        "outputId": "7b7b5978-c8a2-441e-b594-ef6bf85e73e6"
      },
      "execution_count": 3,
      "outputs": [
        {
          "output_type": "stream",
          "name": "stdout",
          "text": [
            "\n",
            "============================================================\n",
            "Training VGGNet WITH Dropout:\n"
          ]
        },
        {
          "output_type": "stream",
          "name": "stderr",
          "text": []
        },
        {
          "output_type": "stream",
          "name": "stdout",
          "text": [
            "Epoch 01 | Train Loss: 2.2873 | Val Loss: 2.1210 | Val Acc: 22.20%\n"
          ]
        },
        {
          "output_type": "stream",
          "name": "stderr",
          "text": []
        },
        {
          "output_type": "stream",
          "name": "stdout",
          "text": [
            "Epoch 02 | Train Loss: 2.0107 | Val Loss: 1.8054 | Val Acc: 32.43%\n"
          ]
        },
        {
          "output_type": "stream",
          "name": "stderr",
          "text": []
        },
        {
          "output_type": "stream",
          "name": "stdout",
          "text": [
            "Epoch 03 | Train Loss: 1.7256 | Val Loss: 1.6640 | Val Acc: 36.83%\n"
          ]
        },
        {
          "output_type": "stream",
          "name": "stderr",
          "text": []
        },
        {
          "output_type": "stream",
          "name": "stdout",
          "text": [
            "Epoch 04 | Train Loss: 1.5360 | Val Loss: 1.3433 | Val Acc: 50.14%\n"
          ]
        },
        {
          "output_type": "stream",
          "name": "stderr",
          "text": []
        },
        {
          "output_type": "stream",
          "name": "stdout",
          "text": [
            "Epoch 05 | Train Loss: 1.3686 | Val Loss: 1.2394 | Val Acc: 54.74%\n"
          ]
        },
        {
          "output_type": "stream",
          "name": "stderr",
          "text": []
        },
        {
          "output_type": "stream",
          "name": "stdout",
          "text": [
            "Epoch 06 | Train Loss: 1.2283 | Val Loss: 1.0586 | Val Acc: 61.22%\n"
          ]
        },
        {
          "output_type": "stream",
          "name": "stderr",
          "text": []
        },
        {
          "output_type": "stream",
          "name": "stdout",
          "text": [
            "Epoch 07 | Train Loss: 1.0996 | Val Loss: 0.9802 | Val Acc: 64.54%\n"
          ]
        },
        {
          "output_type": "stream",
          "name": "stderr",
          "text": []
        },
        {
          "output_type": "stream",
          "name": "stdout",
          "text": [
            "Epoch 08 | Train Loss: 1.0062 | Val Loss: 0.9020 | Val Acc: 67.67%\n"
          ]
        },
        {
          "output_type": "stream",
          "name": "stderr",
          "text": []
        },
        {
          "output_type": "stream",
          "name": "stdout",
          "text": [
            "Epoch 09 | Train Loss: 0.9055 | Val Loss: 0.8267 | Val Acc: 70.38%\n"
          ]
        },
        {
          "output_type": "stream",
          "name": "stderr",
          "text": []
        },
        {
          "output_type": "stream",
          "name": "stdout",
          "text": [
            "Epoch 10 | Train Loss: 0.8401 | Val Loss: 0.8767 | Val Acc: 70.15%\n"
          ]
        },
        {
          "output_type": "stream",
          "name": "stderr",
          "text": []
        },
        {
          "output_type": "stream",
          "name": "stdout",
          "text": [
            "Epoch 11 | Train Loss: 0.7718 | Val Loss: 0.6853 | Val Acc: 76.40%\n"
          ]
        },
        {
          "output_type": "stream",
          "name": "stderr",
          "text": []
        },
        {
          "output_type": "stream",
          "name": "stdout",
          "text": [
            "Epoch 12 | Train Loss: 0.7160 | Val Loss: 0.6494 | Val Acc: 77.82%\n"
          ]
        },
        {
          "output_type": "stream",
          "name": "stderr",
          "text": []
        },
        {
          "output_type": "stream",
          "name": "stdout",
          "text": [
            "Epoch 13 | Train Loss: 0.6721 | Val Loss: 0.5799 | Val Acc: 80.10%\n"
          ]
        },
        {
          "output_type": "stream",
          "name": "stderr",
          "text": []
        },
        {
          "output_type": "stream",
          "name": "stdout",
          "text": [
            "Epoch 14 | Train Loss: 0.6253 | Val Loss: 0.5913 | Val Acc: 79.92%\n"
          ]
        },
        {
          "output_type": "stream",
          "name": "stderr",
          "text": []
        },
        {
          "output_type": "stream",
          "name": "stdout",
          "text": [
            "Epoch 15 | Train Loss: 0.5906 | Val Loss: 0.5496 | Val Acc: 81.44%\n"
          ]
        },
        {
          "output_type": "stream",
          "name": "stderr",
          "text": []
        },
        {
          "output_type": "stream",
          "name": "stdout",
          "text": [
            "Epoch 16 | Train Loss: 0.5559 | Val Loss: 0.5729 | Val Acc: 80.77%\n"
          ]
        },
        {
          "output_type": "stream",
          "name": "stderr",
          "text": []
        },
        {
          "output_type": "stream",
          "name": "stdout",
          "text": [
            "Epoch 17 | Train Loss: 0.5252 | Val Loss: 0.5368 | Val Acc: 81.59%\n"
          ]
        },
        {
          "output_type": "stream",
          "name": "stderr",
          "text": []
        },
        {
          "output_type": "stream",
          "name": "stdout",
          "text": [
            "Epoch 18 | Train Loss: 0.4975 | Val Loss: 0.4805 | Val Acc: 83.47%\n"
          ]
        },
        {
          "output_type": "stream",
          "name": "stderr",
          "text": []
        },
        {
          "output_type": "stream",
          "name": "stdout",
          "text": [
            "Epoch 19 | Train Loss: 0.4701 | Val Loss: 0.4489 | Val Acc: 85.02%\n"
          ]
        },
        {
          "output_type": "stream",
          "name": "stderr",
          "text": []
        },
        {
          "output_type": "stream",
          "name": "stdout",
          "text": [
            "Epoch 20 | Train Loss: 0.4480 | Val Loss: 0.4448 | Val Acc: 85.02%\n"
          ]
        },
        {
          "output_type": "stream",
          "name": "stderr",
          "text": []
        },
        {
          "output_type": "stream",
          "name": "stdout",
          "text": [
            "Epoch 21 | Train Loss: 0.4249 | Val Loss: 0.4429 | Val Acc: 84.88%\n"
          ]
        },
        {
          "output_type": "stream",
          "name": "stderr",
          "text": []
        },
        {
          "output_type": "stream",
          "name": "stdout",
          "text": [
            "Epoch 22 | Train Loss: 0.4159 | Val Loss: 0.4541 | Val Acc: 85.18%\n"
          ]
        },
        {
          "output_type": "stream",
          "name": "stderr",
          "text": []
        },
        {
          "output_type": "stream",
          "name": "stdout",
          "text": [
            "Epoch 23 | Train Loss: 0.3930 | Val Loss: 0.4223 | Val Acc: 86.14%\n"
          ]
        },
        {
          "output_type": "stream",
          "name": "stderr",
          "text": []
        },
        {
          "output_type": "stream",
          "name": "stdout",
          "text": [
            "Epoch 24 | Train Loss: 0.3702 | Val Loss: 0.4084 | Val Acc: 86.39%\n"
          ]
        },
        {
          "output_type": "stream",
          "name": "stderr",
          "text": []
        },
        {
          "output_type": "stream",
          "name": "stdout",
          "text": [
            "Epoch 25 | Train Loss: 0.3591 | Val Loss: 0.3986 | Val Acc: 86.82%\n"
          ]
        },
        {
          "output_type": "stream",
          "name": "stderr",
          "text": []
        },
        {
          "output_type": "stream",
          "name": "stdout",
          "text": [
            "Epoch 26 | Train Loss: 0.3473 | Val Loss: 0.4475 | Val Acc: 85.52%\n"
          ]
        },
        {
          "output_type": "stream",
          "name": "stderr",
          "text": []
        },
        {
          "output_type": "stream",
          "name": "stdout",
          "text": [
            "Epoch 27 | Train Loss: 0.3257 | Val Loss: 0.3977 | Val Acc: 86.67%\n"
          ]
        },
        {
          "output_type": "stream",
          "name": "stderr",
          "text": []
        },
        {
          "output_type": "stream",
          "name": "stdout",
          "text": [
            "Epoch 28 | Train Loss: 0.3213 | Val Loss: 0.4119 | Val Acc: 86.33%\n"
          ]
        },
        {
          "output_type": "stream",
          "name": "stderr",
          "text": []
        },
        {
          "output_type": "stream",
          "name": "stdout",
          "text": [
            "Epoch 29 | Train Loss: 0.3052 | Val Loss: 0.4298 | Val Acc: 86.32%\n"
          ]
        },
        {
          "output_type": "stream",
          "name": "stderr",
          "text": []
        },
        {
          "output_type": "stream",
          "name": "stdout",
          "text": [
            "Epoch 30 | Train Loss: 0.2956 | Val Loss: 0.3905 | Val Acc: 87.51%\n"
          ]
        },
        {
          "output_type": "stream",
          "name": "stderr",
          "text": []
        },
        {
          "output_type": "stream",
          "name": "stdout",
          "text": [
            "Epoch 31 | Train Loss: 0.2129 | Val Loss: 0.3330 | Val Acc: 89.17%\n"
          ]
        },
        {
          "output_type": "stream",
          "name": "stderr",
          "text": []
        },
        {
          "output_type": "stream",
          "name": "stdout",
          "text": [
            "Epoch 32 | Train Loss: 0.1919 | Val Loss: 0.3261 | Val Acc: 89.56%\n"
          ]
        },
        {
          "output_type": "stream",
          "name": "stderr",
          "text": []
        },
        {
          "output_type": "stream",
          "name": "stdout",
          "text": [
            "Epoch 33 | Train Loss: 0.1779 | Val Loss: 0.3350 | Val Acc: 89.24%\n"
          ]
        },
        {
          "output_type": "stream",
          "name": "stderr",
          "text": []
        },
        {
          "output_type": "stream",
          "name": "stdout",
          "text": [
            "Epoch 34 | Train Loss: 0.1750 | Val Loss: 0.3348 | Val Acc: 89.29%\n"
          ]
        },
        {
          "output_type": "stream",
          "name": "stderr",
          "text": []
        },
        {
          "output_type": "stream",
          "name": "stdout",
          "text": [
            "Epoch 35 | Train Loss: 0.1727 | Val Loss: 0.3345 | Val Acc: 89.35%\n"
          ]
        },
        {
          "output_type": "stream",
          "name": "stderr",
          "text": []
        },
        {
          "output_type": "stream",
          "name": "stdout",
          "text": [
            "Epoch 36 | Train Loss: 0.1647 | Val Loss: 0.3248 | Val Acc: 89.69%\n"
          ]
        },
        {
          "output_type": "stream",
          "name": "stderr",
          "text": []
        },
        {
          "output_type": "stream",
          "name": "stdout",
          "text": [
            "Epoch 37 | Train Loss: 0.1637 | Val Loss: 0.3248 | Val Acc: 89.85%\n"
          ]
        },
        {
          "output_type": "stream",
          "name": "stderr",
          "text": []
        },
        {
          "output_type": "stream",
          "name": "stdout",
          "text": [
            "Epoch 38 | Train Loss: 0.1587 | Val Loss: 0.3283 | Val Acc: 89.87%\n"
          ]
        },
        {
          "output_type": "stream",
          "name": "stderr",
          "text": []
        },
        {
          "output_type": "stream",
          "name": "stdout",
          "text": [
            "Epoch 39 | Train Loss: 0.1532 | Val Loss: 0.3374 | Val Acc: 89.81%\n"
          ]
        },
        {
          "output_type": "stream",
          "name": "stderr",
          "text": []
        },
        {
          "output_type": "stream",
          "name": "stdout",
          "text": [
            "Epoch 40 | Train Loss: 0.1520 | Val Loss: 0.3245 | Val Acc: 89.98%\n"
          ]
        },
        {
          "output_type": "stream",
          "name": "stderr",
          "text": []
        },
        {
          "output_type": "stream",
          "name": "stdout",
          "text": [
            "Epoch 41 | Train Loss: 0.1499 | Val Loss: 0.3325 | Val Acc: 89.66%\n"
          ]
        },
        {
          "output_type": "stream",
          "name": "stderr",
          "text": []
        },
        {
          "output_type": "stream",
          "name": "stdout",
          "text": [
            "Epoch 42 | Train Loss: 0.1468 | Val Loss: 0.3299 | Val Acc: 89.73%\n"
          ]
        },
        {
          "output_type": "stream",
          "name": "stderr",
          "text": []
        },
        {
          "output_type": "stream",
          "name": "stdout",
          "text": [
            "Epoch 43 | Train Loss: 0.1443 | Val Loss: 0.3315 | Val Acc: 89.66%\n"
          ]
        },
        {
          "output_type": "stream",
          "name": "stderr",
          "text": []
        },
        {
          "output_type": "stream",
          "name": "stdout",
          "text": [
            "Epoch 44 | Train Loss: 0.1429 | Val Loss: 0.3302 | Val Acc: 89.86%\n"
          ]
        },
        {
          "output_type": "stream",
          "name": "stderr",
          "text": []
        },
        {
          "output_type": "stream",
          "name": "stdout",
          "text": [
            "Epoch 45 | Train Loss: 0.1375 | Val Loss: 0.3309 | Val Acc: 89.76%\n"
          ]
        },
        {
          "output_type": "stream",
          "name": "stderr",
          "text": []
        },
        {
          "output_type": "stream",
          "name": "stdout",
          "text": [
            "Epoch 46 | Train Loss: 0.1354 | Val Loss: 0.3321 | Val Acc: 89.84%\n"
          ]
        },
        {
          "output_type": "stream",
          "name": "stderr",
          "text": []
        },
        {
          "output_type": "stream",
          "name": "stdout",
          "text": [
            "Epoch 47 | Train Loss: 0.1309 | Val Loss: 0.3317 | Val Acc: 89.97%\n"
          ]
        },
        {
          "output_type": "stream",
          "name": "stderr",
          "text": []
        },
        {
          "output_type": "stream",
          "name": "stdout",
          "text": [
            "Epoch 48 | Train Loss: 0.1319 | Val Loss: 0.3353 | Val Acc: 90.02%\n"
          ]
        },
        {
          "output_type": "stream",
          "name": "stderr",
          "text": []
        },
        {
          "output_type": "stream",
          "name": "stdout",
          "text": [
            "Epoch 49 | Train Loss: 0.1286 | Val Loss: 0.3379 | Val Acc: 89.94%\n"
          ]
        },
        {
          "output_type": "stream",
          "name": "stderr",
          "text": []
        },
        {
          "output_type": "stream",
          "name": "stdout",
          "text": [
            "Epoch 50 | Train Loss: 0.1282 | Val Loss: 0.3387 | Val Acc: 89.91%\n",
            "\n",
            "============================================================\n",
            "Training VGGNet WITHOUT Dropout:\n"
          ]
        },
        {
          "output_type": "stream",
          "name": "stderr",
          "text": []
        },
        {
          "output_type": "stream",
          "name": "stdout",
          "text": [
            "Epoch 01 | Train Loss: 2.2388 | Val Loss: 2.0121 | Val Acc: 26.87%\n"
          ]
        },
        {
          "output_type": "stream",
          "name": "stderr",
          "text": []
        },
        {
          "output_type": "stream",
          "name": "stdout",
          "text": [
            "Epoch 02 | Train Loss: 1.9007 | Val Loss: 1.7168 | Val Acc: 37.27%\n"
          ]
        },
        {
          "output_type": "stream",
          "name": "stderr",
          "text": []
        },
        {
          "output_type": "stream",
          "name": "stdout",
          "text": [
            "Epoch 03 | Train Loss: 1.6441 | Val Loss: 1.3884 | Val Acc: 49.21%\n"
          ]
        },
        {
          "output_type": "stream",
          "name": "stderr",
          "text": []
        },
        {
          "output_type": "stream",
          "name": "stdout",
          "text": [
            "Epoch 04 | Train Loss: 1.4204 | Val Loss: 1.2748 | Val Acc: 53.35%\n"
          ]
        },
        {
          "output_type": "stream",
          "name": "stderr",
          "text": []
        },
        {
          "output_type": "stream",
          "name": "stdout",
          "text": [
            "Epoch 05 | Train Loss: 1.2521 | Val Loss: 1.1257 | Val Acc: 58.24%\n"
          ]
        },
        {
          "output_type": "stream",
          "name": "stderr",
          "text": []
        },
        {
          "output_type": "stream",
          "name": "stdout",
          "text": [
            "Epoch 06 | Train Loss: 1.1001 | Val Loss: 1.0225 | Val Acc: 63.95%\n"
          ]
        },
        {
          "output_type": "stream",
          "name": "stderr",
          "text": []
        },
        {
          "output_type": "stream",
          "name": "stdout",
          "text": [
            "Epoch 07 | Train Loss: 0.9764 | Val Loss: 0.9160 | Val Acc: 67.25%\n"
          ]
        },
        {
          "output_type": "stream",
          "name": "stderr",
          "text": []
        },
        {
          "output_type": "stream",
          "name": "stdout",
          "text": [
            "Epoch 08 | Train Loss: 0.8916 | Val Loss: 0.7852 | Val Acc: 72.57%\n"
          ]
        },
        {
          "output_type": "stream",
          "name": "stderr",
          "text": []
        },
        {
          "output_type": "stream",
          "name": "stdout",
          "text": [
            "Epoch 09 | Train Loss: 0.7950 | Val Loss: 0.7025 | Val Acc: 75.80%\n"
          ]
        },
        {
          "output_type": "stream",
          "name": "stderr",
          "text": []
        },
        {
          "output_type": "stream",
          "name": "stdout",
          "text": [
            "Epoch 10 | Train Loss: 0.7246 | Val Loss: 0.6534 | Val Acc: 77.24%\n"
          ]
        },
        {
          "output_type": "stream",
          "name": "stderr",
          "text": []
        },
        {
          "output_type": "stream",
          "name": "stdout",
          "text": [
            "Epoch 11 | Train Loss: 0.6665 | Val Loss: 0.6580 | Val Acc: 77.00%\n"
          ]
        },
        {
          "output_type": "stream",
          "name": "stderr",
          "text": []
        },
        {
          "output_type": "stream",
          "name": "stdout",
          "text": [
            "Epoch 12 | Train Loss: 0.6128 | Val Loss: 0.6458 | Val Acc: 77.84%\n"
          ]
        },
        {
          "output_type": "stream",
          "name": "stderr",
          "text": []
        },
        {
          "output_type": "stream",
          "name": "stdout",
          "text": [
            "Epoch 13 | Train Loss: 0.5748 | Val Loss: 0.5486 | Val Acc: 81.17%\n"
          ]
        },
        {
          "output_type": "stream",
          "name": "stderr",
          "text": []
        },
        {
          "output_type": "stream",
          "name": "stdout",
          "text": [
            "Epoch 14 | Train Loss: 0.5319 | Val Loss: 0.5600 | Val Acc: 80.73%\n"
          ]
        },
        {
          "output_type": "stream",
          "name": "stderr",
          "text": []
        },
        {
          "output_type": "stream",
          "name": "stdout",
          "text": [
            "Epoch 15 | Train Loss: 0.5092 | Val Loss: 0.5174 | Val Acc: 82.21%\n"
          ]
        },
        {
          "output_type": "stream",
          "name": "stderr",
          "text": []
        },
        {
          "output_type": "stream",
          "name": "stdout",
          "text": [
            "Epoch 16 | Train Loss: 0.4783 | Val Loss: 0.4847 | Val Acc: 83.62%\n"
          ]
        },
        {
          "output_type": "stream",
          "name": "stderr",
          "text": []
        },
        {
          "output_type": "stream",
          "name": "stdout",
          "text": [
            "Epoch 17 | Train Loss: 0.4464 | Val Loss: 0.4735 | Val Acc: 83.87%\n"
          ]
        },
        {
          "output_type": "stream",
          "name": "stderr",
          "text": []
        },
        {
          "output_type": "stream",
          "name": "stdout",
          "text": [
            "Epoch 18 | Train Loss: 0.4189 | Val Loss: 0.4612 | Val Acc: 84.33%\n"
          ]
        },
        {
          "output_type": "stream",
          "name": "stderr",
          "text": []
        },
        {
          "output_type": "stream",
          "name": "stdout",
          "text": [
            "Epoch 19 | Train Loss: 0.4111 | Val Loss: 0.4608 | Val Acc: 84.33%\n"
          ]
        },
        {
          "output_type": "stream",
          "name": "stderr",
          "text": []
        },
        {
          "output_type": "stream",
          "name": "stdout",
          "text": [
            "Epoch 20 | Train Loss: 0.3818 | Val Loss: 0.4919 | Val Acc: 83.85%\n"
          ]
        },
        {
          "output_type": "stream",
          "name": "stderr",
          "text": []
        },
        {
          "output_type": "stream",
          "name": "stdout",
          "text": [
            "Epoch 21 | Train Loss: 0.3667 | Val Loss: 0.5028 | Val Acc: 83.28%\n"
          ]
        },
        {
          "output_type": "stream",
          "name": "stderr",
          "text": []
        },
        {
          "output_type": "stream",
          "name": "stdout",
          "text": [
            "Epoch 22 | Train Loss: 0.3426 | Val Loss: 0.4281 | Val Acc: 85.82%\n"
          ]
        },
        {
          "output_type": "stream",
          "name": "stderr",
          "text": []
        },
        {
          "output_type": "stream",
          "name": "stdout",
          "text": [
            "Epoch 23 | Train Loss: 0.3314 | Val Loss: 0.4385 | Val Acc: 85.28%\n"
          ]
        },
        {
          "output_type": "stream",
          "name": "stderr",
          "text": []
        },
        {
          "output_type": "stream",
          "name": "stdout",
          "text": [
            "Epoch 24 | Train Loss: 0.3172 | Val Loss: 0.4089 | Val Acc: 86.39%\n"
          ]
        },
        {
          "output_type": "stream",
          "name": "stderr",
          "text": []
        },
        {
          "output_type": "stream",
          "name": "stdout",
          "text": [
            "Epoch 25 | Train Loss: 0.3001 | Val Loss: 0.4072 | Val Acc: 86.62%\n"
          ]
        },
        {
          "output_type": "stream",
          "name": "stderr",
          "text": []
        },
        {
          "output_type": "stream",
          "name": "stdout",
          "text": [
            "Epoch 26 | Train Loss: 0.2884 | Val Loss: 0.4108 | Val Acc: 86.49%\n"
          ]
        },
        {
          "output_type": "stream",
          "name": "stderr",
          "text": []
        },
        {
          "output_type": "stream",
          "name": "stdout",
          "text": [
            "Epoch 27 | Train Loss: 0.2765 | Val Loss: 0.3969 | Val Acc: 87.15%\n"
          ]
        },
        {
          "output_type": "stream",
          "name": "stderr",
          "text": []
        },
        {
          "output_type": "stream",
          "name": "stdout",
          "text": [
            "Epoch 28 | Train Loss: 0.2614 | Val Loss: 0.4143 | Val Acc: 86.77%\n"
          ]
        },
        {
          "output_type": "stream",
          "name": "stderr",
          "text": []
        },
        {
          "output_type": "stream",
          "name": "stdout",
          "text": [
            "Epoch 29 | Train Loss: 0.2574 | Val Loss: 0.4125 | Val Acc: 86.36%\n"
          ]
        },
        {
          "output_type": "stream",
          "name": "stderr",
          "text": []
        },
        {
          "output_type": "stream",
          "name": "stdout",
          "text": [
            "Epoch 30 | Train Loss: 0.2392 | Val Loss: 0.4353 | Val Acc: 86.11%\n"
          ]
        },
        {
          "output_type": "stream",
          "name": "stderr",
          "text": []
        },
        {
          "output_type": "stream",
          "name": "stdout",
          "text": [
            "Epoch 31 | Train Loss: 0.1576 | Val Loss: 0.3628 | Val Acc: 89.02%\n"
          ]
        },
        {
          "output_type": "stream",
          "name": "stderr",
          "text": []
        },
        {
          "output_type": "stream",
          "name": "stdout",
          "text": [
            "Epoch 32 | Train Loss: 0.1368 | Val Loss: 0.3641 | Val Acc: 89.15%\n"
          ]
        },
        {
          "output_type": "stream",
          "name": "stderr",
          "text": []
        },
        {
          "output_type": "stream",
          "name": "stdout",
          "text": [
            "Epoch 33 | Train Loss: 0.1288 | Val Loss: 0.3665 | Val Acc: 89.31%\n"
          ]
        },
        {
          "output_type": "stream",
          "name": "stderr",
          "text": []
        },
        {
          "output_type": "stream",
          "name": "stdout",
          "text": [
            "Epoch 34 | Train Loss: 0.1231 | Val Loss: 0.3663 | Val Acc: 89.48%\n"
          ]
        },
        {
          "output_type": "stream",
          "name": "stderr",
          "text": []
        },
        {
          "output_type": "stream",
          "name": "stdout",
          "text": [
            "Epoch 35 | Train Loss: 0.1153 | Val Loss: 0.3715 | Val Acc: 89.39%\n"
          ]
        },
        {
          "output_type": "stream",
          "name": "stderr",
          "text": []
        },
        {
          "output_type": "stream",
          "name": "stdout",
          "text": [
            "Epoch 36 | Train Loss: 0.1106 | Val Loss: 0.3737 | Val Acc: 89.49%\n"
          ]
        },
        {
          "output_type": "stream",
          "name": "stderr",
          "text": []
        },
        {
          "output_type": "stream",
          "name": "stdout",
          "text": [
            "Epoch 37 | Train Loss: 0.1072 | Val Loss: 0.3780 | Val Acc: 89.37%\n"
          ]
        },
        {
          "output_type": "stream",
          "name": "stderr",
          "text": []
        },
        {
          "output_type": "stream",
          "name": "stdout",
          "text": [
            "Epoch 38 | Train Loss: 0.1044 | Val Loss: 0.3746 | Val Acc: 89.37%\n"
          ]
        },
        {
          "output_type": "stream",
          "name": "stderr",
          "text": []
        },
        {
          "output_type": "stream",
          "name": "stdout",
          "text": [
            "Epoch 39 | Train Loss: 0.1015 | Val Loss: 0.3812 | Val Acc: 89.35%\n"
          ]
        },
        {
          "output_type": "stream",
          "name": "stderr",
          "text": []
        },
        {
          "output_type": "stream",
          "name": "stdout",
          "text": [
            "Epoch 40 | Train Loss: 0.1000 | Val Loss: 0.3745 | Val Acc: 89.50%\n"
          ]
        },
        {
          "output_type": "stream",
          "name": "stderr",
          "text": []
        },
        {
          "output_type": "stream",
          "name": "stdout",
          "text": [
            "Epoch 41 | Train Loss: 0.0964 | Val Loss: 0.3835 | Val Acc: 89.30%\n"
          ]
        },
        {
          "output_type": "stream",
          "name": "stderr",
          "text": []
        },
        {
          "output_type": "stream",
          "name": "stdout",
          "text": [
            "Epoch 42 | Train Loss: 0.0919 | Val Loss: 0.3809 | Val Acc: 89.35%\n"
          ]
        },
        {
          "output_type": "stream",
          "name": "stderr",
          "text": []
        },
        {
          "output_type": "stream",
          "name": "stdout",
          "text": [
            "Epoch 43 | Train Loss: 0.0888 | Val Loss: 0.3992 | Val Acc: 89.14%\n"
          ]
        },
        {
          "output_type": "stream",
          "name": "stderr",
          "text": []
        },
        {
          "output_type": "stream",
          "name": "stdout",
          "text": [
            "Epoch 44 | Train Loss: 0.0863 | Val Loss: 0.3991 | Val Acc: 89.12%\n"
          ]
        },
        {
          "output_type": "stream",
          "name": "stderr",
          "text": []
        },
        {
          "output_type": "stream",
          "name": "stdout",
          "text": [
            "Epoch 45 | Train Loss: 0.0828 | Val Loss: 0.3980 | Val Acc: 89.31%\n"
          ]
        },
        {
          "output_type": "stream",
          "name": "stderr",
          "text": []
        },
        {
          "output_type": "stream",
          "name": "stdout",
          "text": [
            "Epoch 46 | Train Loss: 0.0817 | Val Loss: 0.4003 | Val Acc: 89.33%\n"
          ]
        },
        {
          "output_type": "stream",
          "name": "stderr",
          "text": []
        },
        {
          "output_type": "stream",
          "name": "stdout",
          "text": [
            "Epoch 47 | Train Loss: 0.0812 | Val Loss: 0.4089 | Val Acc: 89.03%\n"
          ]
        },
        {
          "output_type": "stream",
          "name": "stderr",
          "text": []
        },
        {
          "output_type": "stream",
          "name": "stdout",
          "text": [
            "Epoch 48 | Train Loss: 0.0776 | Val Loss: 0.3987 | Val Acc: 89.27%\n"
          ]
        },
        {
          "output_type": "stream",
          "name": "stderr",
          "text": []
        },
        {
          "output_type": "stream",
          "name": "stdout",
          "text": [
            "Epoch 49 | Train Loss: 0.0766 | Val Loss: 0.4095 | Val Acc: 89.35%\n"
          ]
        },
        {
          "output_type": "stream",
          "name": "stderr",
          "text": []
        },
        {
          "output_type": "stream",
          "name": "stdout",
          "text": [
            "Epoch 50 | Train Loss: 0.0696 | Val Loss: 0.4211 | Val Acc: 89.36%\n",
            "\n",
            "PARAMETER COMPARISON:\n",
            "VGGNet: 5,870,666\n",
            "Modifed AlexNet: 6,976,842\n",
            "Original AlexNet: ~61,000,000\n"
          ]
        },
        {
          "output_type": "display_data",
          "data": {
            "text/plain": [
              "<Figure size 1500x500 with 2 Axes>"
            ],
            "image/png": "[encoded data removed]"
          },
          "metadata": {}
        }
      ]
    },
    {
      "cell_type": "code",
      "source": [
        "#PROBLEM 2 (CIFAR-100)(VGG)\n",
        "class CIFAR100_VGG(nn.Module):\n",
        "    def __init__(self, dropout=True):\n",
        "        super().__init__()\n",
        "        self.features = nn.Sequential(\n",
        "            nn.Conv2d(3, 64, 3, padding=1),\n",
        "            nn.BatchNorm2d(64),\n",
        "            nn.ReLU(inplace=True),\n",
        "            nn.Conv2d(64, 64, 3, padding=1),\n",
        "            nn.BatchNorm2d(64),\n",
        "            nn.ReLU(inplace=True),\n",
        "            nn.MaxPool2d(2, 2),\n",
        "\n",
        "            nn.Conv2d(64, 128, 3, padding=1),\n",
        "            nn.BatchNorm2d(128),\n",
        "            nn.ReLU(inplace=True),\n",
        "            nn.Conv2d(128, 128, 3, padding=1),\n",
        "            nn.BatchNorm2d(128),\n",
        "            nn.ReLU(inplace=True),\n",
        "            nn.MaxPool2d(2, 2),\n",
        "\n",
        "            nn.Conv2d(128, 256, 3, padding=1),\n",
        "            nn.BatchNorm2d(256),\n",
        "            nn.ReLU(inplace=True),\n",
        "            nn.Conv2d(256, 256, 3, padding=1),\n",
        "            nn.BatchNorm2d(256),\n",
        "            nn.ReLU(inplace=True),\n",
        "            nn.MaxPool2d(2, 2),\n",
        "        )\n",
        "        self.classifier = nn.Sequential(\n",
        "            nn.Linear(256 * 4 * 4, 1024),\n",
        "            nn.BatchNorm1d(1024),\n",
        "            nn.ReLU(inplace=True),\n",
        "            nn.Dropout(0.5) if dropout else nn.Identity(),\n",
        "            nn.Linear(1024, 512),\n",
        "            nn.BatchNorm1d(512),\n",
        "            nn.ReLU(inplace=True),\n",
        "            nn.Dropout(0.5) if dropout else nn.Identity(),\n",
        "            nn.Linear(512, 100)\n",
        "        )\n",
        "\n",
        "    def forward(self, x):\n",
        "        x = self.features(x)\n",
        "        x = torch.flatten(x, 1)\n",
        "        x = self.classifier(x)\n",
        "        return x\n",
        "\n",
        "def train_model(model, train_loader, test_loader, num_epochs=100, lr=0.1):\n",
        "    model = model.to(device)\n",
        "    optimizer = optim.SGD(model.parameters(), lr=lr, momentum=0.9, weight_decay=5e-4)\n",
        "    scheduler = optim.lr_scheduler.MultiStepLR(optimizer, milestones=[50, 75], gamma=0.1)\n",
        "    criterion = nn.CrossEntropyLoss()\n",
        "\n",
        "    history = {'train_loss': [], 'val_loss': [], 'val_acc': []}\n",
        "\n",
        "    for epoch in range(num_epochs):\n",
        "        model.train()\n",
        "        train_loss = 0.0\n",
        "        for inputs, labels in tqdm(train_loader, desc=f'Epoch {epoch+1}/{num_epochs}', leave=False):\n",
        "            inputs, labels = inputs.to(device), labels.to(device)\n",
        "            optimizer.zero_grad()\n",
        "            outputs = model(inputs)\n",
        "            loss = criterion(outputs, labels)\n",
        "            loss.backward()\n",
        "            optimizer.step()\n",
        "            train_loss += loss.item() * inputs.size(0)\n",
        "\n",
        "        model.eval()\n",
        "        val_loss = 0.0\n",
        "        correct = 0\n",
        "        with torch.no_grad():\n",
        "            for inputs, labels in test_loader:\n",
        "                inputs, labels = inputs.to(device), labels.to(device)\n",
        "                outputs = model(inputs)\n",
        "                loss = criterion(outputs, labels)\n",
        "                val_loss += loss.item() * inputs.size(0)\n",
        "                _, preds = torch.max(outputs, 1)\n",
        "                correct += (preds == labels).sum().item()\n",
        "\n",
        "        train_loss = train_loss / len(train_loader.dataset)\n",
        "        val_loss = val_loss / len(test_loader.dataset)\n",
        "        val_acc = 100 * correct / len(test_loader.dataset)\n",
        "\n",
        "        history['train_loss'].append(train_loss)\n",
        "        history['val_loss'].append(val_loss)\n",
        "        history['val_acc'].append(val_acc)\n",
        "\n",
        "        print(f'Epoch {epoch+1:02d} | Train Loss: {train_loss:.4f} | Val Loss: {val_loss:.4f} | Val Acc: {val_acc:.2f}%')\n",
        "        scheduler.step()\n",
        "\n",
        "    return history\n",
        "\n",
        "print(\"\\n\" + \"=\"*60)\n",
        "print(\"Training CIFAR-100 VGG WITH Dropout:\")\n",
        "vgg100_dropout = CIFAR100_VGG(dropout=True)\n",
        "vgg100_history_dropout = train_model(vgg100_dropout, cifar100_train_loader, cifar100_test_loader)\n",
        "\n",
        "print(\"\\n\" + \"=\"*60)\n",
        "print(\"Training CIFAR-100 VGG WITHOUT Dropout:\")\n",
        "vgg100_no_dropout = CIFAR100_VGG(dropout=False)\n",
        "vgg100_history_no_dropout = train_model(vgg100_no_dropout, cifar100_train_loader, cifar100_test_loader)\n",
        "\n",
        "print(\"\\n\" + \"=\"*60)\n",
        "print(\"Final Results for CIFAR-100 VGGNet:\")\n",
        "print(f\"With Dropout - Best Val Acc: {max(vgg100_history_dropout['val_acc']):.2f}%\")\n",
        "print(f\"Without Dropout - Best Val Acc: {max(vgg100_history_no_dropout['val_acc']):.2f}%\")\n",
        "print(f\"Parameter Count: {count_parameters(vgg100_dropout):,}\")\n",
        "\n",
        "plt.figure(figsize=(12, 5))\n",
        "plt.subplot(1, 2, 1)\n",
        "plt.plot(vgg100_history_dropout['val_loss'], label='With Dropout')\n",
        "plt.plot(vgg100_history_no_dropout['val_loss'], label='Without Dropout')\n",
        "plt.title('CIFAR-100 VGG: Validation Loss')\n",
        "plt.xlabel('Epoch')\n",
        "plt.ylabel('Loss')\n",
        "plt.legend()\n",
        "\n",
        "plt.subplot(1, 2, 2)\n",
        "plt.plot(vgg100_history_dropout['val_acc'], label='With Dropout')\n",
        "plt.plot(vgg100_history_no_dropout['val_acc'], label='Without Dropout')\n",
        "plt.title('CIFAR-100 VGG: Validation Accuracy')\n",
        "plt.xlabel('Epoch')\n",
        "plt.ylabel('Accuracy (%)')\n",
        "plt.legend()\n",
        "\n",
        "plt.tight_layout()\n",
        "plt.show()\n",
        "\n",
        "if 'results' not in globals():\n",
        "    results = {}\n",
        "\n",
        "results['VGG-C100-Dropout'] = {\n",
        "    'val_acc': max(vgg100_history_dropout['val_acc']),\n",
        "    'params': count_parameters(vgg100_dropout)\n",
        "}\n",
        "results['VGG-C100-NoDropout'] = {\n",
        "    'val_acc': max(vgg100_history_no_dropout['val_acc']),\n",
        "    'params': count_parameters(vgg100_no_dropout)\n",
        "}\n",
        "\n",
        "#comparison table\n",
        "print(\"\\n\" + \"=\"*60)\n",
        "print(\"{:<25} {:<10} {:<10} {:<10} {:<10}\".format('Model', 'Dataset', 'Dropout', 'Val Acc (%)', 'Params'))\n",
        "print(\"-\"*60)\n",
        "for model_name in results:\n",
        "    if 'C100' in model_name:\n",
        "        dataset = 'CIFAR-100'\n",
        "        dropout = 'Yes' if 'Dropout' in model_name else 'No'\n",
        "        acc = results[model_name]['val_acc']\n",
        "        params = results[model_name]['params']\n",
        "        print(\"{:<25} {:<10} {:<10} {:<10.2f} {:<10,}\".format(\n",
        "            model_name.split('-')[0],\n",
        "            dataset,\n",
        "            dropout,\n",
        "            acc,\n",
        "            params\n",
        "        ))"
      ],
      "metadata": {
        "colab": {
          "base_uri": "https://localhost:8080/",
          "height": 1000
        },
        "id": "ENjMvLQbrync",
        "outputId": "95f55636-edce-45b5-89be-c7f0e4d60f57"
      },
      "execution_count": 4,
      "outputs": [
        {
          "output_type": "stream",
          "name": "stdout",
          "text": [
            "\n",
            "============================================================\n",
            "Training CIFAR-100 VGG WITH Dropout:\n"
          ]
        },
        {
          "output_type": "stream",
          "name": "stderr",
          "text": []
        },
        {
          "output_type": "stream",
          "name": "stdout",
          "text": [
            "Epoch 01 | Train Loss: 4.0979 | Val Loss: 3.5187 | Val Acc: 15.31%\n"
          ]
        },
        {
          "output_type": "stream",
          "name": "stderr",
          "text": []
        },
        {
          "output_type": "stream",
          "name": "stdout",
          "text": [
            "Epoch 02 | Train Loss: 3.4556 | Val Loss: 3.1135 | Val Acc: 22.55%\n"
          ]
        },
        {
          "output_type": "stream",
          "name": "stderr",
          "text": []
        },
        {
          "output_type": "stream",
          "name": "stdout",
          "text": [
            "Epoch 03 | Train Loss: 3.0421 | Val Loss: 2.7412 | Val Acc: 29.82%\n"
          ]
        },
        {
          "output_type": "stream",
          "name": "stderr",
          "text": []
        },
        {
          "output_type": "stream",
          "name": "stdout",
          "text": [
            "Epoch 04 | Train Loss: 2.6901 | Val Loss: 2.3790 | Val Acc: 36.57%\n"
          ]
        },
        {
          "output_type": "stream",
          "name": "stderr",
          "text": []
        },
        {
          "output_type": "stream",
          "name": "stdout",
          "text": [
            "Epoch 05 | Train Loss: 2.4724 | Val Loss: 2.5468 | Val Acc: 34.36%\n"
          ]
        },
        {
          "output_type": "stream",
          "name": "stderr",
          "text": []
        },
        {
          "output_type": "stream",
          "name": "stdout",
          "text": [
            "Epoch 06 | Train Loss: 2.3068 | Val Loss: 2.1768 | Val Acc: 41.73%\n"
          ]
        },
        {
          "output_type": "stream",
          "name": "stderr",
          "text": []
        },
        {
          "output_type": "stream",
          "name": "stdout",
          "text": [
            "Epoch 07 | Train Loss: 2.1898 | Val Loss: 2.4726 | Val Acc: 37.00%\n"
          ]
        },
        {
          "output_type": "stream",
          "name": "stderr",
          "text": []
        },
        {
          "output_type": "stream",
          "name": "stdout",
          "text": [
            "Epoch 08 | Train Loss: 2.1076 | Val Loss: 2.1461 | Val Acc: 43.06%\n"
          ]
        },
        {
          "output_type": "stream",
          "name": "stderr",
          "text": []
        },
        {
          "output_type": "stream",
          "name": "stdout",
          "text": [
            "Epoch 09 | Train Loss: 2.0441 | Val Loss: 1.9472 | Val Acc: 47.60%\n"
          ]
        },
        {
          "output_type": "stream",
          "name": "stderr",
          "text": []
        },
        {
          "output_type": "stream",
          "name": "stdout",
          "text": [
            "Epoch 10 | Train Loss: 1.9862 | Val Loss: 2.0739 | Val Acc: 44.85%\n"
          ]
        },
        {
          "output_type": "stream",
          "name": "stderr",
          "text": []
        },
        {
          "output_type": "stream",
          "name": "stdout",
          "text": [
            "Epoch 11 | Train Loss: 1.9360 | Val Loss: 1.9455 | Val Acc: 48.03%\n"
          ]
        },
        {
          "output_type": "stream",
          "name": "stderr",
          "text": []
        },
        {
          "output_type": "stream",
          "name": "stdout",
          "text": [
            "Epoch 12 | Train Loss: 1.8991 | Val Loss: 1.8292 | Val Acc: 50.23%\n"
          ]
        },
        {
          "output_type": "stream",
          "name": "stderr",
          "text": []
        },
        {
          "output_type": "stream",
          "name": "stdout",
          "text": [
            "Epoch 13 | Train Loss: 1.8631 | Val Loss: 1.8805 | Val Acc: 48.89%\n"
          ]
        },
        {
          "output_type": "stream",
          "name": "stderr",
          "text": []
        },
        {
          "output_type": "stream",
          "name": "stdout",
          "text": [
            "Epoch 14 | Train Loss: 1.8356 | Val Loss: 1.8694 | Val Acc: 50.21%\n"
          ]
        },
        {
          "output_type": "stream",
          "name": "stderr",
          "text": []
        },
        {
          "output_type": "stream",
          "name": "stdout",
          "text": [
            "Epoch 15 | Train Loss: 1.7958 | Val Loss: 1.9103 | Val Acc: 49.23%\n"
          ]
        },
        {
          "output_type": "stream",
          "name": "stderr",
          "text": []
        },
        {
          "output_type": "stream",
          "name": "stdout",
          "text": [
            "Epoch 16 | Train Loss: 1.7864 | Val Loss: 2.0938 | Val Acc: 46.16%\n"
          ]
        },
        {
          "output_type": "stream",
          "name": "stderr",
          "text": []
        },
        {
          "output_type": "stream",
          "name": "stdout",
          "text": [
            "Epoch 17 | Train Loss: 1.7717 | Val Loss: 2.1712 | Val Acc: 44.79%\n"
          ]
        },
        {
          "output_type": "stream",
          "name": "stderr",
          "text": []
        },
        {
          "output_type": "stream",
          "name": "stdout",
          "text": [
            "Epoch 18 | Train Loss: 1.7483 | Val Loss: 1.7873 | Val Acc: 50.98%\n"
          ]
        },
        {
          "output_type": "stream",
          "name": "stderr",
          "text": []
        },
        {
          "output_type": "stream",
          "name": "stdout",
          "text": [
            "Epoch 19 | Train Loss: 1.7352 | Val Loss: 1.8899 | Val Acc: 50.01%\n"
          ]
        },
        {
          "output_type": "stream",
          "name": "stderr",
          "text": []
        },
        {
          "output_type": "stream",
          "name": "stdout",
          "text": [
            "Epoch 20 | Train Loss: 1.7239 | Val Loss: 1.9737 | Val Acc: 48.30%\n"
          ]
        },
        {
          "output_type": "stream",
          "name": "stderr",
          "text": []
        },
        {
          "output_type": "stream",
          "name": "stdout",
          "text": [
            "Epoch 21 | Train Loss: 1.7143 | Val Loss: 1.7169 | Val Acc: 53.54%\n"
          ]
        },
        {
          "output_type": "stream",
          "name": "stderr",
          "text": []
        },
        {
          "output_type": "stream",
          "name": "stdout",
          "text": [
            "Epoch 22 | Train Loss: 1.7072 | Val Loss: 1.8705 | Val Acc: 49.46%\n"
          ]
        },
        {
          "output_type": "stream",
          "name": "stderr",
          "text": []
        },
        {
          "output_type": "stream",
          "name": "stdout",
          "text": [
            "Epoch 23 | Train Loss: 1.6822 | Val Loss: 1.8975 | Val Acc: 50.20%\n"
          ]
        },
        {
          "output_type": "stream",
          "name": "stderr",
          "text": []
        },
        {
          "output_type": "stream",
          "name": "stdout",
          "text": [
            "Epoch 24 | Train Loss: 1.6747 | Val Loss: 1.7447 | Val Acc: 52.65%\n"
          ]
        },
        {
          "output_type": "stream",
          "name": "stderr",
          "text": []
        },
        {
          "output_type": "stream",
          "name": "stdout",
          "text": [
            "Epoch 25 | Train Loss: 1.6708 | Val Loss: 1.7495 | Val Acc: 52.42%\n"
          ]
        },
        {
          "output_type": "stream",
          "name": "stderr",
          "text": []
        },
        {
          "output_type": "stream",
          "name": "stdout",
          "text": [
            "Epoch 26 | Train Loss: 1.6672 | Val Loss: 1.9173 | Val Acc: 50.24%\n"
          ]
        },
        {
          "output_type": "stream",
          "name": "stderr",
          "text": []
        },
        {
          "output_type": "stream",
          "name": "stdout",
          "text": [
            "Epoch 27 | Train Loss: 1.6518 | Val Loss: 1.6614 | Val Acc: 54.10%\n"
          ]
        },
        {
          "output_type": "stream",
          "name": "stderr",
          "text": []
        },
        {
          "output_type": "stream",
          "name": "stdout",
          "text": [
            "Epoch 28 | Train Loss: 1.6501 | Val Loss: 1.7276 | Val Acc: 53.23%\n"
          ]
        },
        {
          "output_type": "stream",
          "name": "stderr",
          "text": []
        },
        {
          "output_type": "stream",
          "name": "stdout",
          "text": [
            "Epoch 29 | Train Loss: 1.6434 | Val Loss: 1.6175 | Val Acc: 55.93%\n"
          ]
        },
        {
          "output_type": "stream",
          "name": "stderr",
          "text": []
        },
        {
          "output_type": "stream",
          "name": "stdout",
          "text": [
            "Epoch 30 | Train Loss: 1.6301 | Val Loss: 1.8298 | Val Acc: 51.93%\n"
          ]
        },
        {
          "output_type": "stream",
          "name": "stderr",
          "text": []
        },
        {
          "output_type": "stream",
          "name": "stdout",
          "text": [
            "Epoch 31 | Train Loss: 1.6339 | Val Loss: 2.1702 | Val Acc: 46.03%\n"
          ]
        },
        {
          "output_type": "stream",
          "name": "stderr",
          "text": []
        },
        {
          "output_type": "stream",
          "name": "stdout",
          "text": [
            "Epoch 32 | Train Loss: 1.6240 | Val Loss: 1.6361 | Val Acc: 55.22%\n"
          ]
        },
        {
          "output_type": "stream",
          "name": "stderr",
          "text": []
        },
        {
          "output_type": "stream",
          "name": "stdout",
          "text": [
            "Epoch 33 | Train Loss: 1.6190 | Val Loss: 1.6899 | Val Acc: 54.86%\n"
          ]
        },
        {
          "output_type": "stream",
          "name": "stderr",
          "text": []
        },
        {
          "output_type": "stream",
          "name": "stdout",
          "text": [
            "Epoch 34 | Train Loss: 1.6163 | Val Loss: 1.8287 | Val Acc: 51.18%\n"
          ]
        },
        {
          "output_type": "stream",
          "name": "stderr",
          "text": []
        },
        {
          "output_type": "stream",
          "name": "stdout",
          "text": [
            "Epoch 35 | Train Loss: 1.6044 | Val Loss: 1.7229 | Val Acc: 53.43%\n"
          ]
        },
        {
          "output_type": "stream",
          "name": "stderr",
          "text": []
        },
        {
          "output_type": "stream",
          "name": "stdout",
          "text": [
            "Epoch 36 | Train Loss: 1.6096 | Val Loss: 1.7052 | Val Acc: 53.92%\n"
          ]
        },
        {
          "output_type": "stream",
          "name": "stderr",
          "text": []
        },
        {
          "output_type": "stream",
          "name": "stdout",
          "text": [
            "Epoch 37 | Train Loss: 1.6120 | Val Loss: 1.9629 | Val Acc: 48.81%\n"
          ]
        },
        {
          "output_type": "stream",
          "name": "stderr",
          "text": []
        },
        {
          "output_type": "stream",
          "name": "stdout",
          "text": [
            "Epoch 38 | Train Loss: 1.5964 | Val Loss: 1.7502 | Val Acc: 52.62%\n"
          ]
        },
        {
          "output_type": "stream",
          "name": "stderr",
          "text": []
        },
        {
          "output_type": "stream",
          "name": "stdout",
          "text": [
            "Epoch 39 | Train Loss: 1.6004 | Val Loss: 1.7033 | Val Acc: 54.54%\n"
          ]
        },
        {
          "output_type": "stream",
          "name": "stderr",
          "text": []
        },
        {
          "output_type": "stream",
          "name": "stdout",
          "text": [
            "Epoch 40 | Train Loss: 1.6089 | Val Loss: 1.5998 | Val Acc: 56.32%\n"
          ]
        },
        {
          "output_type": "stream",
          "name": "stderr",
          "text": []
        },
        {
          "output_type": "stream",
          "name": "stdout",
          "text": [
            "Epoch 41 | Train Loss: 1.5886 | Val Loss: 1.8393 | Val Acc: 51.67%\n"
          ]
        },
        {
          "output_type": "stream",
          "name": "stderr",
          "text": []
        },
        {
          "output_type": "stream",
          "name": "stdout",
          "text": [
            "Epoch 42 | Train Loss: 1.5903 | Val Loss: 1.7478 | Val Acc: 52.81%\n"
          ]
        },
        {
          "output_type": "stream",
          "name": "stderr",
          "text": []
        },
        {
          "output_type": "stream",
          "name": "stdout",
          "text": [
            "Epoch 43 | Train Loss: 1.5843 | Val Loss: 1.6594 | Val Acc: 54.75%\n"
          ]
        },
        {
          "output_type": "stream",
          "name": "stderr",
          "text": []
        },
        {
          "output_type": "stream",
          "name": "stdout",
          "text": [
            "Epoch 44 | Train Loss: 1.5789 | Val Loss: 1.7544 | Val Acc: 52.77%\n"
          ]
        },
        {
          "output_type": "stream",
          "name": "stderr",
          "text": []
        },
        {
          "output_type": "stream",
          "name": "stdout",
          "text": [
            "Epoch 45 | Train Loss: 1.5935 | Val Loss: 1.7196 | Val Acc: 53.74%\n"
          ]
        },
        {
          "output_type": "stream",
          "name": "stderr",
          "text": []
        },
        {
          "output_type": "stream",
          "name": "stdout",
          "text": [
            "Epoch 46 | Train Loss: 1.5808 | Val Loss: 1.5937 | Val Acc: 56.86%\n"
          ]
        },
        {
          "output_type": "stream",
          "name": "stderr",
          "text": []
        },
        {
          "output_type": "stream",
          "name": "stdout",
          "text": [
            "Epoch 47 | Train Loss: 1.5846 | Val Loss: 1.6650 | Val Acc: 55.10%\n"
          ]
        },
        {
          "output_type": "stream",
          "name": "stderr",
          "text": []
        },
        {
          "output_type": "stream",
          "name": "stdout",
          "text": [
            "Epoch 48 | Train Loss: 1.5790 | Val Loss: 1.6533 | Val Acc: 54.99%\n"
          ]
        },
        {
          "output_type": "stream",
          "name": "stderr",
          "text": []
        },
        {
          "output_type": "stream",
          "name": "stdout",
          "text": [
            "Epoch 49 | Train Loss: 1.5725 | Val Loss: 1.7100 | Val Acc: 54.04%\n"
          ]
        },
        {
          "output_type": "stream",
          "name": "stderr",
          "text": []
        },
        {
          "output_type": "stream",
          "name": "stdout",
          "text": [
            "Epoch 50 | Train Loss: 1.5787 | Val Loss: 1.6163 | Val Acc: 55.83%\n"
          ]
        },
        {
          "output_type": "stream",
          "name": "stderr",
          "text": []
        },
        {
          "output_type": "stream",
          "name": "stdout",
          "text": [
            "Epoch 51 | Train Loss: 1.1725 | Val Loss: 1.1129 | Val Acc: 68.02%\n"
          ]
        },
        {
          "output_type": "stream",
          "name": "stderr",
          "text": []
        },
        {
          "output_type": "stream",
          "name": "stdout",
          "text": [
            "Epoch 52 | Train Loss: 1.0154 | Val Loss: 1.0792 | Val Acc: 68.96%\n"
          ]
        },
        {
          "output_type": "stream",
          "name": "stderr",
          "text": []
        },
        {
          "output_type": "stream",
          "name": "stdout",
          "text": [
            "Epoch 53 | Train Loss: 0.9410 | Val Loss: 1.0630 | Val Acc: 69.64%\n"
          ]
        },
        {
          "output_type": "stream",
          "name": "stderr",
          "text": []
        },
        {
          "output_type": "stream",
          "name": "stdout",
          "text": [
            "Epoch 54 | Train Loss: 0.8862 | Val Loss: 1.0691 | Val Acc: 69.89%\n"
          ]
        },
        {
          "output_type": "stream",
          "name": "stderr",
          "text": []
        },
        {
          "output_type": "stream",
          "name": "stdout",
          "text": [
            "Epoch 55 | Train Loss: 0.8463 | Val Loss: 1.0509 | Val Acc: 70.32%\n"
          ]
        },
        {
          "output_type": "stream",
          "name": "stderr",
          "text": []
        },
        {
          "output_type": "stream",
          "name": "stdout",
          "text": [
            "Epoch 56 | Train Loss: 0.8202 | Val Loss: 1.0566 | Val Acc: 70.41%\n"
          ]
        },
        {
          "output_type": "stream",
          "name": "stderr",
          "text": []
        },
        {
          "output_type": "stream",
          "name": "stdout",
          "text": [
            "Epoch 57 | Train Loss: 0.7837 | Val Loss: 1.0612 | Val Acc: 69.82%\n"
          ]
        },
        {
          "output_type": "stream",
          "name": "stderr",
          "text": []
        },
        {
          "output_type": "stream",
          "name": "stdout",
          "text": [
            "Epoch 58 | Train Loss: 0.7543 | Val Loss: 1.0710 | Val Acc: 70.00%\n"
          ]
        },
        {
          "output_type": "stream",
          "name": "stderr",
          "text": []
        },
        {
          "output_type": "stream",
          "name": "stdout",
          "text": [
            "Epoch 59 | Train Loss: 0.7279 | Val Loss: 1.0654 | Val Acc: 70.43%\n"
          ]
        },
        {
          "output_type": "stream",
          "name": "stderr",
          "text": []
        },
        {
          "output_type": "stream",
          "name": "stdout",
          "text": [
            "Epoch 60 | Train Loss: 0.7100 | Val Loss: 1.0518 | Val Acc: 70.56%\n"
          ]
        },
        {
          "output_type": "stream",
          "name": "stderr",
          "text": []
        },
        {
          "output_type": "stream",
          "name": "stdout",
          "text": [
            "Epoch 61 | Train Loss: 0.6897 | Val Loss: 1.0565 | Val Acc: 70.57%\n"
          ]
        },
        {
          "output_type": "stream",
          "name": "stderr",
          "text": []
        },
        {
          "output_type": "stream",
          "name": "stdout",
          "text": [
            "Epoch 62 | Train Loss: 0.6688 | Val Loss: 1.0823 | Val Acc: 70.23%\n"
          ]
        },
        {
          "output_type": "stream",
          "name": "stderr",
          "text": []
        },
        {
          "output_type": "stream",
          "name": "stdout",
          "text": [
            "Epoch 63 | Train Loss: 0.6519 | Val Loss: 1.1030 | Val Acc: 69.77%\n"
          ]
        },
        {
          "output_type": "stream",
          "name": "stderr",
          "text": []
        },
        {
          "output_type": "stream",
          "name": "stdout",
          "text": [
            "Epoch 64 | Train Loss: 0.6328 | Val Loss: 1.0809 | Val Acc: 70.38%\n"
          ]
        },
        {
          "output_type": "stream",
          "name": "stderr",
          "text": []
        },
        {
          "output_type": "stream",
          "name": "stdout",
          "text": [
            "Epoch 65 | Train Loss: 0.6123 | Val Loss: 1.0900 | Val Acc: 70.14%\n"
          ]
        },
        {
          "output_type": "stream",
          "name": "stderr",
          "text": []
        },
        {
          "output_type": "stream",
          "name": "stdout",
          "text": [
            "Epoch 66 | Train Loss: 0.6083 | Val Loss: 1.1222 | Val Acc: 69.96%\n"
          ]
        },
        {
          "output_type": "stream",
          "name": "stderr",
          "text": []
        },
        {
          "output_type": "stream",
          "name": "stdout",
          "text": [
            "Epoch 67 | Train Loss: 0.5937 | Val Loss: 1.1283 | Val Acc: 69.34%\n"
          ]
        },
        {
          "output_type": "stream",
          "name": "stderr",
          "text": []
        },
        {
          "output_type": "stream",
          "name": "stdout",
          "text": [
            "Epoch 68 | Train Loss: 0.5919 | Val Loss: 1.1074 | Val Acc: 69.61%\n"
          ]
        },
        {
          "output_type": "stream",
          "name": "stderr",
          "text": []
        },
        {
          "output_type": "stream",
          "name": "stdout",
          "text": [
            "Epoch 69 | Train Loss: 0.5746 | Val Loss: 1.1165 | Val Acc: 69.81%\n"
          ]
        },
        {
          "output_type": "stream",
          "name": "stderr",
          "text": []
        },
        {
          "output_type": "stream",
          "name": "stdout",
          "text": [
            "Epoch 70 | Train Loss: 0.5770 | Val Loss: 1.1123 | Val Acc: 69.98%\n"
          ]
        },
        {
          "output_type": "stream",
          "name": "stderr",
          "text": []
        },
        {
          "output_type": "stream",
          "name": "stdout",
          "text": [
            "Epoch 71 | Train Loss: 0.5598 | Val Loss: 1.1596 | Val Acc: 68.81%\n"
          ]
        },
        {
          "output_type": "stream",
          "name": "stderr",
          "text": []
        },
        {
          "output_type": "stream",
          "name": "stdout",
          "text": [
            "Epoch 72 | Train Loss: 0.5516 | Val Loss: 1.1702 | Val Acc: 68.45%\n"
          ]
        },
        {
          "output_type": "stream",
          "name": "stderr",
          "text": []
        },
        {
          "output_type": "stream",
          "name": "stdout",
          "text": [
            "Epoch 73 | Train Loss: 0.5528 | Val Loss: 1.1502 | Val Acc: 69.02%\n"
          ]
        },
        {
          "output_type": "stream",
          "name": "stderr",
          "text": []
        },
        {
          "output_type": "stream",
          "name": "stdout",
          "text": [
            "Epoch 74 | Train Loss: 0.5448 | Val Loss: 1.1706 | Val Acc: 69.19%\n"
          ]
        },
        {
          "output_type": "stream",
          "name": "stderr",
          "text": []
        },
        {
          "output_type": "stream",
          "name": "stdout",
          "text": [
            "Epoch 75 | Train Loss: 0.5417 | Val Loss: 1.1238 | Val Acc: 69.38%\n"
          ]
        },
        {
          "output_type": "stream",
          "name": "stderr",
          "text": []
        },
        {
          "output_type": "stream",
          "name": "stdout",
          "text": [
            "Epoch 76 | Train Loss: 0.4217 | Val Loss: 1.0291 | Val Acc: 71.76%\n"
          ]
        },
        {
          "output_type": "stream",
          "name": "stderr",
          "text": []
        },
        {
          "output_type": "stream",
          "name": "stdout",
          "text": [
            "Epoch 77 | Train Loss: 0.3850 | Val Loss: 1.0249 | Val Acc: 72.06%\n"
          ]
        },
        {
          "output_type": "stream",
          "name": "stderr",
          "text": []
        },
        {
          "output_type": "stream",
          "name": "stdout",
          "text": [
            "Epoch 78 | Train Loss: 0.3708 | Val Loss: 1.0221 | Val Acc: 72.14%\n"
          ]
        },
        {
          "output_type": "stream",
          "name": "stderr",
          "text": []
        },
        {
          "output_type": "stream",
          "name": "stdout",
          "text": [
            "Epoch 79 | Train Loss: 0.3603 | Val Loss: 1.0289 | Val Acc: 72.03%\n"
          ]
        },
        {
          "output_type": "stream",
          "name": "stderr",
          "text": []
        },
        {
          "output_type": "stream",
          "name": "stdout",
          "text": [
            "Epoch 80 | Train Loss: 0.3454 | Val Loss: 1.0294 | Val Acc: 72.12%\n"
          ]
        },
        {
          "output_type": "stream",
          "name": "stderr",
          "text": []
        },
        {
          "output_type": "stream",
          "name": "stdout",
          "text": [
            "Epoch 81 | Train Loss: 0.3426 | Val Loss: 1.0360 | Val Acc: 71.99%\n"
          ]
        },
        {
          "output_type": "stream",
          "name": "stderr",
          "text": []
        },
        {
          "output_type": "stream",
          "name": "stdout",
          "text": [
            "Epoch 82 | Train Loss: 0.3307 | Val Loss: 1.0264 | Val Acc: 72.16%\n"
          ]
        },
        {
          "output_type": "stream",
          "name": "stderr",
          "text": []
        },
        {
          "output_type": "stream",
          "name": "stdout",
          "text": [
            "Epoch 83 | Train Loss: 0.3271 | Val Loss: 1.0383 | Val Acc: 71.90%\n"
          ]
        },
        {
          "output_type": "stream",
          "name": "stderr",
          "text": []
        },
        {
          "output_type": "stream",
          "name": "stdout",
          "text": [
            "Epoch 84 | Train Loss: 0.3174 | Val Loss: 1.0365 | Val Acc: 72.13%\n"
          ]
        },
        {
          "output_type": "stream",
          "name": "stderr",
          "text": []
        },
        {
          "output_type": "stream",
          "name": "stdout",
          "text": [
            "Epoch 85 | Train Loss: 0.3169 | Val Loss: 1.0356 | Val Acc: 71.97%\n"
          ]
        },
        {
          "output_type": "stream",
          "name": "stderr",
          "text": []
        },
        {
          "output_type": "stream",
          "name": "stdout",
          "text": [
            "Epoch 86 | Train Loss: 0.3059 | Val Loss: 1.0385 | Val Acc: 72.28%\n"
          ]
        },
        {
          "output_type": "stream",
          "name": "stderr",
          "text": []
        },
        {
          "output_type": "stream",
          "name": "stdout",
          "text": [
            "Epoch 87 | Train Loss: 0.3004 | Val Loss: 1.0374 | Val Acc: 72.15%\n"
          ]
        },
        {
          "output_type": "stream",
          "name": "stderr",
          "text": []
        },
        {
          "output_type": "stream",
          "name": "stdout",
          "text": [
            "Epoch 88 | Train Loss: 0.2976 | Val Loss: 1.0444 | Val Acc: 71.90%\n"
          ]
        },
        {
          "output_type": "stream",
          "name": "stderr",
          "text": []
        },
        {
          "output_type": "stream",
          "name": "stdout",
          "text": [
            "Epoch 89 | Train Loss: 0.2909 | Val Loss: 1.0502 | Val Acc: 71.87%\n"
          ]
        },
        {
          "output_type": "stream",
          "name": "stderr",
          "text": []
        },
        {
          "output_type": "stream",
          "name": "stdout",
          "text": [
            "Epoch 90 | Train Loss: 0.2871 | Val Loss: 1.0493 | Val Acc: 72.10%\n"
          ]
        },
        {
          "output_type": "stream",
          "name": "stderr",
          "text": []
        },
        {
          "output_type": "stream",
          "name": "stdout",
          "text": [
            "Epoch 91 | Train Loss: 0.2823 | Val Loss: 1.0489 | Val Acc: 72.29%\n"
          ]
        },
        {
          "output_type": "stream",
          "name": "stderr",
          "text": []
        },
        {
          "output_type": "stream",
          "name": "stdout",
          "text": [
            "Epoch 92 | Train Loss: 0.2801 | Val Loss: 1.0482 | Val Acc: 72.16%\n"
          ]
        },
        {
          "output_type": "stream",
          "name": "stderr",
          "text": []
        },
        {
          "output_type": "stream",
          "name": "stdout",
          "text": [
            "Epoch 93 | Train Loss: 0.2767 | Val Loss: 1.0547 | Val Acc: 72.05%\n"
          ]
        },
        {
          "output_type": "stream",
          "name": "stderr",
          "text": []
        },
        {
          "output_type": "stream",
          "name": "stdout",
          "text": [
            "Epoch 94 | Train Loss: 0.2668 | Val Loss: 1.0569 | Val Acc: 71.93%\n"
          ]
        },
        {
          "output_type": "stream",
          "name": "stderr",
          "text": []
        },
        {
          "output_type": "stream",
          "name": "stdout",
          "text": [
            "Epoch 95 | Train Loss: 0.2691 | Val Loss: 1.0565 | Val Acc: 71.99%\n"
          ]
        },
        {
          "output_type": "stream",
          "name": "stderr",
          "text": []
        },
        {
          "output_type": "stream",
          "name": "stdout",
          "text": [
            "Epoch 96 | Train Loss: 0.2589 | Val Loss: 1.0604 | Val Acc: 72.02%\n"
          ]
        },
        {
          "output_type": "stream",
          "name": "stderr",
          "text": []
        },
        {
          "output_type": "stream",
          "name": "stdout",
          "text": [
            "Epoch 97 | Train Loss: 0.2620 | Val Loss: 1.0578 | Val Acc: 71.84%\n"
          ]
        },
        {
          "output_type": "stream",
          "name": "stderr",
          "text": []
        },
        {
          "output_type": "stream",
          "name": "stdout",
          "text": [
            "Epoch 98 | Train Loss: 0.2597 | Val Loss: 1.0658 | Val Acc: 72.07%\n"
          ]
        },
        {
          "output_type": "stream",
          "name": "stderr",
          "text": []
        },
        {
          "output_type": "stream",
          "name": "stdout",
          "text": [
            "Epoch 99 | Train Loss: 0.2599 | Val Loss: 1.0627 | Val Acc: 72.14%\n"
          ]
        },
        {
          "output_type": "stream",
          "name": "stderr",
          "text": []
        },
        {
          "output_type": "stream",
          "name": "stdout",
          "text": [
            "Epoch 100 | Train Loss: 0.2498 | Val Loss: 1.0675 | Val Acc: 71.91%\n",
            "\n",
            "============================================================\n",
            "Training CIFAR-100 VGG WITHOUT Dropout:\n"
          ]
        },
        {
          "output_type": "stream",
          "name": "stderr",
          "text": []
        },
        {
          "output_type": "stream",
          "name": "stdout",
          "text": [
            "Epoch 01 | Train Loss: 3.7441 | Val Loss: 3.2578 | Val Acc: 19.44%\n"
          ]
        },
        {
          "output_type": "stream",
          "name": "stderr",
          "text": []
        },
        {
          "output_type": "stream",
          "name": "stdout",
          "text": [
            "Epoch 02 | Train Loss: 2.9324 | Val Loss: 2.9109 | Val Acc: 26.30%\n"
          ]
        },
        {
          "output_type": "stream",
          "name": "stderr",
          "text": []
        },
        {
          "output_type": "stream",
          "name": "stdout",
          "text": [
            "Epoch 03 | Train Loss: 2.4211 | Val Loss: 2.3053 | Val Acc: 39.10%\n"
          ]
        },
        {
          "output_type": "stream",
          "name": "stderr",
          "text": []
        },
        {
          "output_type": "stream",
          "name": "stdout",
          "text": [
            "Epoch 04 | Train Loss: 2.1120 | Val Loss: 2.3576 | Val Acc: 38.64%\n"
          ]
        },
        {
          "output_type": "stream",
          "name": "stderr",
          "text": []
        },
        {
          "output_type": "stream",
          "name": "stdout",
          "text": [
            "Epoch 05 | Train Loss: 1.9121 | Val Loss: 1.9438 | Val Acc: 46.61%\n"
          ]
        },
        {
          "output_type": "stream",
          "name": "stderr",
          "text": []
        },
        {
          "output_type": "stream",
          "name": "stdout",
          "text": [
            "Epoch 06 | Train Loss: 1.7765 | Val Loss: 1.8993 | Val Acc: 49.00%\n"
          ]
        },
        {
          "output_type": "stream",
          "name": "stderr",
          "text": []
        },
        {
          "output_type": "stream",
          "name": "stdout",
          "text": [
            "Epoch 07 | Train Loss: 1.6791 | Val Loss: 1.9996 | Val Acc: 46.66%\n"
          ]
        },
        {
          "output_type": "stream",
          "name": "stderr",
          "text": []
        },
        {
          "output_type": "stream",
          "name": "stdout",
          "text": [
            "Epoch 08 | Train Loss: 1.5941 | Val Loss: 1.9511 | Val Acc: 47.81%\n"
          ]
        },
        {
          "output_type": "stream",
          "name": "stderr",
          "text": []
        },
        {
          "output_type": "stream",
          "name": "stdout",
          "text": [
            "Epoch 09 | Train Loss: 1.5355 | Val Loss: 1.7037 | Val Acc: 53.00%\n"
          ]
        },
        {
          "output_type": "stream",
          "name": "stderr",
          "text": []
        },
        {
          "output_type": "stream",
          "name": "stdout",
          "text": [
            "Epoch 10 | Train Loss: 1.4797 | Val Loss: 1.8182 | Val Acc: 51.23%\n"
          ]
        },
        {
          "output_type": "stream",
          "name": "stderr",
          "text": []
        },
        {
          "output_type": "stream",
          "name": "stdout",
          "text": [
            "Epoch 11 | Train Loss: 1.4267 | Val Loss: 2.0891 | Val Acc: 46.65%\n"
          ]
        },
        {
          "output_type": "stream",
          "name": "stderr",
          "text": []
        },
        {
          "output_type": "stream",
          "name": "stdout",
          "text": [
            "Epoch 12 | Train Loss: 1.4051 | Val Loss: 1.8778 | Val Acc: 50.73%\n"
          ]
        },
        {
          "output_type": "stream",
          "name": "stderr",
          "text": []
        },
        {
          "output_type": "stream",
          "name": "stdout",
          "text": [
            "Epoch 13 | Train Loss: 1.3580 | Val Loss: 1.8296 | Val Acc: 51.27%\n"
          ]
        },
        {
          "output_type": "stream",
          "name": "stderr",
          "text": []
        },
        {
          "output_type": "stream",
          "name": "stdout",
          "text": [
            "Epoch 14 | Train Loss: 1.3351 | Val Loss: 1.8011 | Val Acc: 52.11%\n"
          ]
        },
        {
          "output_type": "stream",
          "name": "stderr",
          "text": []
        },
        {
          "output_type": "stream",
          "name": "stdout",
          "text": [
            "Epoch 15 | Train Loss: 1.3047 | Val Loss: 2.1322 | Val Acc: 46.41%\n"
          ]
        },
        {
          "output_type": "stream",
          "name": "stderr",
          "text": []
        },
        {
          "output_type": "stream",
          "name": "stdout",
          "text": [
            "Epoch 16 | Train Loss: 1.2892 | Val Loss: 1.7505 | Val Acc: 52.98%\n"
          ]
        },
        {
          "output_type": "stream",
          "name": "stderr",
          "text": []
        },
        {
          "output_type": "stream",
          "name": "stdout",
          "text": [
            "Epoch 17 | Train Loss: 1.2571 | Val Loss: 1.7437 | Val Acc: 54.16%\n"
          ]
        },
        {
          "output_type": "stream",
          "name": "stderr",
          "text": []
        },
        {
          "output_type": "stream",
          "name": "stdout",
          "text": [
            "Epoch 18 | Train Loss: 1.2475 | Val Loss: 1.8768 | Val Acc: 50.80%\n"
          ]
        },
        {
          "output_type": "stream",
          "name": "stderr",
          "text": []
        },
        {
          "output_type": "stream",
          "name": "stdout",
          "text": [
            "Epoch 19 | Train Loss: 1.2290 | Val Loss: 1.6951 | Val Acc: 55.07%\n"
          ]
        },
        {
          "output_type": "stream",
          "name": "stderr",
          "text": []
        },
        {
          "output_type": "stream",
          "name": "stdout",
          "text": [
            "Epoch 20 | Train Loss: 1.2082 | Val Loss: 1.8244 | Val Acc: 52.62%\n"
          ]
        },
        {
          "output_type": "stream",
          "name": "stderr",
          "text": []
        },
        {
          "output_type": "stream",
          "name": "stdout",
          "text": [
            "Epoch 21 | Train Loss: 1.2050 | Val Loss: 1.7645 | Val Acc: 53.14%\n"
          ]
        },
        {
          "output_type": "stream",
          "name": "stderr",
          "text": []
        },
        {
          "output_type": "stream",
          "name": "stdout",
          "text": [
            "Epoch 22 | Train Loss: 1.1944 | Val Loss: 2.0193 | Val Acc: 49.85%\n"
          ]
        },
        {
          "output_type": "stream",
          "name": "stderr",
          "text": []
        },
        {
          "output_type": "stream",
          "name": "stdout",
          "text": [
            "Epoch 23 | Train Loss: 1.1846 | Val Loss: 1.9073 | Val Acc: 51.33%\n"
          ]
        },
        {
          "output_type": "stream",
          "name": "stderr",
          "text": []
        },
        {
          "output_type": "stream",
          "name": "stdout",
          "text": [
            "Epoch 24 | Train Loss: 1.1719 | Val Loss: 1.6454 | Val Acc: 55.34%\n"
          ]
        },
        {
          "output_type": "stream",
          "name": "stderr",
          "text": []
        },
        {
          "output_type": "stream",
          "name": "stdout",
          "text": [
            "Epoch 25 | Train Loss: 1.1608 | Val Loss: 1.8380 | Val Acc: 52.47%\n"
          ]
        },
        {
          "output_type": "stream",
          "name": "stderr",
          "text": []
        },
        {
          "output_type": "stream",
          "name": "stdout",
          "text": [
            "Epoch 26 | Train Loss: 1.1504 | Val Loss: 1.6318 | Val Acc: 56.17%\n"
          ]
        },
        {
          "output_type": "stream",
          "name": "stderr",
          "text": []
        },
        {
          "output_type": "stream",
          "name": "stdout",
          "text": [
            "Epoch 27 | Train Loss: 1.1409 | Val Loss: 1.7309 | Val Acc: 54.40%\n"
          ]
        },
        {
          "output_type": "stream",
          "name": "stderr",
          "text": []
        },
        {
          "output_type": "stream",
          "name": "stdout",
          "text": [
            "Epoch 28 | Train Loss: 1.1338 | Val Loss: 1.5878 | Val Acc: 57.34%\n"
          ]
        },
        {
          "output_type": "stream",
          "name": "stderr",
          "text": []
        },
        {
          "output_type": "stream",
          "name": "stdout",
          "text": [
            "Epoch 29 | Train Loss: 1.1302 | Val Loss: 1.8792 | Val Acc: 51.88%\n"
          ]
        },
        {
          "output_type": "stream",
          "name": "stderr",
          "text": []
        },
        {
          "output_type": "stream",
          "name": "stdout",
          "text": [
            "Epoch 30 | Train Loss: 1.1230 | Val Loss: 1.7993 | Val Acc: 53.84%\n"
          ]
        },
        {
          "output_type": "stream",
          "name": "stderr",
          "text": []
        },
        {
          "output_type": "stream",
          "name": "stdout",
          "text": [
            "Epoch 31 | Train Loss: 1.1166 | Val Loss: 1.9137 | Val Acc: 51.20%\n"
          ]
        },
        {
          "output_type": "stream",
          "name": "stderr",
          "text": []
        },
        {
          "output_type": "stream",
          "name": "stdout",
          "text": [
            "Epoch 32 | Train Loss: 1.1125 | Val Loss: 1.6487 | Val Acc: 56.18%\n"
          ]
        },
        {
          "output_type": "stream",
          "name": "stderr",
          "text": []
        },
        {
          "output_type": "stream",
          "name": "stdout",
          "text": [
            "Epoch 33 | Train Loss: 1.1105 | Val Loss: 1.7665 | Val Acc: 53.91%\n"
          ]
        },
        {
          "output_type": "stream",
          "name": "stderr",
          "text": []
        },
        {
          "output_type": "stream",
          "name": "stdout",
          "text": [
            "Epoch 34 | Train Loss: 1.1023 | Val Loss: 2.1629 | Val Acc: 47.02%\n"
          ]
        },
        {
          "output_type": "stream",
          "name": "stderr",
          "text": []
        },
        {
          "output_type": "stream",
          "name": "stdout",
          "text": [
            "Epoch 35 | Train Loss: 1.0954 | Val Loss: 1.5568 | Val Acc: 58.52%\n"
          ]
        },
        {
          "output_type": "stream",
          "name": "stderr",
          "text": []
        },
        {
          "output_type": "stream",
          "name": "stdout",
          "text": [
            "Epoch 36 | Train Loss: 1.0828 | Val Loss: 1.7257 | Val Acc: 54.35%\n"
          ]
        },
        {
          "output_type": "stream",
          "name": "stderr",
          "text": []
        },
        {
          "output_type": "stream",
          "name": "stdout",
          "text": [
            "Epoch 37 | Train Loss: 1.0955 | Val Loss: 1.8294 | Val Acc: 52.22%\n"
          ]
        },
        {
          "output_type": "stream",
          "name": "stderr",
          "text": []
        },
        {
          "output_type": "stream",
          "name": "stdout",
          "text": [
            "Epoch 38 | Train Loss: 1.0959 | Val Loss: 1.6281 | Val Acc: 57.47%\n"
          ]
        },
        {
          "output_type": "stream",
          "name": "stderr",
          "text": []
        },
        {
          "output_type": "stream",
          "name": "stdout",
          "text": [
            "Epoch 39 | Train Loss: 1.0803 | Val Loss: 1.7431 | Val Acc: 55.20%\n"
          ]
        },
        {
          "output_type": "stream",
          "name": "stderr",
          "text": []
        },
        {
          "output_type": "stream",
          "name": "stdout",
          "text": [
            "Epoch 40 | Train Loss: 1.0789 | Val Loss: 1.9240 | Val Acc: 50.35%\n"
          ]
        },
        {
          "output_type": "stream",
          "name": "stderr",
          "text": []
        },
        {
          "output_type": "stream",
          "name": "stdout",
          "text": [
            "Epoch 41 | Train Loss: 1.0757 | Val Loss: 1.7259 | Val Acc: 55.59%\n"
          ]
        },
        {
          "output_type": "stream",
          "name": "stderr",
          "text": []
        },
        {
          "output_type": "stream",
          "name": "stdout",
          "text": [
            "Epoch 42 | Train Loss: 1.0832 | Val Loss: 1.8770 | Val Acc: 51.88%\n"
          ]
        },
        {
          "output_type": "stream",
          "name": "stderr",
          "text": []
        },
        {
          "output_type": "stream",
          "name": "stdout",
          "text": [
            "Epoch 43 | Train Loss: 1.0617 | Val Loss: 1.8368 | Val Acc: 52.31%\n"
          ]
        },
        {
          "output_type": "stream",
          "name": "stderr",
          "text": []
        },
        {
          "output_type": "stream",
          "name": "stdout",
          "text": [
            "Epoch 44 | Train Loss: 1.0699 | Val Loss: 1.7320 | Val Acc: 55.52%\n"
          ]
        },
        {
          "output_type": "stream",
          "name": "stderr",
          "text": []
        },
        {
          "output_type": "stream",
          "name": "stdout",
          "text": [
            "Epoch 45 | Train Loss: 1.0597 | Val Loss: 1.5765 | Val Acc: 58.41%\n"
          ]
        },
        {
          "output_type": "stream",
          "name": "stderr",
          "text": []
        },
        {
          "output_type": "stream",
          "name": "stdout",
          "text": [
            "Epoch 46 | Train Loss: 1.0574 | Val Loss: 1.6651 | Val Acc: 56.64%\n"
          ]
        },
        {
          "output_type": "stream",
          "name": "stderr",
          "text": []
        },
        {
          "output_type": "stream",
          "name": "stdout",
          "text": [
            "Epoch 47 | Train Loss: 1.0691 | Val Loss: 1.8624 | Val Acc: 52.77%\n"
          ]
        },
        {
          "output_type": "stream",
          "name": "stderr",
          "text": []
        },
        {
          "output_type": "stream",
          "name": "stdout",
          "text": [
            "Epoch 48 | Train Loss: 1.0594 | Val Loss: 1.5870 | Val Acc: 57.41%\n"
          ]
        },
        {
          "output_type": "stream",
          "name": "stderr",
          "text": []
        },
        {
          "output_type": "stream",
          "name": "stdout",
          "text": [
            "Epoch 49 | Train Loss: 1.0501 | Val Loss: 1.7607 | Val Acc: 54.21%\n"
          ]
        },
        {
          "output_type": "stream",
          "name": "stderr",
          "text": []
        },
        {
          "output_type": "stream",
          "name": "stdout",
          "text": [
            "Epoch 50 | Train Loss: 1.0550 | Val Loss: 1.7103 | Val Acc: 54.89%\n"
          ]
        },
        {
          "output_type": "stream",
          "name": "stderr",
          "text": []
        },
        {
          "output_type": "stream",
          "name": "stdout",
          "text": [
            "Epoch 51 | Train Loss: 0.6147 | Val Loss: 1.0968 | Val Acc: 68.70%\n"
          ]
        },
        {
          "output_type": "stream",
          "name": "stderr",
          "text": []
        },
        {
          "output_type": "stream",
          "name": "stdout",
          "text": [
            "Epoch 52 | Train Loss: 0.4522 | Val Loss: 1.0809 | Val Acc: 69.45%\n"
          ]
        },
        {
          "output_type": "stream",
          "name": "stderr",
          "text": []
        },
        {
          "output_type": "stream",
          "name": "stdout",
          "text": [
            "Epoch 53 | Train Loss: 0.3820 | Val Loss: 1.0767 | Val Acc: 69.65%\n"
          ]
        },
        {
          "output_type": "stream",
          "name": "stderr",
          "text": []
        },
        {
          "output_type": "stream",
          "name": "stdout",
          "text": [
            "Epoch 54 | Train Loss: 0.3256 | Val Loss: 1.0907 | Val Acc: 69.63%\n"
          ]
        },
        {
          "output_type": "stream",
          "name": "stderr",
          "text": []
        },
        {
          "output_type": "stream",
          "name": "stdout",
          "text": [
            "Epoch 55 | Train Loss: 0.2934 | Val Loss: 1.0875 | Val Acc: 70.13%\n"
          ]
        },
        {
          "output_type": "stream",
          "name": "stderr",
          "text": []
        },
        {
          "output_type": "stream",
          "name": "stdout",
          "text": [
            "Epoch 56 | Train Loss: 0.2577 | Val Loss: 1.1058 | Val Acc: 70.20%\n"
          ]
        },
        {
          "output_type": "stream",
          "name": "stderr",
          "text": []
        },
        {
          "output_type": "stream",
          "name": "stdout",
          "text": [
            "Epoch 57 | Train Loss: 0.2263 | Val Loss: 1.1177 | Val Acc: 69.51%\n"
          ]
        },
        {
          "output_type": "stream",
          "name": "stderr",
          "text": []
        },
        {
          "output_type": "stream",
          "name": "stdout",
          "text": [
            "Epoch 58 | Train Loss: 0.2037 | Val Loss: 1.1375 | Val Acc: 69.87%\n"
          ]
        },
        {
          "output_type": "stream",
          "name": "stderr",
          "text": []
        },
        {
          "output_type": "stream",
          "name": "stdout",
          "text": [
            "Epoch 59 | Train Loss: 0.1808 | Val Loss: 1.1326 | Val Acc: 70.15%\n"
          ]
        },
        {
          "output_type": "stream",
          "name": "stderr",
          "text": []
        },
        {
          "output_type": "stream",
          "name": "stdout",
          "text": [
            "Epoch 60 | Train Loss: 0.1660 | Val Loss: 1.1496 | Val Acc: 69.45%\n"
          ]
        },
        {
          "output_type": "stream",
          "name": "stderr",
          "text": []
        },
        {
          "output_type": "stream",
          "name": "stdout",
          "text": [
            "Epoch 61 | Train Loss: 0.1525 | Val Loss: 1.1590 | Val Acc: 69.59%\n"
          ]
        },
        {
          "output_type": "stream",
          "name": "stderr",
          "text": []
        },
        {
          "output_type": "stream",
          "name": "stdout",
          "text": [
            "Epoch 62 | Train Loss: 0.1371 | Val Loss: 1.1572 | Val Acc: 69.83%\n"
          ]
        },
        {
          "output_type": "stream",
          "name": "stderr",
          "text": []
        },
        {
          "output_type": "stream",
          "name": "stdout",
          "text": [
            "Epoch 63 | Train Loss: 0.1264 | Val Loss: 1.1761 | Val Acc: 69.44%\n"
          ]
        },
        {
          "output_type": "stream",
          "name": "stderr",
          "text": []
        },
        {
          "output_type": "stream",
          "name": "stdout",
          "text": [
            "Epoch 64 | Train Loss: 0.1171 | Val Loss: 1.1790 | Val Acc: 69.61%\n"
          ]
        },
        {
          "output_type": "stream",
          "name": "stderr",
          "text": []
        },
        {
          "output_type": "stream",
          "name": "stdout",
          "text": [
            "Epoch 65 | Train Loss: 0.1100 | Val Loss: 1.1888 | Val Acc: 69.52%\n"
          ]
        },
        {
          "output_type": "stream",
          "name": "stderr",
          "text": []
        },
        {
          "output_type": "stream",
          "name": "stdout",
          "text": [
            "Epoch 66 | Train Loss: 0.1019 | Val Loss: 1.1894 | Val Acc: 69.44%\n"
          ]
        },
        {
          "output_type": "stream",
          "name": "stderr",
          "text": []
        },
        {
          "output_type": "stream",
          "name": "stdout",
          "text": [
            "Epoch 67 | Train Loss: 0.0966 | Val Loss: 1.1857 | Val Acc: 69.83%\n"
          ]
        },
        {
          "output_type": "stream",
          "name": "stderr",
          "text": []
        },
        {
          "output_type": "stream",
          "name": "stdout",
          "text": [
            "Epoch 68 | Train Loss: 0.0902 | Val Loss: 1.1994 | Val Acc: 69.40%\n"
          ]
        },
        {
          "output_type": "stream",
          "name": "stderr",
          "text": []
        },
        {
          "output_type": "stream",
          "name": "stdout",
          "text": [
            "Epoch 69 | Train Loss: 0.0862 | Val Loss: 1.2077 | Val Acc: 69.00%\n"
          ]
        },
        {
          "output_type": "stream",
          "name": "stderr",
          "text": []
        },
        {
          "output_type": "stream",
          "name": "stdout",
          "text": [
            "Epoch 70 | Train Loss: 0.0847 | Val Loss: 1.2000 | Val Acc: 69.42%\n"
          ]
        },
        {
          "output_type": "stream",
          "name": "stderr",
          "text": []
        },
        {
          "output_type": "stream",
          "name": "stdout",
          "text": [
            "Epoch 71 | Train Loss: 0.0776 | Val Loss: 1.2191 | Val Acc: 69.03%\n"
          ]
        },
        {
          "output_type": "stream",
          "name": "stderr",
          "text": []
        },
        {
          "output_type": "stream",
          "name": "stdout",
          "text": [
            "Epoch 72 | Train Loss: 0.0746 | Val Loss: 1.2089 | Val Acc: 69.08%\n"
          ]
        },
        {
          "output_type": "stream",
          "name": "stderr",
          "text": []
        },
        {
          "output_type": "stream",
          "name": "stdout",
          "text": [
            "Epoch 73 | Train Loss: 0.0718 | Val Loss: 1.2085 | Val Acc: 69.23%\n"
          ]
        },
        {
          "output_type": "stream",
          "name": "stderr",
          "text": []
        },
        {
          "output_type": "stream",
          "name": "stdout",
          "text": [
            "Epoch 74 | Train Loss: 0.0718 | Val Loss: 1.2278 | Val Acc: 68.62%\n"
          ]
        },
        {
          "output_type": "stream",
          "name": "stderr",
          "text": []
        },
        {
          "output_type": "stream",
          "name": "stdout",
          "text": [
            "Epoch 75 | Train Loss: 0.0703 | Val Loss: 1.2299 | Val Acc: 68.87%\n"
          ]
        },
        {
          "output_type": "stream",
          "name": "stderr",
          "text": []
        },
        {
          "output_type": "stream",
          "name": "stdout",
          "text": [
            "Epoch 76 | Train Loss: 0.0555 | Val Loss: 1.1913 | Val Acc: 69.51%\n"
          ]
        },
        {
          "output_type": "stream",
          "name": "stderr",
          "text": []
        },
        {
          "output_type": "stream",
          "name": "stdout",
          "text": [
            "Epoch 77 | Train Loss: 0.0488 | Val Loss: 1.1814 | Val Acc: 69.79%\n"
          ]
        },
        {
          "output_type": "stream",
          "name": "stderr",
          "text": []
        },
        {
          "output_type": "stream",
          "name": "stdout",
          "text": [
            "Epoch 78 | Train Loss: 0.0451 | Val Loss: 1.1733 | Val Acc: 69.81%\n"
          ]
        },
        {
          "output_type": "stream",
          "name": "stderr",
          "text": []
        },
        {
          "output_type": "stream",
          "name": "stdout",
          "text": [
            "Epoch 79 | Train Loss: 0.0442 | Val Loss: 1.1815 | Val Acc: 69.77%\n"
          ]
        },
        {
          "output_type": "stream",
          "name": "stderr",
          "text": []
        },
        {
          "output_type": "stream",
          "name": "stdout",
          "text": [
            "Epoch 80 | Train Loss: 0.0415 | Val Loss: 1.1745 | Val Acc: 70.03%\n"
          ]
        },
        {
          "output_type": "stream",
          "name": "stderr",
          "text": []
        },
        {
          "output_type": "stream",
          "name": "stdout",
          "text": [
            "Epoch 81 | Train Loss: 0.0394 | Val Loss: 1.1720 | Val Acc: 69.86%\n"
          ]
        },
        {
          "output_type": "stream",
          "name": "stderr",
          "text": []
        },
        {
          "output_type": "stream",
          "name": "stdout",
          "text": [
            "Epoch 82 | Train Loss: 0.0390 | Val Loss: 1.1724 | Val Acc: 70.07%\n"
          ]
        },
        {
          "output_type": "stream",
          "name": "stderr",
          "text": []
        },
        {
          "output_type": "stream",
          "name": "stdout",
          "text": [
            "Epoch 83 | Train Loss: 0.0390 | Val Loss: 1.1688 | Val Acc: 70.09%\n"
          ]
        },
        {
          "output_type": "stream",
          "name": "stderr",
          "text": []
        },
        {
          "output_type": "stream",
          "name": "stdout",
          "text": [
            "Epoch 84 | Train Loss: 0.0380 | Val Loss: 1.1706 | Val Acc: 70.04%\n"
          ]
        },
        {
          "output_type": "stream",
          "name": "stderr",
          "text": []
        },
        {
          "output_type": "stream",
          "name": "stdout",
          "text": [
            "Epoch 85 | Train Loss: 0.0366 | Val Loss: 1.1727 | Val Acc: 70.12%\n"
          ]
        },
        {
          "output_type": "stream",
          "name": "stderr",
          "text": []
        },
        {
          "output_type": "stream",
          "name": "stdout",
          "text": [
            "Epoch 86 | Train Loss: 0.0365 | Val Loss: 1.1685 | Val Acc: 70.30%\n"
          ]
        },
        {
          "output_type": "stream",
          "name": "stderr",
          "text": []
        },
        {
          "output_type": "stream",
          "name": "stdout",
          "text": [
            "Epoch 87 | Train Loss: 0.0361 | Val Loss: 1.1678 | Val Acc: 69.99%\n"
          ]
        },
        {
          "output_type": "stream",
          "name": "stderr",
          "text": []
        },
        {
          "output_type": "stream",
          "name": "stdout",
          "text": [
            "Epoch 88 | Train Loss: 0.0351 | Val Loss: 1.1735 | Val Acc: 70.08%\n"
          ]
        },
        {
          "output_type": "stream",
          "name": "stderr",
          "text": []
        },
        {
          "output_type": "stream",
          "name": "stdout",
          "text": [
            "Epoch 89 | Train Loss: 0.0355 | Val Loss: 1.1686 | Val Acc: 70.20%\n"
          ]
        },
        {
          "output_type": "stream",
          "name": "stderr",
          "text": []
        },
        {
          "output_type": "stream",
          "name": "stdout",
          "text": [
            "Epoch 90 | Train Loss: 0.0351 | Val Loss: 1.1718 | Val Acc: 70.15%\n"
          ]
        },
        {
          "output_type": "stream",
          "name": "stderr",
          "text": []
        },
        {
          "output_type": "stream",
          "name": "stdout",
          "text": [
            "Epoch 91 | Train Loss: 0.0347 | Val Loss: 1.1667 | Val Acc: 70.23%\n"
          ]
        },
        {
          "output_type": "stream",
          "name": "stderr",
          "text": []
        },
        {
          "output_type": "stream",
          "name": "stdout",
          "text": [
            "Epoch 92 | Train Loss: 0.0345 | Val Loss: 1.1662 | Val Acc: 70.39%\n"
          ]
        },
        {
          "output_type": "stream",
          "name": "stderr",
          "text": []
        },
        {
          "output_type": "stream",
          "name": "stdout",
          "text": [
            "Epoch 93 | Train Loss: 0.0321 | Val Loss: 1.1706 | Val Acc: 70.32%\n"
          ]
        },
        {
          "output_type": "stream",
          "name": "stderr",
          "text": []
        },
        {
          "output_type": "stream",
          "name": "stdout",
          "text": [
            "Epoch 94 | Train Loss: 0.0338 | Val Loss: 1.1683 | Val Acc: 70.27%\n"
          ]
        },
        {
          "output_type": "stream",
          "name": "stderr",
          "text": []
        },
        {
          "output_type": "stream",
          "name": "stdout",
          "text": [
            "Epoch 95 | Train Loss: 0.0329 | Val Loss: 1.1674 | Val Acc: 70.07%\n"
          ]
        },
        {
          "output_type": "stream",
          "name": "stderr",
          "text": []
        },
        {
          "output_type": "stream",
          "name": "stdout",
          "text": [
            "Epoch 96 | Train Loss: 0.0314 | Val Loss: 1.1709 | Val Acc: 70.01%\n"
          ]
        },
        {
          "output_type": "stream",
          "name": "stderr",
          "text": []
        },
        {
          "output_type": "stream",
          "name": "stdout",
          "text": [
            "Epoch 97 | Train Loss: 0.0319 | Val Loss: 1.1630 | Val Acc: 70.22%\n"
          ]
        },
        {
          "output_type": "stream",
          "name": "stderr",
          "text": []
        },
        {
          "output_type": "stream",
          "name": "stdout",
          "text": [
            "Epoch 98 | Train Loss: 0.0322 | Val Loss: 1.1683 | Val Acc: 70.41%\n"
          ]
        },
        {
          "output_type": "stream",
          "name": "stderr",
          "text": []
        },
        {
          "output_type": "stream",
          "name": "stdout",
          "text": [
            "Epoch 99 | Train Loss: 0.0307 | Val Loss: 1.1643 | Val Acc: 70.25%\n"
          ]
        },
        {
          "output_type": "stream",
          "name": "stderr",
          "text": []
        },
        {
          "output_type": "stream",
          "name": "stdout",
          "text": [
            "Epoch 100 | Train Loss: 0.0312 | Val Loss: 1.1638 | Val Acc: 70.32%\n",
            "\n",
            "============================================================\n",
            "Final Results for CIFAR-100 VGGNet:\n",
            "With Dropout - Best Val Acc: 72.29%\n",
            "Without Dropout - Best Val Acc: 70.41%\n",
            "Parameter Count: 5,921,700\n"
          ]
        },
        {
          "output_type": "display_data",
          "data": {
            "text/plain": [
              "<Figure size 1200x500 with 2 Axes>"
            ],
            "image/png": "[encoded data removed]"
          },
          "metadata": {}
        },
        {
          "output_type": "stream",
          "name": "stdout",
          "text": [
            "\n",
            "============================================================\n",
            "Model                     Dataset    Dropout    Val Acc (%) Params    \n",
            "------------------------------------------------------------\n",
            "VGG                       CIFAR-100  Yes        72.29      5,921,700 \n",
            "VGG                       CIFAR-100  Yes        70.41      5,921,700 \n"
          ]
        }
      ]
    },
    {
      "cell_type": "code",
      "source": [
        "#PROBLEM 3 (ResNet-18)(CIFAR-10)\n",
        "import torch.nn.functional as F\n",
        "class BasicBlock(nn.Module):\n",
        "    expansion = 1\n",
        "\n",
        "    def __init__(self, in_channels, out_channels, stride=1):\n",
        "        super().__init__()\n",
        "        self.conv1 = nn.Conv2d(in_channels, out_channels, 3, stride, padding=1, bias=False)\n",
        "        self.bn1 = nn.BatchNorm2d(out_channels)\n",
        "        self.conv2 = nn.Conv2d(out_channels, out_channels, 3, stride=1, padding=1, bias=False)\n",
        "        self.bn2 = nn.BatchNorm2d(out_channels)\n",
        "        self.shortcut = nn.Sequential()\n",
        "        if stride != 1 or in_channels != self.expansion*out_channels:\n",
        "            self.shortcut = nn.Sequential(\n",
        "                nn.Conv2d(in_channels, self.expansion*out_channels, 1, stride, bias=False),\n",
        "                nn.BatchNorm2d(self.expansion*out_channels)\n",
        "            )\n",
        "\n",
        "    def forward(self, x):\n",
        "        out = F.relu(self.bn1(self.conv1(x)))\n",
        "        out = self.bn2(self.conv2(out))\n",
        "        out += self.shortcut(x)\n",
        "        out = F.relu(out)\n",
        "        return out\n",
        "\n",
        "class ResNet18(nn.Module):\n",
        "    def __init__(self, num_classes=10, dropout=False):\n",
        "        super().__init__()\n",
        "        self.in_channels = 64\n",
        "        self.conv1 = nn.Conv2d(3, 64, 3, 1, 1, bias=False)\n",
        "        self.bn1 = nn.BatchNorm2d(64)\n",
        "        self.layer1 = self._make_layer(64, 2, 1)\n",
        "        self.layer2 = self._make_layer(128, 2, 2)\n",
        "        self.layer3 = self._make_layer(256, 2, 2)\n",
        "        self.layer4 = self._make_layer(512, 2, 2)\n",
        "        self.avgpool = nn.AdaptiveAvgPool2d((1, 1))\n",
        "        self.dropout = nn.Dropout(0.5) if dropout else nn.Identity()\n",
        "        self.fc = nn.Linear(512 * BasicBlock.expansion, num_classes)\n",
        "\n",
        "    def _make_layer(self, out_channels, num_blocks, stride):\n",
        "        strides = [stride] + [1]*(num_blocks-1)\n",
        "        layers = []\n",
        "        for stride in strides:\n",
        "            layers.append(BasicBlock(self.in_channels, out_channels, stride))\n",
        "            self.in_channels = out_channels * BasicBlock.expansion\n",
        "        return nn.Sequential(*layers)\n",
        "\n",
        "    def forward(self, x):\n",
        "        x = F.relu(self.bn1(self.conv1(x)))\n",
        "        x = self.layer1(x)\n",
        "        x = self.layer2(x)\n",
        "        x = self.layer3(x)\n",
        "        x = self.layer4(x)\n",
        "        x = self.avgpool(x)\n",
        "        x = torch.flatten(x, 1)\n",
        "        x = self.dropout(x)\n",
        "        x = self.fc(x)\n",
        "        return x\n",
        "\n",
        "def train_resnet(model, train_loader, test_loader, epochs=50, lr=0.1):\n",
        "    model = model.to(device)\n",
        "    optimizer = optim.SGD(model.parameters(), lr=lr, momentum=0.9, weight_decay=5e-4)\n",
        "    scheduler = optim.lr_scheduler.MultiStepLR(optimizer, [100, 150], gamma=0.1)\n",
        "    criterion = nn.CrossEntropyLoss()\n",
        "\n",
        "    history = {'train_loss': [], 'val_loss': [], 'val_acc': []}\n",
        "\n",
        "    for epoch in range(epochs):\n",
        "        model.train()\n",
        "        train_loss = 0.0\n",
        "        for inputs, labels in train_loader:\n",
        "            inputs, labels = inputs.to(device), labels.to(device)\n",
        "            optimizer.zero_grad()\n",
        "            outputs = model(inputs)\n",
        "            loss = criterion(outputs, labels)\n",
        "            loss.backward()\n",
        "            optimizer.step()\n",
        "            train_loss += loss.item() * inputs.size(0)\n",
        "\n",
        "        model.eval()\n",
        "        val_loss, correct = 0.0, 0\n",
        "        with torch.no_grad():\n",
        "            for inputs, labels in test_loader:\n",
        "                inputs, labels = inputs.to(device), labels.to(device)\n",
        "                outputs = model(inputs)\n",
        "                val_loss += criterion(outputs, labels).item() * inputs.size(0)\n",
        "                correct += (outputs.argmax(1) == labels).sum().item()\n",
        "\n",
        "        train_loss = train_loss / len(train_loader.dataset)\n",
        "        val_loss = val_loss / len(test_loader.dataset)\n",
        "        val_acc = 100 * correct / len(test_loader.dataset)\n",
        "\n",
        "        history['train_loss'].append(train_loss)\n",
        "        history['val_loss'].append(val_loss)\n",
        "        history['val_acc'].append(val_acc)\n",
        "\n",
        "        print(f'Epoch {epoch+1:03d} | Train Loss: {train_loss:.4f} | Val Loss: {val_loss:.4f} | Val Acc: {val_acc:.2f}%')\n",
        "        scheduler.step()\n",
        "\n",
        "    return history\n",
        "\n",
        "print(\"\\n\" + \"=\"*60)\n",
        "print(\"Training WITH Dropout:\")\n",
        "model_with_dropout = ResNet18(dropout=True)\n",
        "history_with = train_resnet(model_with_dropout, train_loader, test_loader)\n",
        "\n",
        "print(\"\\n\" + \"=\"*60)\n",
        "print(\"Training WITHOUT Dropout:\")\n",
        "model_no_dropout = ResNet18(dropout=False)\n",
        "history_without = train_resnet(model_no_dropout, train_loader, test_loader)\n",
        "\n",
        "print(\"\\nFINAL RESULTS:\")\n",
        "print(f\"With Dropout: {max(history_with['val_acc']):.2f}%\")\n",
        "print(f\"Without Dropout: {max(history_without['val_acc']):.2f}%\")\n",
        "print(f\"Parameters: {count_parameters(model_with_dropout):,}\")\n",
        "\n",
        "plt.figure(figsize=(15, 5))\n",
        "plt.subplot(1, 2, 1)\n",
        "plt.plot(history_with['val_loss'], label='With Dropout')\n",
        "plt.plot(history_without['val_loss'], label='Without Dropout')\n",
        "plt.title('Validation Loss')\n",
        "plt.xlabel('Epoch')\n",
        "plt.legend()\n",
        "\n",
        "plt.subplot(1, 2, 2)\n",
        "plt.plot(history_with['val_acc'], label='With Dropout')\n",
        "plt.plot(history_without['val_acc'], label='Without Dropout')\n",
        "plt.title('Validation Accuracy')\n",
        "plt.xlabel('Epoch')\n",
        "plt.ylabel('Accuracy (%)')\n",
        "plt.legend()\n",
        "\n",
        "plt.tight_layout()\n",
        "plt.show()"
      ],
      "metadata": {
        "colab": {
          "base_uri": "https://localhost:8080/",
          "height": 1000
        },
        "id": "vtsAkCNVeE5S",
        "outputId": "a86bd147-0241-4e88-d1dd-8b0d4c6a3b03"
      },
      "execution_count": 6,
      "outputs": [
        {
          "output_type": "stream",
          "name": "stdout",
          "text": [
            "\n",
            "============================================================\n",
            "Training WITH Dropout:\n",
            "Epoch 001 | Train Loss: 2.0736 | Val Loss: 1.6343 | Val Acc: 38.47%\n",
            "Epoch 002 | Train Loss: 1.5042 | Val Loss: 1.2886 | Val Acc: 52.55%\n",
            "Epoch 003 | Train Loss: 1.2628 | Val Loss: 1.2512 | Val Acc: 56.28%\n",
            "Epoch 004 | Train Loss: 1.0680 | Val Loss: 1.0302 | Val Acc: 63.60%\n",
            "Epoch 005 | Train Loss: 0.9288 | Val Loss: 0.9944 | Val Acc: 65.89%\n",
            "Epoch 006 | Train Loss: 0.8064 | Val Loss: 0.9238 | Val Acc: 68.31%\n",
            "Epoch 007 | Train Loss: 0.7136 | Val Loss: 0.7306 | Val Acc: 75.15%\n",
            "Epoch 008 | Train Loss: 0.6448 | Val Loss: 0.7543 | Val Acc: 75.22%\n",
            "Epoch 009 | Train Loss: 0.6095 | Val Loss: 0.6312 | Val Acc: 78.34%\n",
            "Epoch 010 | Train Loss: 0.5725 | Val Loss: 0.7044 | Val Acc: 75.76%\n",
            "Epoch 011 | Train Loss: 0.5453 | Val Loss: 0.6076 | Val Acc: 79.62%\n",
            "Epoch 012 | Train Loss: 0.5216 | Val Loss: 0.6181 | Val Acc: 79.06%\n",
            "Epoch 013 | Train Loss: 0.5043 | Val Loss: 0.7817 | Val Acc: 75.41%\n",
            "Epoch 014 | Train Loss: 0.4946 | Val Loss: 0.5214 | Val Acc: 82.40%\n",
            "Epoch 015 | Train Loss: 0.4809 | Val Loss: 0.6584 | Val Acc: 77.97%\n",
            "Epoch 016 | Train Loss: 0.4681 | Val Loss: 0.5516 | Val Acc: 81.94%\n",
            "Epoch 017 | Train Loss: 0.4624 | Val Loss: 0.5691 | Val Acc: 80.77%\n",
            "Epoch 018 | Train Loss: 0.4523 | Val Loss: 0.5554 | Val Acc: 81.32%\n",
            "Epoch 019 | Train Loss: 0.4379 | Val Loss: 0.6282 | Val Acc: 79.64%\n",
            "Epoch 020 | Train Loss: 0.4361 | Val Loss: 0.4953 | Val Acc: 83.20%\n",
            "Epoch 021 | Train Loss: 0.4327 | Val Loss: 0.5601 | Val Acc: 81.51%\n",
            "Epoch 022 | Train Loss: 0.4266 | Val Loss: 0.6027 | Val Acc: 80.10%\n",
            "Epoch 023 | Train Loss: 0.4217 | Val Loss: 0.5910 | Val Acc: 80.70%\n",
            "Epoch 024 | Train Loss: 0.4101 | Val Loss: 0.6242 | Val Acc: 80.33%\n",
            "Epoch 025 | Train Loss: 0.4057 | Val Loss: 0.5861 | Val Acc: 80.24%\n",
            "Epoch 026 | Train Loss: 0.4038 | Val Loss: 0.5249 | Val Acc: 83.03%\n",
            "Epoch 027 | Train Loss: 0.4013 | Val Loss: 0.6448 | Val Acc: 78.31%\n",
            "Epoch 028 | Train Loss: 0.3948 | Val Loss: 0.6968 | Val Acc: 79.21%\n",
            "Epoch 029 | Train Loss: 0.4003 | Val Loss: 0.6428 | Val Acc: 79.35%\n",
            "Epoch 030 | Train Loss: 0.3893 | Val Loss: 0.8224 | Val Acc: 75.57%\n",
            "Epoch 031 | Train Loss: 0.3844 | Val Loss: 0.5221 | Val Acc: 82.89%\n",
            "Epoch 032 | Train Loss: 0.3807 | Val Loss: 0.6022 | Val Acc: 80.73%\n",
            "Epoch 033 | Train Loss: 0.3893 | Val Loss: 0.5164 | Val Acc: 82.94%\n",
            "Epoch 034 | Train Loss: 0.3799 | Val Loss: 0.5018 | Val Acc: 83.43%\n",
            "Epoch 035 | Train Loss: 0.3740 | Val Loss: 0.4942 | Val Acc: 84.20%\n",
            "Epoch 036 | Train Loss: 0.3771 | Val Loss: 0.6247 | Val Acc: 80.16%\n",
            "Epoch 037 | Train Loss: 0.3732 | Val Loss: 0.4105 | Val Acc: 86.34%\n",
            "Epoch 038 | Train Loss: 0.3723 | Val Loss: 0.4874 | Val Acc: 83.89%\n",
            "Epoch 039 | Train Loss: 0.3681 | Val Loss: 0.5754 | Val Acc: 81.37%\n",
            "Epoch 040 | Train Loss: 0.3708 | Val Loss: 0.4612 | Val Acc: 84.56%\n",
            "Epoch 041 | Train Loss: 0.3664 | Val Loss: 0.4304 | Val Acc: 85.67%\n",
            "Epoch 042 | Train Loss: 0.3594 | Val Loss: 0.5143 | Val Acc: 83.47%\n",
            "Epoch 043 | Train Loss: 0.3725 | Val Loss: 0.5426 | Val Acc: 82.25%\n",
            "Epoch 044 | Train Loss: 0.3621 | Val Loss: 0.4999 | Val Acc: 83.53%\n",
            "Epoch 045 | Train Loss: 0.3644 | Val Loss: 0.7465 | Val Acc: 77.38%\n",
            "Epoch 046 | Train Loss: 0.3593 | Val Loss: 0.7776 | Val Acc: 76.98%\n",
            "Epoch 047 | Train Loss: 0.3657 | Val Loss: 0.5334 | Val Acc: 82.84%\n",
            "Epoch 048 | Train Loss: 0.3559 | Val Loss: 0.4303 | Val Acc: 85.31%\n",
            "Epoch 049 | Train Loss: 0.3607 | Val Loss: 0.4746 | Val Acc: 84.75%\n",
            "Epoch 050 | Train Loss: 0.3587 | Val Loss: 0.4605 | Val Acc: 85.10%\n",
            "\n",
            "============================================================\n",
            "Training WITHOUT Dropout:\n",
            "Epoch 001 | Train Loss: 1.9105 | Val Loss: 1.5356 | Val Acc: 42.65%\n",
            "Epoch 002 | Train Loss: 1.4094 | Val Loss: 1.3179 | Val Acc: 51.24%\n",
            "Epoch 003 | Train Loss: 1.1253 | Val Loss: 1.1058 | Val Acc: 61.30%\n",
            "Epoch 004 | Train Loss: 0.9180 | Val Loss: 1.0212 | Val Acc: 66.47%\n",
            "Epoch 005 | Train Loss: 0.7876 | Val Loss: 0.9010 | Val Acc: 70.81%\n",
            "Epoch 006 | Train Loss: 0.6691 | Val Loss: 0.7110 | Val Acc: 75.61%\n",
            "Epoch 007 | Train Loss: 0.5973 | Val Loss: 0.7301 | Val Acc: 76.27%\n",
            "Epoch 008 | Train Loss: 0.5554 | Val Loss: 0.5615 | Val Acc: 81.61%\n",
            "Epoch 009 | Train Loss: 0.5255 | Val Loss: 0.5825 | Val Acc: 80.08%\n",
            "Epoch 010 | Train Loss: 0.4951 | Val Loss: 0.7759 | Val Acc: 75.51%\n",
            "Epoch 011 | Train Loss: 0.4740 | Val Loss: 0.6414 | Val Acc: 78.82%\n",
            "Epoch 012 | Train Loss: 0.4686 | Val Loss: 0.6696 | Val Acc: 77.90%\n",
            "Epoch 013 | Train Loss: 0.4513 | Val Loss: 0.6236 | Val Acc: 79.83%\n",
            "Epoch 014 | Train Loss: 0.4418 | Val Loss: 0.7353 | Val Acc: 76.29%\n",
            "Epoch 015 | Train Loss: 0.4227 | Val Loss: 0.6254 | Val Acc: 79.78%\n",
            "Epoch 016 | Train Loss: 0.4197 | Val Loss: 0.6883 | Val Acc: 77.61%\n",
            "Epoch 017 | Train Loss: 0.4127 | Val Loss: 0.5537 | Val Acc: 81.53%\n",
            "Epoch 018 | Train Loss: 0.4016 | Val Loss: 0.6198 | Val Acc: 79.86%\n",
            "Epoch 019 | Train Loss: 0.3970 | Val Loss: 0.5394 | Val Acc: 82.58%\n",
            "Epoch 020 | Train Loss: 0.3915 | Val Loss: 0.6294 | Val Acc: 80.38%\n",
            "Epoch 021 | Train Loss: 0.3851 | Val Loss: 0.5664 | Val Acc: 81.78%\n",
            "Epoch 022 | Train Loss: 0.3778 | Val Loss: 0.7135 | Val Acc: 78.48%\n",
            "Epoch 023 | Train Loss: 0.3739 | Val Loss: 0.8648 | Val Acc: 75.86%\n",
            "Epoch 024 | Train Loss: 0.3769 | Val Loss: 0.6535 | Val Acc: 79.45%\n",
            "Epoch 025 | Train Loss: 0.3619 | Val Loss: 0.6529 | Val Acc: 79.05%\n",
            "Epoch 026 | Train Loss: 0.3658 | Val Loss: 0.5245 | Val Acc: 82.25%\n",
            "Epoch 027 | Train Loss: 0.3591 | Val Loss: 0.5687 | Val Acc: 81.06%\n",
            "Epoch 028 | Train Loss: 0.3648 | Val Loss: 0.4909 | Val Acc: 83.31%\n",
            "Epoch 029 | Train Loss: 0.3516 | Val Loss: 0.6184 | Val Acc: 79.92%\n",
            "Epoch 030 | Train Loss: 0.3553 | Val Loss: 0.6684 | Val Acc: 79.15%\n",
            "Epoch 031 | Train Loss: 0.3527 | Val Loss: 0.5141 | Val Acc: 82.69%\n",
            "Epoch 032 | Train Loss: 0.3470 | Val Loss: 0.5243 | Val Acc: 82.88%\n",
            "Epoch 033 | Train Loss: 0.3465 | Val Loss: 0.5687 | Val Acc: 82.46%\n",
            "Epoch 034 | Train Loss: 0.3522 | Val Loss: 0.5005 | Val Acc: 84.02%\n",
            "Epoch 035 | Train Loss: 0.3436 | Val Loss: 0.4638 | Val Acc: 84.34%\n",
            "Epoch 036 | Train Loss: 0.3391 | Val Loss: 0.4257 | Val Acc: 85.87%\n",
            "Epoch 037 | Train Loss: 0.3404 | Val Loss: 0.5472 | Val Acc: 82.43%\n",
            "Epoch 038 | Train Loss: 0.3414 | Val Loss: 0.6854 | Val Acc: 78.65%\n",
            "Epoch 039 | Train Loss: 0.3425 | Val Loss: 0.5939 | Val Acc: 81.48%\n",
            "Epoch 040 | Train Loss: 0.3406 | Val Loss: 0.4700 | Val Acc: 84.32%\n",
            "Epoch 041 | Train Loss: 0.3376 | Val Loss: 0.5742 | Val Acc: 81.98%\n",
            "Epoch 042 | Train Loss: 0.3362 | Val Loss: 0.4802 | Val Acc: 83.82%\n",
            "Epoch 043 | Train Loss: 0.3312 | Val Loss: 0.6608 | Val Acc: 79.62%\n",
            "Epoch 044 | Train Loss: 0.3351 | Val Loss: 0.4723 | Val Acc: 84.34%\n",
            "Epoch 045 | Train Loss: 0.3272 | Val Loss: 0.4945 | Val Acc: 83.43%\n",
            "Epoch 046 | Train Loss: 0.3300 | Val Loss: 0.4976 | Val Acc: 83.17%\n",
            "Epoch 047 | Train Loss: 0.3314 | Val Loss: 0.4840 | Val Acc: 83.95%\n",
            "Epoch 048 | Train Loss: 0.3321 | Val Loss: 0.4868 | Val Acc: 84.09%\n",
            "Epoch 049 | Train Loss: 0.3326 | Val Loss: 0.5336 | Val Acc: 83.07%\n",
            "Epoch 050 | Train Loss: 0.3299 | Val Loss: 0.6025 | Val Acc: 80.80%\n",
            "\n",
            "FINAL RESULTS:\n",
            "With Dropout: 86.34%\n",
            "Without Dropout: 85.87%\n",
            "Parameters: 11,173,962\n"
          ]
        },
        {
          "output_type": "display_data",
          "data": {
            "text/plain": [
              "<Figure size 1500x500 with 2 Axes>"
            ],
            "image/png": "[encoded data removed]"
          },
          "metadata": {}
        }
      ]
    },
    {
      "cell_type": "code",
      "source": [
        "# PROBLEM 3 (ResNet-18)(CIFAR-100)\n",
        "import torch\n",
        "import torch.nn as nn\n",
        "import torch.optim as optim\n",
        "import torch.nn.functional as F\n",
        "\n",
        "class BasicBlock(nn.Module):\n",
        "    expansion = 1\n",
        "\n",
        "    def __init__(self, in_channels, out_channels, stride=1):\n",
        "        super().__init__()\n",
        "        self.conv1 = nn.Conv2d(in_channels, out_channels, 3, stride, padding=1, bias=False)\n",
        "        self.bn1 = nn.BatchNorm2d(out_channels)\n",
        "        self.conv2 = nn.Conv2d(out_channels, out_channels, 3, stride=1, padding=1, bias=False)\n",
        "        self.bn2 = nn.BatchNorm2d(out_channels)\n",
        "        self.shortcut = nn.Sequential()\n",
        "        if stride != 1 or in_channels != self.expansion*out_channels:\n",
        "            self.shortcut = nn.Sequential(\n",
        "                nn.Conv2d(in_channels, self.expansion*out_channels, 1, stride, bias=False),\n",
        "                nn.BatchNorm2d(self.expansion*out_channels)\n",
        "            )\n",
        "\n",
        "    def forward(self, x):\n",
        "        out = F.relu(self.bn1(self.conv1(x)))\n",
        "        out = self.bn2(self.conv2(out))\n",
        "        out += self.shortcut(x)\n",
        "        out = F.relu(out)\n",
        "        return out\n",
        "\n",
        "class ResNet18(nn.Module):\n",
        "    def __init__(self, num_classes=100, dropout=False):  # Changed num_classes to 100\n",
        "        super().__init__()\n",
        "        self.in_channels = 64\n",
        "        self.conv1 = nn.Conv2d(3, 64, 3, 1, 1, bias=False)\n",
        "        self.bn1 = nn.BatchNorm2d(64)\n",
        "        self.layer1 = self._make_layer(64, 2, 1)\n",
        "        self.layer2 = self._make_layer(128, 2, 2)\n",
        "        self.layer3 = self._make_layer(256, 2, 2)\n",
        "        self.layer4 = self._make_layer(512, 2, 2)\n",
        "        self.avgpool = nn.AdaptiveAvgPool2d((1, 1))\n",
        "        self.dropout = nn.Dropout(0.5) if dropout else nn.Identity()\n",
        "        self.fc = nn.Linear(512 * BasicBlock.expansion, num_classes)\n",
        "\n",
        "    def _make_layer(self, out_channels, num_blocks, stride):\n",
        "        strides = [stride] + [1]*(num_blocks-1)\n",
        "        layers = []\n",
        "        for stride in strides:\n",
        "            layers.append(BasicBlock(self.in_channels, out_channels, stride))\n",
        "            self.in_channels = out_channels * BasicBlock.expansion\n",
        "        return nn.Sequential(*layers)\n",
        "\n",
        "    def forward(self, x):\n",
        "        x = F.relu(self.bn1(self.conv1(x)))\n",
        "        x = self.layer1(x)\n",
        "        x = self.layer2(x)\n",
        "        x = self.layer3(x)\n",
        "        x = self.layer4(x)\n",
        "        x = self.avgpool(x)\n",
        "        x = torch.flatten(x, 1)\n",
        "        x = self.dropout(x)\n",
        "        x = self.fc(x)\n",
        "        return x\n",
        "\n",
        "def train_resnet(model, train_loader, test_loader, epochs=50, lr=0.1):\n",
        "    device = torch.device(\"cuda\" if torch.cuda.is_available() else \"cpu\")\n",
        "    model = model.to(device)\n",
        "    optimizer = optim.SGD(model.parameters(), lr=lr, momentum=0.9, weight_decay=5e-4)\n",
        "    scheduler = optim.lr_scheduler.MultiStepLR(optimizer, [100, 150], gamma=0.1)\n",
        "    criterion = nn.CrossEntropyLoss()\n",
        "\n",
        "    history = {'train_loss': [], 'val_loss': [], 'val_acc': []}\n",
        "\n",
        "    for epoch in range(epochs):\n",
        "        model.train()\n",
        "        train_loss = 0.0\n",
        "        for inputs, labels in train_loader:\n",
        "            inputs, labels = inputs.to(device), labels.to(device)\n",
        "            optimizer.zero_grad()\n",
        "            outputs = model(inputs)\n",
        "            loss = criterion(outputs, labels)\n",
        "            loss.backward()\n",
        "            optimizer.step()\n",
        "            train_loss += loss.item() * inputs.size(0)\n",
        "\n",
        "        model.eval()\n",
        "        val_loss, correct = 0.0, 0\n",
        "        with torch.no_grad():\n",
        "            for inputs, labels in test_loader:\n",
        "                inputs, labels = inputs.to(device), labels.to(device)\n",
        "                outputs = model(inputs)\n",
        "                val_loss += criterion(outputs, labels).item() * inputs.size(0)\n",
        "                correct += (outputs.argmax(1) == labels).sum().item()\n",
        "\n",
        "        train_loss = train_loss / len(train_loader.dataset)\n",
        "        val_loss = val_loss / len(test_loader.dataset)\n",
        "        val_acc = 100 * correct / len(test_loader.dataset)\n",
        "\n",
        "        history['train_loss'].append(train_loss)\n",
        "        history['val_loss'].append(val_loss)\n",
        "        history['val_acc'].append(val_acc)\n",
        "\n",
        "        print(f'Epoch {epoch+1:03d} | Train Loss: {train_loss:.4f} | Val Loss: {val_loss:.4f} | Val Acc: {val_acc:.2f}%')\n",
        "        scheduler.step()\n",
        "\n",
        "    return history\n",
        "\n",
        "print(\"\\n\" + \"=\"*60)\n",
        "print(\"Training WITH Dropout:\")\n",
        "model_with_dropout = ResNet18(dropout=True)\n",
        "history_with = train_resnet(model_with_dropout, train_loader, test_loader)\n",
        "\n",
        "print(\"\\n\" + \"=\"*60)\n",
        "print(\"Training WITHOUT Dropout:\")\n",
        "model_no_dropout = ResNet18(dropout=False)\n",
        "history_without = train_resnet(model_no_dropout, train_loader, test_loader)\n",
        "\n",
        "print(\"\\nFINAL RESULTS:\")\n",
        "print(f\"With Dropout: {max(history_with['val_acc']):.2f}%\")\n",
        "print(f\"Without Dropout: {max(history_without['val_acc']):.2f}%\")"
      ],
      "metadata": {
        "colab": {
          "base_uri": "https://localhost:8080/"
        },
        "id": "EFwginORllgE",
        "outputId": "0f64dee5-cf2e-455b-e669-e22af7ffcbfa"
      },
      "execution_count": 7,
      "outputs": [
        {
          "output_type": "stream",
          "name": "stdout",
          "text": [
            "\n",
            "============================================================\n",
            "Training WITH Dropout:\n",
            "Epoch 001 | Train Loss: 2.1777 | Val Loss: 1.5554 | Val Acc: 41.97%\n",
            "Epoch 002 | Train Loss: 1.5011 | Val Loss: 1.2863 | Val Acc: 53.33%\n",
            "Epoch 003 | Train Loss: 1.2352 | Val Loss: 1.1142 | Val Acc: 60.36%\n",
            "Epoch 004 | Train Loss: 1.0457 | Val Loss: 1.0130 | Val Acc: 63.87%\n",
            "Epoch 005 | Train Loss: 0.9294 | Val Loss: 0.8721 | Val Acc: 69.85%\n",
            "Epoch 006 | Train Loss: 0.8145 | Val Loss: 0.9158 | Val Acc: 69.04%\n",
            "Epoch 007 | Train Loss: 0.7267 | Val Loss: 0.6623 | Val Acc: 77.30%\n",
            "Epoch 008 | Train Loss: 0.6541 | Val Loss: 0.7665 | Val Acc: 73.95%\n",
            "Epoch 009 | Train Loss: 0.6168 | Val Loss: 0.7152 | Val Acc: 76.68%\n",
            "Epoch 010 | Train Loss: 0.5826 | Val Loss: 0.5627 | Val Acc: 80.84%\n",
            "Epoch 011 | Train Loss: 0.5527 | Val Loss: 0.8476 | Val Acc: 72.89%\n",
            "Epoch 012 | Train Loss: 0.5243 | Val Loss: 0.5511 | Val Acc: 81.54%\n",
            "Epoch 013 | Train Loss: 0.5097 | Val Loss: 0.8114 | Val Acc: 75.12%\n",
            "Epoch 014 | Train Loss: 0.5000 | Val Loss: 0.5926 | Val Acc: 80.19%\n",
            "Epoch 015 | Train Loss: 0.4813 | Val Loss: 0.6248 | Val Acc: 79.09%\n",
            "Epoch 016 | Train Loss: 0.4704 | Val Loss: 0.7969 | Val Acc: 76.36%\n",
            "Epoch 017 | Train Loss: 0.4644 | Val Loss: 0.8733 | Val Acc: 73.68%\n",
            "Epoch 018 | Train Loss: 0.4498 | Val Loss: 0.5932 | Val Acc: 80.36%\n",
            "Epoch 019 | Train Loss: 0.4401 | Val Loss: 0.5939 | Val Acc: 80.83%\n",
            "Epoch 020 | Train Loss: 0.4350 | Val Loss: 0.5677 | Val Acc: 80.94%\n",
            "Epoch 021 | Train Loss: 0.4277 | Val Loss: 0.6396 | Val Acc: 79.39%\n",
            "Epoch 022 | Train Loss: 0.4243 | Val Loss: 0.5969 | Val Acc: 81.55%\n",
            "Epoch 023 | Train Loss: 0.4255 | Val Loss: 0.5457 | Val Acc: 81.69%\n",
            "Epoch 024 | Train Loss: 0.4148 | Val Loss: 0.4737 | Val Acc: 84.43%\n",
            "Epoch 025 | Train Loss: 0.4156 | Val Loss: 0.5882 | Val Acc: 81.18%\n",
            "Epoch 026 | Train Loss: 0.4076 | Val Loss: 0.6195 | Val Acc: 80.25%\n",
            "Epoch 027 | Train Loss: 0.4016 | Val Loss: 0.4744 | Val Acc: 84.29%\n",
            "Epoch 028 | Train Loss: 0.4008 | Val Loss: 0.7508 | Val Acc: 77.51%\n",
            "Epoch 029 | Train Loss: 0.3961 | Val Loss: 0.5191 | Val Acc: 83.82%\n",
            "Epoch 030 | Train Loss: 0.3949 | Val Loss: 0.5938 | Val Acc: 81.33%\n",
            "Epoch 031 | Train Loss: 0.3885 | Val Loss: 0.5549 | Val Acc: 81.99%\n",
            "Epoch 032 | Train Loss: 0.3907 | Val Loss: 0.4936 | Val Acc: 83.64%\n",
            "Epoch 033 | Train Loss: 0.3854 | Val Loss: 0.7029 | Val Acc: 77.64%\n",
            "Epoch 034 | Train Loss: 0.3915 | Val Loss: 0.5720 | Val Acc: 81.01%\n",
            "Epoch 035 | Train Loss: 0.3792 | Val Loss: 0.5472 | Val Acc: 82.46%\n",
            "Epoch 036 | Train Loss: 0.3845 | Val Loss: 0.4798 | Val Acc: 84.18%\n",
            "Epoch 037 | Train Loss: 0.3749 | Val Loss: 0.5717 | Val Acc: 82.43%\n",
            "Epoch 038 | Train Loss: 0.3764 | Val Loss: 0.5029 | Val Acc: 83.74%\n",
            "Epoch 039 | Train Loss: 0.3769 | Val Loss: 0.5633 | Val Acc: 81.89%\n",
            "Epoch 040 | Train Loss: 0.3704 | Val Loss: 0.5169 | Val Acc: 83.43%\n",
            "Epoch 041 | Train Loss: 0.3724 | Val Loss: 0.5630 | Val Acc: 82.57%\n",
            "Epoch 042 | Train Loss: 0.3676 | Val Loss: 0.6681 | Val Acc: 79.17%\n",
            "Epoch 043 | Train Loss: 0.3681 | Val Loss: 0.6594 | Val Acc: 79.77%\n",
            "Epoch 044 | Train Loss: 0.3613 | Val Loss: 0.6040 | Val Acc: 79.94%\n",
            "Epoch 045 | Train Loss: 0.3655 | Val Loss: 0.6775 | Val Acc: 78.48%\n",
            "Epoch 046 | Train Loss: 0.3657 | Val Loss: 0.5291 | Val Acc: 82.73%\n",
            "Epoch 047 | Train Loss: 0.3631 | Val Loss: 0.5179 | Val Acc: 83.44%\n",
            "Epoch 048 | Train Loss: 0.3628 | Val Loss: 0.4902 | Val Acc: 84.67%\n",
            "Epoch 049 | Train Loss: 0.3636 | Val Loss: 0.4745 | Val Acc: 84.42%\n",
            "Epoch 050 | Train Loss: 0.3570 | Val Loss: 0.6211 | Val Acc: 80.88%\n",
            "\n",
            "============================================================\n",
            "Training WITHOUT Dropout:\n",
            "Epoch 001 | Train Loss: 1.9274 | Val Loss: 1.7327 | Val Acc: 37.32%\n",
            "Epoch 002 | Train Loss: 1.4439 | Val Loss: 1.4006 | Val Acc: 48.64%\n",
            "Epoch 003 | Train Loss: 1.1706 | Val Loss: 1.1718 | Val Acc: 58.25%\n",
            "Epoch 004 | Train Loss: 0.9819 | Val Loss: 1.0019 | Val Acc: 64.29%\n",
            "Epoch 005 | Train Loss: 0.8364 | Val Loss: 0.9668 | Val Acc: 66.68%\n",
            "Epoch 006 | Train Loss: 0.7099 | Val Loss: 0.7632 | Val Acc: 73.27%\n",
            "Epoch 007 | Train Loss: 0.6311 | Val Loss: 0.6141 | Val Acc: 78.74%\n",
            "Epoch 008 | Train Loss: 0.5678 | Val Loss: 0.6420 | Val Acc: 77.99%\n",
            "Epoch 009 | Train Loss: 0.5417 | Val Loss: 0.6840 | Val Acc: 76.87%\n",
            "Epoch 010 | Train Loss: 0.5100 | Val Loss: 0.6448 | Val Acc: 78.06%\n",
            "Epoch 011 | Train Loss: 0.4898 | Val Loss: 0.5989 | Val Acc: 79.69%\n",
            "Epoch 012 | Train Loss: 0.4729 | Val Loss: 0.5280 | Val Acc: 81.90%\n",
            "Epoch 013 | Train Loss: 0.4582 | Val Loss: 0.6224 | Val Acc: 79.34%\n",
            "Epoch 014 | Train Loss: 0.4444 | Val Loss: 0.6088 | Val Acc: 79.76%\n",
            "Epoch 015 | Train Loss: 0.4290 | Val Loss: 0.5721 | Val Acc: 81.10%\n",
            "Epoch 016 | Train Loss: 0.4311 | Val Loss: 0.5457 | Val Acc: 82.18%\n",
            "Epoch 017 | Train Loss: 0.4193 | Val Loss: 0.5013 | Val Acc: 82.81%\n",
            "Epoch 018 | Train Loss: 0.4053 | Val Loss: 0.5214 | Val Acc: 82.73%\n",
            "Epoch 019 | Train Loss: 0.4020 | Val Loss: 0.5013 | Val Acc: 83.20%\n",
            "Epoch 020 | Train Loss: 0.3935 | Val Loss: 0.6050 | Val Acc: 80.68%\n",
            "Epoch 021 | Train Loss: 0.3941 | Val Loss: 0.4862 | Val Acc: 83.57%\n",
            "Epoch 022 | Train Loss: 0.3821 | Val Loss: 0.5997 | Val Acc: 80.47%\n",
            "Epoch 023 | Train Loss: 0.3851 | Val Loss: 0.4612 | Val Acc: 84.60%\n",
            "Epoch 024 | Train Loss: 0.3719 | Val Loss: 0.4935 | Val Acc: 83.74%\n",
            "Epoch 025 | Train Loss: 0.3731 | Val Loss: 0.5191 | Val Acc: 83.24%\n",
            "Epoch 026 | Train Loss: 0.3694 | Val Loss: 0.6576 | Val Acc: 79.61%\n",
            "Epoch 027 | Train Loss: 0.3659 | Val Loss: 0.5072 | Val Acc: 83.22%\n",
            "Epoch 028 | Train Loss: 0.3590 | Val Loss: 0.4855 | Val Acc: 84.09%\n",
            "Epoch 029 | Train Loss: 0.3627 | Val Loss: 0.4841 | Val Acc: 84.08%\n",
            "Epoch 030 | Train Loss: 0.3585 | Val Loss: 0.6008 | Val Acc: 81.56%\n",
            "Epoch 031 | Train Loss: 0.3561 | Val Loss: 0.5448 | Val Acc: 82.66%\n",
            "Epoch 032 | Train Loss: 0.3513 | Val Loss: 0.5335 | Val Acc: 82.51%\n",
            "Epoch 033 | Train Loss: 0.3494 | Val Loss: 0.5449 | Val Acc: 82.59%\n",
            "Epoch 034 | Train Loss: 0.3505 | Val Loss: 0.5587 | Val Acc: 82.73%\n",
            "Epoch 035 | Train Loss: 0.3466 | Val Loss: 0.5643 | Val Acc: 81.68%\n",
            "Epoch 036 | Train Loss: 0.3473 | Val Loss: 0.4552 | Val Acc: 85.13%\n",
            "Epoch 037 | Train Loss: 0.3470 | Val Loss: 0.5109 | Val Acc: 83.60%\n",
            "Epoch 038 | Train Loss: 0.3483 | Val Loss: 0.4978 | Val Acc: 83.77%\n",
            "Epoch 039 | Train Loss: 0.3456 | Val Loss: 0.4741 | Val Acc: 84.39%\n",
            "Epoch 040 | Train Loss: 0.3461 | Val Loss: 0.4611 | Val Acc: 84.68%\n",
            "Epoch 041 | Train Loss: 0.3413 | Val Loss: 0.5298 | Val Acc: 83.09%\n",
            "Epoch 042 | Train Loss: 0.3434 | Val Loss: 0.4681 | Val Acc: 84.70%\n",
            "Epoch 043 | Train Loss: 0.3335 | Val Loss: 0.5783 | Val Acc: 81.82%\n",
            "Epoch 044 | Train Loss: 0.3378 | Val Loss: 0.4568 | Val Acc: 84.46%\n",
            "Epoch 045 | Train Loss: 0.3397 | Val Loss: 0.5357 | Val Acc: 82.71%\n",
            "Epoch 046 | Train Loss: 0.3365 | Val Loss: 0.4414 | Val Acc: 85.63%\n",
            "Epoch 047 | Train Loss: 0.3381 | Val Loss: 0.4804 | Val Acc: 84.25%\n",
            "Epoch 048 | Train Loss: 0.3370 | Val Loss: 0.4569 | Val Acc: 85.49%\n",
            "Epoch 049 | Train Loss: 0.3331 | Val Loss: 0.4358 | Val Acc: 85.41%\n",
            "Epoch 050 | Train Loss: 0.3313 | Val Loss: 0.4638 | Val Acc: 85.06%\n",
            "\n",
            "FINAL RESULTS:\n",
            "With Dropout: 84.67%\n",
            "Without Dropout: 85.63%\n"
          ]
        }
      ]
    }
  ]
}